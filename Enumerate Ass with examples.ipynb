{
 "cells": [
  {
   "cell_type": "markdown",
   "id": "3ef032b0-9a46-4925-873b-1aac9ed41b26",
   "metadata": {},
   "source": [
    "Enumerate "
   ]
  },
  {
   "cell_type": "raw",
   "id": "b10ebba6-0a39-4f39-ae32-13c4770c4368",
   "metadata": {},
   "source": [
    "The enumerate() function in Python adds a counter to an iterable and returns it as an enumerate object. This object can then be used directly in for loops or converted into a list of tuples.\n",
    "\n",
    "Here are two examples demonstrating how to use enumerate():"
   ]
  },
  {
   "cell_type": "code",
   "execution_count": 1,
   "id": "ee10894d-2bef-4dd5-ac7e-16a2c747cb8d",
   "metadata": {},
   "outputs": [
    {
     "name": "stdout",
     "output_type": "stream",
     "text": [
      "Index: 0, Fruit: apple\n",
      "Index: 1, Fruit: banana\n",
      "Index: 2, Fruit: cherry\n"
     ]
    }
   ],
   "source": [
    "# Define a list\n",
    "fruits = [\"apple\", \"banana\", \"cherry\"]\n",
    "\n",
    "# Use enumerate to get index and value\n",
    "for index, fruit in enumerate(fruits):\n",
    "    print(f\"Index: {index}, Fruit: {fruit}\")"
   ]
  },
  {
   "cell_type": "code",
   "execution_count": 3,
   "id": "3f42a0ee-9b02-4557-be76-69e958729cac",
   "metadata": {},
   "outputs": [
    {
     "name": "stdout",
     "output_type": "stream",
     "text": [
      "Index: 1, Fruit: apple\n",
      "Index: 2, Fruit: banana\n",
      "Index: 3, Fruit: cherry\n"
     ]
    }
   ],
   "source": [
    "# Define a list\n",
    "fruits = [\"apple\", \"banana\", \"cherry\"]\n",
    "\n",
    "# Use enumerate with a custom start index\n",
    "for index, fruit in enumerate(fruits, start=1):\n",
    "    print(f\"Index: {index}, Fruit: {fruit}\")"
   ]
  },
  {
   "cell_type": "code",
   "execution_count": null,
   "id": "2ee4954e-deee-4aa6-9f70-818c60e95d83",
   "metadata": {},
   "outputs": [],
   "source": []
  }
 ],
 "metadata": {
  "kernelspec": {
   "display_name": "Python 3 (ipykernel)",
   "language": "python",
   "name": "python3"
  },
  "language_info": {
   "codemirror_mode": {
    "name": "ipython",
    "version": 3
   },
   "file_extension": ".py",
   "mimetype": "text/x-python",
   "name": "python",
   "nbconvert_exporter": "python",
   "pygments_lexer": "ipython3",
   "version": "3.12.4"
  }
 },
 "nbformat": 4,
 "nbformat_minor": 5
}
