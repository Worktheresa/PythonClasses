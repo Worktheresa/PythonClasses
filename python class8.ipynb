{
 "cells": [
  {
   "cell_type": "markdown",
   "id": "388d1c6b",
   "metadata": {},
   "source": [
    "## Python File Open"
   ]
  },
  {
   "cell_type": "raw",
   "id": "674ed346",
   "metadata": {},
   "source": [
    "File handling is an important part of any web application.\n",
    "\n",
    "Python has several functions for creating, reading, updating, and deleting files."
   ]
  },
  {
   "cell_type": "markdown",
   "id": "d6a3f9c1",
   "metadata": {},
   "source": [
    "### File Handling"
   ]
  },
  {
   "cell_type": "raw",
   "id": "37c73870",
   "metadata": {},
   "source": [
    "The key function for working with files in Python is the open() function.\n",
    "\n",
    "The open() function takes two parameters; filename, and mode.\n",
    "\n",
    "There are four different methods (modes) for opening a file:"
   ]
  },
  {
   "cell_type": "raw",
   "id": "4638120f",
   "metadata": {},
   "source": [
    "\"r\" - Read - Default value. Opens a file for reading, error if the file does not exist\n",
    "\n",
    "\"a\" - Append - Opens a file for appending, creates the file if it does not exist\n",
    "\n",
    "\"w\" - Write - Opens a file for writing, creates the file if it does not exist\n",
    "\n",
    "\"x\" - Create - Creates the specified file, returns an error if the file exists"
   ]
  },
  {
   "cell_type": "raw",
   "id": "7824cc53",
   "metadata": {},
   "source": [
    "In addition you can specify if the file should be handled as binary or text mode\n",
    "\n",
    "\"t\" - Text - Default value. Text mode\n",
    "\n",
    "\"b\" - Binary - Binary mode (e.g. images)"
   ]
  },
  {
   "cell_type": "raw",
   "id": "12a0341f",
   "metadata": {},
   "source": [
    "To open a file for reading it is enough to specify the name of the file:\n",
    "f = open(\"demofile.txt\")"
   ]
  },
  {
   "cell_type": "raw",
   "id": "70c0ca42",
   "metadata": {},
   "source": [
    "The code above is the same as:\n",
    "f = open(\"demofile.txt\", \"rt\")"
   ]
  },
  {
   "cell_type": "markdown",
   "id": "9bf979b1",
   "metadata": {},
   "source": [
    "### Open a File on the Server\n",
    "\n",
    "Assume we have the following file, located in the same folder as Python:"
   ]
  },
  {
   "cell_type": "raw",
   "id": "be956be5",
   "metadata": {},
   "source": [
    "To open the file, use the built-in open() function.\n",
    "\n",
    "The open() function returns a file object, which has a read() method for reading the content of the file:"
   ]
  },
  {
   "cell_type": "code",
   "execution_count": 3,
   "id": "0edfd51f",
   "metadata": {},
   "outputs": [
    {
     "name": "stdout",
     "output_type": "stream",
     "text": [
      "{\n",
      " \"cells\": [],\n",
      " \"metadata\": {},\n",
      " \"nbformat\": 4,\n",
      " \"nbformat_minor\": 5\n",
      "}\n",
      "\n",
      "Oladinde Ayomide Samuel is the G.O.A.T \n",
      "\n",
      "\n"
     ]
    }
   ],
   "source": [
    "f = open(\"demofile.txt\", \"r\")\n",
    "print(f.read())"
   ]
  },
  {
   "cell_type": "code",
   "execution_count": 5,
   "id": "9c0f513a-c863-4405-ba2c-c7d47786a8b5",
   "metadata": {},
   "outputs": [
    {
     "name": "stdout",
     "output_type": "stream",
     "text": [
      "None\n"
     ]
    }
   ],
   "source": [
    "f = open(\"demofile.txt\", \"r\")\n",
    "print(f.close())"
   ]
  },
  {
   "cell_type": "code",
   "execution_count": 3,
   "id": "66870422-86d2-4f8c-9857-84d69de6e573",
   "metadata": {},
   "outputs": [
    {
     "name": "stdout",
     "output_type": "stream",
     "text": [
      "my name is bola\n",
      "my name is  bola\n"
     ]
    }
   ],
   "source": [
    "x = \"bola\"\n",
    "print(f\"my name is {x}\")\n",
    "print(\"my name is\" + \" \", x)"
   ]
  },
  {
   "cell_type": "code",
   "execution_count": null,
   "id": "277630c7",
   "metadata": {},
   "outputs": [],
   "source": [
    "#Open a file on a different location:\n",
    "f = open(\"D:\\\\myfiles\\welcome.txt\", \"r\")\n",
    "print(f.read())"
   ]
  },
  {
   "cell_type": "code",
   "execution_count": 9,
   "id": "691e3ce3-7a24-4f88-a9f7-4e7a29a2e3f1",
   "metadata": {},
   "outputs": [
    {
     "name": "stdout",
     "output_type": "stream",
     "text": [
      "\n"
     ]
    },
    {
     "name": "stderr",
     "output_type": "stream",
     "text": [
      "<>:1: SyntaxWarning: invalid escape sequence '\\H'\n",
      "<>:1: SyntaxWarning: invalid escape sequence '\\H'\n",
      "C:\\Users\\HomePC\\AppData\\Local\\Temp\\ipykernel_10180\\1398562564.py:1: SyntaxWarning: invalid escape sequence '\\H'\n",
      "  f = open(\"C:\\\\Users\\HomePC\\Documents\\demofile1.01.txt\",\"r\")\n"
     ]
    }
   ],
   "source": [
    "f = open(\"C:\\Users\\HomePC\\Documents\\demofile1.01.txt\",\"r\")\n",
    "print(f.read())"
   ]
  },
  {
   "cell_type": "markdown",
   "id": "9c05779a",
   "metadata": {},
   "source": [
    "### Read Only Parts of the File\n",
    "\n",
    "By default the read() method returns the whole text,\n",
    "\n",
    "but you can also specify how many characters you want to return:"
   ]
  },
  {
   "cell_type": "code",
   "execution_count": 11,
   "id": "452a6d86",
   "metadata": {},
   "outputs": [
    {
     "name": "stdout",
     "output_type": "stream",
     "text": [
      "{\n",
      " \"c\n"
     ]
    }
   ],
   "source": [
    "#Return the 5 first characters of the file:\n",
    "f = open(\"demofile.txt\", \"r\")\n",
    "print(f.read(5))"
   ]
  },
  {
   "cell_type": "code",
   "execution_count": 13,
   "id": "170ca755",
   "metadata": {},
   "outputs": [
    {
     "name": "stdout",
     "output_type": "stream",
     "text": [
      "{\n",
      "\n"
     ]
    }
   ],
   "source": [
    "#Read one line of the file:\n",
    "f = open(\"demofile.txt\", \"r\")\n",
    "print(f.readline())"
   ]
  },
  {
   "cell_type": "code",
   "execution_count": 15,
   "id": "49835ff0",
   "metadata": {},
   "outputs": [
    {
     "name": "stdout",
     "output_type": "stream",
     "text": [
      "{\n",
      "\n",
      " \"cells\": [],\n",
      "\n"
     ]
    }
   ],
   "source": [
    "#Read two lines of the file:\n",
    "f = open(\"demofile.txt\", \"r\")\n",
    "print(f.readline())\n",
    "print(f.readline())"
   ]
  },
  {
   "cell_type": "code",
   "execution_count": 17,
   "id": "bc4fb678",
   "metadata": {},
   "outputs": [
    {
     "name": "stdout",
     "output_type": "stream",
     "text": [
      "{\n",
      "\n",
      " \"cells\": [],\n",
      "\n",
      " \"metadata\": {},\n",
      "\n",
      " \"nbformat\": 4,\n",
      "\n",
      " \"nbformat_minor\": 5\n",
      "\n",
      "}\n",
      "\n",
      "\n",
      "\n",
      "Oladinde Ayomide Samuel is the G.O.A.T \n",
      "\n",
      "\n",
      "\n"
     ]
    }
   ],
   "source": [
    "#Loop through the file line by line:\n",
    "f = open(\"demofile.txt\", \"r\")\n",
    "for x in f:\n",
    "  print(x)"
   ]
  },
  {
   "cell_type": "code",
   "execution_count": 19,
   "id": "44886b0a",
   "metadata": {},
   "outputs": [
    {
     "name": "stdout",
     "output_type": "stream",
     "text": [
      "{\n",
      "\n"
     ]
    }
   ],
   "source": [
    "#Close the file when you are finish with it:\n",
    "f = open(\"demofile.txt\", \"r\")\n",
    "print(f.readline())\n",
    "f.close()"
   ]
  },
  {
   "cell_type": "markdown",
   "id": "9de5cad4",
   "metadata": {},
   "source": [
    "### Write to an Existing File\n",
    "\n",
    "To write to an existing file, you must add a parameter to the open() function:"
   ]
  },
  {
   "cell_type": "raw",
   "id": "90066447",
   "metadata": {},
   "source": [
    "\"a\" - Append - will append to the end of the file\n",
    "\n",
    "\"w\" - Write - will overwrite any existing content"
   ]
  },
  {
   "cell_type": "code",
   "execution_count": null,
   "id": "4a595f72",
   "metadata": {},
   "outputs": [],
   "source": [
    "#Open the file \"demofile2.txt\" and append content to the file:\n",
    "f = open(\"demofile2.txt\", \"a\")\n",
    "f.write(\"Now the file has more content!\")\n",
    "f.close()\n",
    "\n",
    "#open and read the file after the appending:\n",
    "f = open(\"demofile2.txt\", \"r\")\n",
    "print(f.read())"
   ]
  },
  {
   "cell_type": "code",
   "execution_count": null,
   "id": "fb958efd",
   "metadata": {},
   "outputs": [],
   "source": [
    "#Open the file \"demofile3.txt\" and overwrite the content:\n",
    "f = open(\"demofile3.txt\", \"w\")\n",
    "f.write(\"Woops! I have deleted the content!\")\n",
    "f.close()\n",
    "\n",
    "#open and read the file after the appending:\n",
    "f = open(\"demofile3.txt\", \"r\")\n",
    "print(f.read())"
   ]
  },
  {
   "cell_type": "markdown",
   "id": "175e717c",
   "metadata": {},
   "source": [
    "### Create a New File\n",
    "\n",
    "To create a new file in Python, use the open() method, with one of the following parameters:"
   ]
  },
  {
   "cell_type": "raw",
   "id": "2399ec60",
   "metadata": {},
   "source": [
    "\"x\" - Create - will create a file, returns an error if the file exist\n",
    "\n",
    "\"a\" - Append - will create a file if the specified file does not exist\n",
    "\n",
    "\"w\" - Write - will create a file if the specified file does not exist"
   ]
  },
  {
   "cell_type": "code",
   "execution_count": null,
   "id": "7eba4f93",
   "metadata": {},
   "outputs": [],
   "source": [
    "#Create a file called \"myfile.txt\":\n",
    "f = open(\"myfile.txt\", \"x\")"
   ]
  },
  {
   "cell_type": "code",
   "execution_count": null,
   "id": "053ca9ab",
   "metadata": {},
   "outputs": [],
   "source": [
    "#Create a new file if it does not exist:\n",
    "f = open(\"myfile.txt\", \"w\")"
   ]
  },
  {
   "cell_type": "markdown",
   "id": "c827156d",
   "metadata": {},
   "source": [
    "### Delete a File\n",
    "\n",
    "To delete a file, you must import the OS module, and run its os.remove() function:"
   ]
  },
  {
   "cell_type": "code",
   "execution_count": null,
   "id": "f3c44d22",
   "metadata": {},
   "outputs": [],
   "source": [
    "#Remove the file \"demofile.txt\":\n",
    "import os\n",
    "os.remove(\"demofile.txt\")"
   ]
  },
  {
   "cell_type": "code",
   "execution_count": null,
   "id": "ddf7eb03",
   "metadata": {},
   "outputs": [],
   "source": [
    "#Check if file exists, then delete it:\n",
    "import os\n",
    "if os.path.exists(\"demofile.txt\"):\n",
    "  os.remove(\"demofile.txt\")\n",
    "else:\n",
    "  print(\"The file does not exist\")"
   ]
  },
  {
   "cell_type": "code",
   "execution_count": null,
   "id": "96dfded7",
   "metadata": {},
   "outputs": [],
   "source": [
    "#Remove the folder \"myfolder\":\n",
    "import os\n",
    "os.rmdir(\"myfolder\")"
   ]
  },
  {
   "cell_type": "code",
   "execution_count": null,
   "id": "8759d143",
   "metadata": {},
   "outputs": [],
   "source": []
  },
  {
   "cell_type": "code",
   "execution_count": null,
   "id": "fcb6f01a",
   "metadata": {},
   "outputs": [],
   "source": []
  },
  {
   "cell_type": "code",
   "execution_count": null,
   "id": "2f844b2b",
   "metadata": {},
   "outputs": [],
   "source": []
  },
  {
   "cell_type": "code",
   "execution_count": null,
   "id": "eb205333",
   "metadata": {},
   "outputs": [],
   "source": []
  },
  {
   "cell_type": "code",
   "execution_count": null,
   "id": "454b7b1a",
   "metadata": {},
   "outputs": [],
   "source": []
  },
  {
   "cell_type": "code",
   "execution_count": null,
   "id": "ae201493",
   "metadata": {},
   "outputs": [],
   "source": []
  }
 ],
 "metadata": {
  "kernelspec": {
   "display_name": "Python 3 (ipykernel)",
   "language": "python",
   "name": "python3"
  },
  "language_info": {
   "codemirror_mode": {
    "name": "ipython",
    "version": 3
   },
   "file_extension": ".py",
   "mimetype": "text/x-python",
   "name": "python",
   "nbconvert_exporter": "python",
   "pygments_lexer": "ipython3",
   "version": "3.12.4"
  }
 },
 "nbformat": 4,
 "nbformat_minor": 5
}
