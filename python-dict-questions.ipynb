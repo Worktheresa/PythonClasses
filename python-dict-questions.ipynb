{
 "cells": [
  {
   "cell_type": "code",
   "execution_count": null,
   "metadata": {},
   "outputs": [],
   "source": [
    "#Create a dictionary with key-value pairs for a person's name and age."
   ]
  },
  {
   "cell_type": "code",
   "execution_count": 1,
   "metadata": {},
   "outputs": [
    {
     "data": {
      "text/plain": [
       "{'name': 'temitope', 'age': 23}"
      ]
     },
     "execution_count": 1,
     "metadata": {},
     "output_type": "execute_result"
    }
   ],
   "source": [
    "human = {\n",
    "    \"name\": \"temitope\",\n",
    "    \"age\": 23\n",
    "}\n",
    "human"
   ]
  },
  {
   "cell_type": "code",
   "execution_count": null,
   "metadata": {},
   "outputs": [],
   "source": [
    "#Access the value associated with the key \"age\" in the `person` dictionary."
   ]
  },
  {
   "cell_type": "code",
   "execution_count": 3,
   "metadata": {},
   "outputs": [
    {
     "name": "stdout",
     "output_type": "stream",
     "text": [
      "23\n"
     ]
    }
   ],
   "source": [
    "print(human[\"age\"])"
   ]
  },
  {
   "cell_type": "code",
   "execution_count": null,
   "metadata": {},
   "outputs": [],
   "source": [
    "#Add a new key-value pair \"city\" with the value \"New York\" to the `person` dictionary."
   ]
  },
  {
   "cell_type": "code",
   "execution_count": 15,
   "metadata": {},
   "outputs": [
    {
     "name": "stdout",
     "output_type": "stream",
     "text": [
      "dict_keys(['name', 'age', 'city'])\n",
      "dict_keys(['name', 'age', 'city'])\n"
     ]
    },
    {
     "data": {
      "text/plain": [
       "{'name': 'temitope', 'age': 23, 'city': 'New York'}"
      ]
     },
     "execution_count": 15,
     "metadata": {},
     "output_type": "execute_result"
    }
   ],
   "source": [
    "x = human.keys()\n",
    "print(x)\n",
    "\n",
    "human[\"city\"] = \"New York\"\n",
    "print(x)\n",
    "human"
   ]
  },
  {
   "cell_type": "code",
   "execution_count": null,
   "metadata": {},
   "outputs": [],
   "source": [
    "#Get the value associated with a key using the `dict.get()` method with a default value."
   ]
  },
  {
   "cell_type": "code",
   "execution_count": 25,
   "metadata": {},
   "outputs": [
    {
     "name": "stdout",
     "output_type": "stream",
     "text": [
      "temitope\n"
     ]
    }
   ],
   "source": [
    "x = human.get(\"name\")\n",
    "print(x)"
   ]
  },
  {
   "cell_type": "code",
   "execution_count": 7,
   "metadata": {},
   "outputs": [],
   "source": [
    "#Create two dictionaries and Merge them."
   ]
  },
  {
   "cell_type": "code",
   "execution_count": 11,
   "metadata": {},
   "outputs": [
    {
     "name": "stdout",
     "output_type": "stream",
     "text": [
      "{'name': 'temitope', 'age': 23, 'city': 'New York', 'nme': 'temitayo', 'a': 17, 'cty': 'Texas'}\n"
     ]
    }
   ],
   "source": [
    "human = {\n",
    "    \"name\": \"temitope\",\n",
    "    \"age\": 23,\n",
    "    \"city\": \"New York\"\n",
    "}\n",
    "\n",
    "human_ = {\n",
    "    \"nme\": \"temitayo\",\n",
    "    \"a\": 17,\n",
    "    \"cty\": \"Texas\"\n",
    "}\n",
    "\n",
    "human.update(human_)\n",
    "\n",
    "print(human)"
   ]
  },
  {
   "cell_type": "code",
   "execution_count": null,
   "metadata": {},
   "outputs": [],
   "source": [
    "#Find the key with the maximum value in a dictionary."
   ]
  },
  {
   "cell_type": "code",
   "execution_count": 15,
   "metadata": {},
   "outputs": [
    {
     "name": "stdout",
     "output_type": "stream",
     "text": [
      "b\n"
     ]
    }
   ],
   "source": [
    "dict = {\"a\": 10, \"b\": 20, \"c\": 5}\n",
    "\n",
    "max_key = max(dict, key=dict.get)\n",
    "print(max_key)"
   ]
  },
  {
   "cell_type": "code",
   "execution_count": null,
   "metadata": {},
   "outputs": [],
   "source": [
    "#Sort the person dictionary by its keys."
   ]
  },
  {
   "cell_type": "code",
   "execution_count": 49,
   "metadata": {},
   "outputs": [
    {
     "name": "stdout",
     "output_type": "stream",
     "text": [
      "{'age': 23, 'city': 'New York', 'name': 'temitope'}\n"
     ]
    }
   ],
   "source": [
    "human = {\n",
    "    \"name\": \"temitope\",\n",
    "    \"age\": 23,\n",
    "    \"city\": \"New York\"\n",
    "}\n",
    "\n",
    "sorted_human = dict(sorted(human.items()))\n",
    "print(sorted_human)"
   ]
  },
  {
   "cell_type": "code",
   "execution_count": null,
   "metadata": {},
   "outputs": [],
   "source": [
    "#Get a list of all keys in a dictionary."
   ]
  },
  {
   "cell_type": "code",
   "execution_count": 53,
   "metadata": {},
   "outputs": [
    {
     "name": "stdout",
     "output_type": "stream",
     "text": [
      "dict_keys(['name', 'age', 'city'])\n"
     ]
    }
   ],
   "source": [
    "lst_keys = human.keys()\n",
    "print(lst_keys)"
   ]
  },
  {
   "cell_type": "code",
   "execution_count": null,
   "metadata": {},
   "outputs": [],
   "source": [
    "#Convert a list of tuples into a dictionary.\n",
    "tuple_list = [(\"a\", 1), (\"b\", 2), (\"c\", 3)]"
   ]
  },
  {
   "cell_type": "code",
   "execution_count": 59,
   "metadata": {},
   "outputs": [
    {
     "name": "stdout",
     "output_type": "stream",
     "text": [
      "{'a': 1, 'b': 2, 'c': 3}\n"
     ]
    }
   ],
   "source": [
    "tuple_list = [(\"a\", 1), (\"b\", 2), (\"c\", 3)]\n",
    "\n",
    "dict_tuples = dict(tuple_list)\n",
    "print(dict_tuples)"
   ]
  },
  {
   "cell_type": "code",
   "execution_count": null,
   "metadata": {},
   "outputs": [],
   "source": [
    "#Get a list of tuples containing key-value pairs from a dictionary."
   ]
  },
  {
   "cell_type": "code",
   "execution_count": 13,
   "metadata": {},
   "outputs": [
    {
     "name": "stdout",
     "output_type": "stream",
     "text": [
      "[('a', 10), ('b', 20), ('c', 5)]\n"
     ]
    }
   ],
   "source": [
    "dict = {\"a\": 10, \"b\": 20, \"c\": 5}\n",
    "\n",
    "tuples_list = list(dict.items())\n",
    "print(tuples_list)"
   ]
  },
  {
   "cell_type": "code",
   "execution_count": null,
   "metadata": {},
   "outputs": [],
   "source": [
    "#Update values in person dictionary using another dictionary.\n",
    "new_data = {\"age\": 31, \"city\": \"Los Angeles\"}\n"
   ]
  },
  {
   "cell_type": "code",
   "execution_count": 5,
   "metadata": {},
   "outputs": [
    {
     "name": "stdout",
     "output_type": "stream",
     "text": [
      "{'name': 'temitope', 'age': 31, 'city': 'Los Angeles'}\n"
     ]
    }
   ],
   "source": [
    "human = {\n",
    "    \"name\": \"temitope\",\n",
    "    \"age\": 23,\n",
    "    \"city\": \"New York\"\n",
    "}\n",
    "\n",
    "new_data = {\"age\": 31, \"city\": \"Los Angeles\"}\n",
    "\n",
    "human.update(new_data)\n",
    "print(human)"
   ]
  },
  {
   "cell_type": "code",
   "execution_count": null,
   "metadata": {},
   "outputs": [],
   "source": []
  }
 ],
 "metadata": {
  "kernelspec": {
   "display_name": "Python 3 (ipykernel)",
   "language": "python",
   "name": "python3"
  },
  "language_info": {
   "codemirror_mode": {
    "name": "ipython",
    "version": 3
   },
   "file_extension": ".py",
   "mimetype": "text/x-python",
   "name": "python",
   "nbconvert_exporter": "python",
   "pygments_lexer": "ipython3",
   "version": "3.12.4"
  }
 },
 "nbformat": 4,
 "nbformat_minor": 4
}
