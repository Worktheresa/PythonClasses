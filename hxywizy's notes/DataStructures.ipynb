{
 "cells": [
  {
   "cell_type": "markdown",
   "metadata": {},
   "source": [
    "## DATA STRUCTURES"
   ]
  },
  {
   "cell_type": "markdown",
   "metadata": {},
   "source": [
    "In the previous lectures, we have discussed variables and some data types and we used variables to store individual values.  In this lesson, we would learn about other data types which allows us to store mutiple values to a variable. "
   ]
  },
  {
   "cell_type": "markdown",
   "metadata": {},
   "source": [
    "## STRINGS"
   ]
  },
  {
   "cell_type": "markdown",
   "metadata": {},
   "source": [
    "A string is a sequence of characters. In Python, strings are enclosed in single or double quotes. Enclosing strings in double quotes allows us to have a single quote in the string. \n",
    "For string values that spans across multiple lines, we use three single/double quotes to denote such strings."
   ]
  },
  {
   "cell_type": "code",
   "execution_count": 2,
   "metadata": {},
   "outputs": [],
   "source": [
    "str1 = 'My name is Alice.'\n",
    "str2 = \"Hannah's friend is the owner of the bicycle.\"\n",
    "text = '''Today was a very exciting day at school for the students as we had an award ceremony. \n",
    "The best students were given very expensive gifts.'''"
   ]
  },
  {
   "cell_type": "code",
   "execution_count": 47,
   "metadata": {},
   "outputs": [
    {
     "data": {
      "text/plain": [
       "45000"
      ]
     },
     "execution_count": 47,
     "metadata": {},
     "output_type": "execute_result"
    }
   ],
   "source": [
    "def myHotel(price, noNights):\n",
    "    totalCost = price * noNights\n",
    "    return totalCost\n",
    "\n",
    "\n",
    "myHotel(15000, 3)\n"
   ]
  },
  {
   "cell_type": "markdown",
   "metadata": {},
   "source": [
    "## STRING INDEXING AND SLICING"
   ]
  },
  {
   "cell_type": "markdown",
   "metadata": {},
   "source": [
    "To access element(s) in a string, we use square brackets with the element's index or position enclosed within the brackets. In Python and some other programming languages, index starts at 0."
   ]
  },
  {
   "cell_type": "code",
   "execution_count": 3,
   "metadata": {},
   "outputs": [
    {
     "name": "stdout",
     "output_type": "stream",
     "text": [
      "M\n",
      "i\n"
     ]
    }
   ],
   "source": [
    "print(str1[0])\n",
    "print(str1[8])"
   ]
  },
  {
   "cell_type": "code",
   "execution_count": null,
   "metadata": {},
   "outputs": [],
   "source": []
  },
  {
   "cell_type": "markdown",
   "metadata": {},
   "source": [
    "Python allows us to use negative indexing. Negative indexing starts at the end of the end of string to retrieve elements. To get the last element in a string, we use -1 as index,"
   ]
  },
  {
   "cell_type": "code",
   "execution_count": 4,
   "metadata": {},
   "outputs": [
    {
     "name": "stdout",
     "output_type": "stream",
     "text": [
      ".\n",
      "s\n"
     ]
    }
   ],
   "source": [
    "print(str2[-1])\n",
    "print(text[-2])"
   ]
  },
  {
   "cell_type": "markdown",
   "metadata": {},
   "source": [
    "We can obtain a slice of a string by specifying the start and end index. Please, note that the element at the specified end index is not always included. "
   ]
  },
  {
   "cell_type": "code",
   "execution_count": 5,
   "metadata": {},
   "outputs": [
    {
     "name": "stdout",
     "output_type": "stream",
     "text": [
      "yot\n",
      "Toyot\n"
     ]
    }
   ],
   "source": [
    "car = 'Toyota'\n",
    "print(car[2:5])\n",
    "print(car[-6:-1])"
   ]
  },
  {
   "cell_type": "markdown",
   "metadata": {},
   "source": [
    "When trying to retrive a slice of a string, we can omit the start and/or end index. Omitting the start index would retrieve a string slice from the start of the string to the specified end index while omitting the end index would retrieve a string slice from the specified start index to the end of the string. Omitting both would retrive the entire string."
   ]
  },
  {
   "cell_type": "code",
   "execution_count": 6,
   "metadata": {},
   "outputs": [
    {
     "name": "stdout",
     "output_type": "stream",
     "text": [
      "Toy\n",
      "ota\n",
      "Toyota\n"
     ]
    }
   ],
   "source": [
    "print(car[:3])\n",
    "print(car[3:])\n",
    "print(car[:])"
   ]
  },
  {
   "cell_type": "markdown",
   "metadata": {},
   "source": [
    "## STRING IMMUTABILITY"
   ]
  },
  {
   "cell_type": "markdown",
   "metadata": {},
   "source": [
    "Strings are immutable i.e. they cannot be changed once they have been created. Mutating a string would throw an error."
   ]
  },
  {
   "cell_type": "code",
   "execution_count": 7,
   "metadata": {},
   "outputs": [
    {
     "ename": "TypeError",
     "evalue": "'str' object does not support item assignment",
     "output_type": "error",
     "traceback": [
      "\u001b[1;31m---------------------------------------------------------------------------\u001b[0m",
      "\u001b[1;31mTypeError\u001b[0m                                 Traceback (most recent call last)",
      "\u001b[1;32m<ipython-input-7-86fb958320f4>\u001b[0m in \u001b[0;36m<module>\u001b[1;34m\u001b[0m\n\u001b[1;32m----> 1\u001b[1;33m \u001b[0mcar\u001b[0m\u001b[1;33m[\u001b[0m\u001b[1;36m0\u001b[0m\u001b[1;33m]\u001b[0m \u001b[1;33m=\u001b[0m\u001b[1;34m'm'\u001b[0m\u001b[1;33m\u001b[0m\u001b[1;33m\u001b[0m\u001b[0m\n\u001b[0m",
      "\u001b[1;31mTypeError\u001b[0m: 'str' object does not support item assignment"
     ]
    }
   ],
   "source": [
    "car[0] ='m'"
   ]
  },
  {
   "cell_type": "markdown",
   "metadata": {},
   "source": [
    "## STRING OPERATORS"
   ]
  },
  {
   "cell_type": "markdown",
   "metadata": {},
   "source": [
    "Just like the numeric data types, Strings have its own operators. \n",
    "\n",
    "|**OPERATOR**|**DESCRIPTION**|**EXAMPLE**|\n",
    "|------------|---------------|-----------|\n",
    "|+|concatenates or joins two or more strings together| str1 + str2|\n",
    "|`*`|duplicates a string a number of specified times| str1 * 3|\n",
    "|in|returns True if the specified element/string slice is in the string. Otherwise returns False| 'a' in str1|\n",
    "|not in| returns True if the specified element/string slice is not in the string. Otherwise returns False.| 'an' not in str2|"
   ]
  },
  {
   "cell_type": "code",
   "execution_count": 8,
   "metadata": {},
   "outputs": [
    {
     "name": "stdout",
     "output_type": "stream",
     "text": [
      "Watermelon\n",
      "WaterWater\n",
      "True\n",
      "True\n"
     ]
    }
   ],
   "source": [
    "str1 = 'Water'\n",
    "str2 = 'melon'\n",
    "str3 = str1+str2\n",
    "print(str3)\n",
    "print(str1 * 2)\n",
    "print('erm' in str3)\n",
    "print('W' not in str2)"
   ]
  },
  {
   "cell_type": "markdown",
   "metadata": {},
   "source": [
    "## ESCAPE CHARACTERS"
   ]
  },
  {
   "cell_type": "markdown",
   "metadata": {},
   "source": [
    "An escape character is used to insert characters that are otherwise impossible to put into a string. An escape character consists of a backslash (`\\`) followed by the character you want to add to the string. An example of such character is using a single quote inside a string enclosed in single quotes."
   ]
  },
  {
   "cell_type": "code",
   "execution_count": 9,
   "metadata": {},
   "outputs": [],
   "source": [
    "a ='Alice\\'s dog is black in color'"
   ]
  },
  {
   "cell_type": "markdown",
   "metadata": {},
   "source": [
    "Some other escape characters used in Python are:\n",
    "\n",
    "|**code**|**Result**|\n",
    "|--------|----------|\n",
    "|`\\'`|Single quote|\n",
    "|`\\\"`|Double quote|\n",
    "|`\\\\`|Backslash|\n",
    "|\\n|New line|\n",
    "|\\r|Carriage return|\n",
    "|\\t|Tab|\n",
    "|\\b|Backspace|\n"
   ]
  },
  {
   "cell_type": "code",
   "execution_count": 10,
   "metadata": {},
   "outputs": [
    {
     "name": "stdout",
     "output_type": "stream",
     "text": [
      "I am a girl.\n",
      "I am five years old\n",
      "I am a girl.I am five years old\n"
     ]
    }
   ],
   "source": [
    "print('I am a girl.\\nI am five years old')\n",
    "print('I am a girl. \\bI am five years old')"
   ]
  },
  {
   "cell_type": "markdown",
   "metadata": {},
   "source": [
    "## RAW STRINGS\n",
    "Raw strings (denoted as r before the opening quotation marks) are used to completely ignore all escape characters and print any backslash that appears in the string. They are commonly used with Regular Expressions. "
   ]
  },
  {
   "cell_type": "code",
   "execution_count": 11,
   "metadata": {},
   "outputs": [
    {
     "name": "stdout",
     "output_type": "stream",
     "text": [
      "Alice\\'s cat is beautiful\n"
     ]
    }
   ],
   "source": [
    "str1 = r'Alice\\'s cat is beautiful'\n",
    "print(str1)"
   ]
  },
  {
   "cell_type": "markdown",
   "metadata": {},
   "source": [
    "## STRING METHODS"
   ]
  },
  {
   "cell_type": "markdown",
   "metadata": {},
   "source": [
    "A method is like a function but it is called on a value using the dot notation. Objects in Python have methods. To see a list of an object's method, we use the dir() function."
   ]
  },
  {
   "cell_type": "code",
   "execution_count": 12,
   "metadata": {},
   "outputs": [
    {
     "name": "stdout",
     "output_type": "stream",
     "text": [
      "['__add__', '__class__', '__contains__', '__delattr__', '__dir__', '__doc__', '__eq__', '__format__', '__ge__', '__getattribute__', '__getitem__', '__getnewargs__', '__gt__', '__hash__', '__init__', '__init_subclass__', '__iter__', '__le__', '__len__', '__lt__', '__mod__', '__mul__', '__ne__', '__new__', '__reduce__', '__reduce_ex__', '__repr__', '__rmod__', '__rmul__', '__setattr__', '__sizeof__', '__str__', '__subclasshook__', 'capitalize', 'casefold', 'center', 'count', 'encode', 'endswith', 'expandtabs', 'find', 'format', 'format_map', 'index', 'isalnum', 'isalpha', 'isascii', 'isdecimal', 'isdigit', 'isidentifier', 'islower', 'isnumeric', 'isprintable', 'isspace', 'istitle', 'isupper', 'join', 'ljust', 'lower', 'lstrip', 'maketrans', 'partition', 'replace', 'rfind', 'rindex', 'rjust', 'rpartition', 'rsplit', 'rstrip', 'split', 'splitlines', 'startswith', 'strip', 'swapcase', 'title', 'translate', 'upper', 'zfill']\n"
     ]
    }
   ],
   "source": [
    "print(dir(str))"
   ]
  },
  {
   "cell_type": "markdown",
   "metadata": {},
   "source": [
    "Due to the immutability property of strings, all string methods return a new string. They do not change the original string. Let's see some of the commonly used string methods."
   ]
  },
  {
   "cell_type": "code",
   "execution_count": 13,
   "metadata": {},
   "outputs": [
    {
     "name": "stdout",
     "output_type": "stream",
     "text": [
      "hello\n",
      "HELLO\n",
      "Yello\n",
      "4\n",
      "2\n"
     ]
    }
   ],
   "source": [
    "greeting = 'Hello'\n",
    "#changing a string to lower case\n",
    "print(greeting.lower())\n",
    "#changing a string to upper case\n",
    "print(greeting.upper())\n",
    "#Replace an element in a string \n",
    "print(greeting.replace('H','Y'))\n",
    "#Get the index of an element in a string\n",
    "print(greeting.find('o'))\n",
    "#Count the number of times an element occurs in a string\n",
    "print(greeting.count('l'))"
   ]
  },
  {
   "cell_type": "markdown",
   "metadata": {},
   "source": [
    "## STRING FORMATTING"
   ]
  },
  {
   "cell_type": "markdown",
   "metadata": {},
   "source": [
    "As seen in previous lessons, we can't combine strings with numeric data types using the + operator. The format operator, %, allows us to construct a string while replacing a part of the string with values stored in a variable. Below is a table of format operators in python.\n",
    "\n",
    "|**Format operator**|**Description**|\n",
    "|-------------------|---------------|\n",
    "|%c|Character|\n",
    "|%s|String|\n",
    "|%i or %d|signed decimal integer|\n",
    "|%u|Unsigned decimal integer|\n",
    "|%f|Floating point number|\n",
    "|%e or %E| Exponential|"
   ]
  },
  {
   "cell_type": "code",
   "execution_count": 14,
   "metadata": {},
   "outputs": [
    {
     "name": "stdout",
     "output_type": "stream",
     "text": [
      "The blender costs £45\n",
      "3 packs of pencils cost £45\n"
     ]
    }
   ],
   "source": [
    "price = '£45'\n",
    "quantity = 3\n",
    "print('The blender costs %s' %(price))\n",
    "print('%d packs of pencils cost %s' %(quantity, price))"
   ]
  },
  {
   "cell_type": "markdown",
   "metadata": {},
   "source": [
    "Another way to combine strings and numeric data types is using the format() method. The format() method takes the passed arguments, formats them, and places them in the string where the placeholders {} are."
   ]
  },
  {
   "cell_type": "code",
   "execution_count": 15,
   "metadata": {},
   "outputs": [
    {
     "name": "stdout",
     "output_type": "stream",
     "text": [
      "I am 17 years old\n",
      "I want 3 packs of Pizza for $20\n"
     ]
    }
   ],
   "source": [
    "age = 17\n",
    "txt = \"I am {} years old\"\n",
    "txt = txt.format(age)\n",
    "print(txt)\n",
    "\n",
    "#format() with multiple arguments\n",
    "food = 'Pizza'\n",
    "quantity = 3\n",
    "price = '$20'\n",
    "order = \"I want {} packs of {} for {}\"\n",
    "print(order.format(quantity, food, price))"
   ]
  },
  {
   "cell_type": "markdown",
   "metadata": {},
   "source": [
    "The format() method also allows us to  use index numbers {0} or key names to be sure the arguments are placed in the correct placeholders"
   ]
  },
  {
   "cell_type": "code",
   "execution_count": 16,
   "metadata": {},
   "outputs": [
    {
     "name": "stdout",
     "output_type": "stream",
     "text": [
      "I want to pay $20 for 3 packs of Pizza\n",
      "I want 3 packs of Pizza for $20\n"
     ]
    }
   ],
   "source": [
    "order = \"I want to pay {2} for {0} packs of {1}\"\n",
    "print(order.format(quantity, food, price))\n",
    "#using key names with format()\n",
    "order = \"I want {q} packs of {f} for {p}\"\n",
    "print(order.format(q = quantity, f = food, p = price))"
   ]
  },
  {
   "cell_type": "markdown",
   "metadata": {},
   "source": [
    "A shorter version of the format() method is prefixing the opening quote with f and writing the names of the variables within the placeholders."
   ]
  },
  {
   "cell_type": "code",
   "execution_count": 17,
   "metadata": {},
   "outputs": [
    {
     "name": "stdout",
     "output_type": "stream",
     "text": [
      "I want to order 3 packs of Pizza for $20\n"
     ]
    }
   ],
   "source": [
    "order = f\"I want to order {quantity} packs of {food} for {price}\"\n",
    "print(order)"
   ]
  },
  {
   "cell_type": "markdown",
   "metadata": {},
   "source": [
    "## LISTS"
   ]
  },
  {
   "cell_type": "markdown",
   "metadata": {},
   "source": [
    "A list is a sequence of values which are ordered and mutable (can be modified). Values in a list are called items or elements. Items are enclosed in a square brackets seperated by a comma. "
   ]
  },
  {
   "cell_type": "code",
   "execution_count": 18,
   "metadata": {},
   "outputs": [],
   "source": [
    "grocery_list =['Bread', 'Rice', 'Oranges', 'Chicken', 'Fish', 'Detergent']"
   ]
  },
  {
   "cell_type": "markdown",
   "metadata": {},
   "source": [
    "Lists are heteregenous in nature, meaning, items in the lists can be of any datatype including a list. "
   ]
  },
  {
   "cell_type": "code",
   "execution_count": 19,
   "metadata": {},
   "outputs": [],
   "source": [
    "mixed_list = [1,'True', 3.4, 'Apple', [3,5,6.5]]"
   ]
  },
  {
   "cell_type": "markdown",
   "metadata": {},
   "source": [
    "## LIST INDEXING AND SLICING"
   ]
  },
  {
   "cell_type": "markdown",
   "metadata": {},
   "source": [
    "List preserves the order in which items are stored / entered (ordered). Because of this property of a list, we can access any item in a list using its index or position. Just like strings, lists are zero-based index."
   ]
  },
  {
   "cell_type": "code",
   "execution_count": 20,
   "metadata": {},
   "outputs": [
    {
     "name": "stdout",
     "output_type": "stream",
     "text": [
      "Bread\n",
      "Oranges\n"
     ]
    }
   ],
   "source": [
    "print(grocery_list[0])\n",
    "print(grocery_list[2])"
   ]
  },
  {
   "cell_type": "markdown",
   "metadata": {},
   "source": [
    "To access an item in a nested list, we would have to specify more than one index. The first index would be the index of the nested list and the second index would be the index of the item within the nested list. "
   ]
  },
  {
   "cell_type": "code",
   "execution_count": 21,
   "metadata": {},
   "outputs": [
    {
     "name": "stdout",
     "output_type": "stream",
     "text": [
      "6.5\n"
     ]
    }
   ],
   "source": [
    "print(mixed_list[4][2])"
   ]
  },
  {
   "cell_type": "markdown",
   "metadata": {},
   "source": [
    "Just like strings, we can use negative indexing which allows us to access a list items from the end of a list. To retrieve the item at the end of a list, the index is -1."
   ]
  },
  {
   "cell_type": "code",
   "execution_count": 22,
   "metadata": {},
   "outputs": [
    {
     "name": "stdout",
     "output_type": "stream",
     "text": [
      "[3, 5, 6.5]\n",
      "Apple\n"
     ]
    }
   ],
   "source": [
    "print(mixed_list[-1])\n",
    "print(mixed_list[-2])"
   ]
  },
  {
   "cell_type": "markdown",
   "metadata": {},
   "source": [
    "We can also retrieve a slice of a list. We just need to specify the start and end index (item at the end index is not included)"
   ]
  },
  {
   "cell_type": "code",
   "execution_count": 23,
   "metadata": {},
   "outputs": [
    {
     "name": "stdout",
     "output_type": "stream",
     "text": [
      "['Oranges', 'Chicken']\n"
     ]
    }
   ],
   "source": [
    "print(grocery_list[2:4])"
   ]
  },
  {
   "cell_type": "markdown",
   "metadata": {},
   "source": [
    "If the start index is omitted, Python retrieves the items from the beginning of the list up to the specified end index. If the end index is omitted, Python retrieves the items from the specified start index to the end of the list. What do you think would happen when both the start and end index are omitted?  "
   ]
  },
  {
   "cell_type": "code",
   "execution_count": 24,
   "metadata": {},
   "outputs": [
    {
     "name": "stdout",
     "output_type": "stream",
     "text": [
      "['Bread', 'Rice', 'Oranges']\n",
      "['Chicken', 'Fish', 'Detergent']\n",
      "['Bread', 'Rice', 'Oranges', 'Chicken', 'Fish', 'Detergent']\n"
     ]
    }
   ],
   "source": [
    "print(grocery_list[:3])\n",
    "print(grocery_list[3:])\n",
    "print(grocery_list[:])"
   ]
  },
  {
   "cell_type": "markdown",
   "metadata": {},
   "source": [
    "## LIST MUTABILITY"
   ]
  },
  {
   "cell_type": "markdown",
   "metadata": {},
   "source": [
    "Unlike strings, lists are mutable (i.e. they can be modified after it has been created)."
   ]
  },
  {
   "cell_type": "code",
   "execution_count": 25,
   "metadata": {},
   "outputs": [
    {
     "name": "stdout",
     "output_type": "stream",
     "text": [
      "[5, 'True', 3.4, 'Apple', [3, 5, 6.5]]\n",
      "[2, False, 3.4, 'Apple', [3, 5, 6.5]]\n"
     ]
    }
   ],
   "source": [
    "mixed_list[0] = 5\n",
    "print(mixed_list)\n",
    "\n",
    "#we can also mutate a slice of the list\n",
    "mixed_list[:2] = [2,False]\n",
    "print(mixed_list)"
   ]
  },
  {
   "cell_type": "markdown",
   "metadata": {},
   "source": [
    "The **del** keyword is used to delete an item at the specified index in a list."
   ]
  },
  {
   "cell_type": "code",
   "execution_count": 26,
   "metadata": {},
   "outputs": [
    {
     "name": "stdout",
     "output_type": "stream",
     "text": [
      "[2, False, 3.4, 'Apple']\n"
     ]
    }
   ],
   "source": [
    "del mixed_list[4]\n",
    "print(mixed_list)"
   ]
  },
  {
   "cell_type": "markdown",
   "metadata": {},
   "source": [
    "## LOOPING THROUGH A LIST"
   ]
  },
  {
   "cell_type": "markdown",
   "metadata": {},
   "source": [
    "For loops can be used to iterate through a list in different ways. Let's see some examples"
   ]
  },
  {
   "cell_type": "code",
   "execution_count": 27,
   "metadata": {},
   "outputs": [
    {
     "name": "stdout",
     "output_type": "stream",
     "text": [
      "I want to buy Bread\n",
      "I want to buy Rice\n",
      "I want to buy Oranges\n",
      "I want to buy Chicken\n",
      "I want to buy Fish\n",
      "I want to buy Detergent\n"
     ]
    }
   ],
   "source": [
    "for grocery in grocery_list:\n",
    "    print('I want to buy', grocery)"
   ]
  },
  {
   "cell_type": "markdown",
   "metadata": {},
   "source": [
    "We can also use the len() function together with the range) function to iterate through a list. Remember, the len() returns the number of items in a sequence. "
   ]
  },
  {
   "cell_type": "code",
   "execution_count": 28,
   "metadata": {},
   "outputs": [
    {
     "name": "stdout",
     "output_type": "stream",
     "text": [
      "Items in my shoppig list are:\n",
      "1 Bread\n",
      "2 Rice\n",
      "3 Oranges\n",
      "4 Chicken\n",
      "5 Fish\n",
      "6 Detergent\n"
     ]
    }
   ],
   "source": [
    "print('Items in my shoppig list are:')\n",
    "for i in range(len(grocery_list)):\n",
    "    print(i+1, grocery_list[i])"
   ]
  },
  {
   "cell_type": "markdown",
   "metadata": {},
   "source": [
    "In the above example, we added 1 to i because by default, range starts from index 0 except when the start index is specified and we do not want to start our numbering with 0. Lists are zero-based index, so there is no need to add 1 when accessing the items in a list."
   ]
  },
  {
   "cell_type": "markdown",
   "metadata": {},
   "source": [
    "A better way to write the above example is using the enumerate() function. The enumerate() function allows us the keep count of the iterations. We can specify a start for the count, by default start is 0. Let's see how its done."
   ]
  },
  {
   "cell_type": "code",
   "execution_count": 29,
   "metadata": {},
   "outputs": [
    {
     "name": "stdout",
     "output_type": "stream",
     "text": [
      "Items in my shopping list are:\n",
      "0 Bread\n",
      "1 Rice\n",
      "2 Oranges\n",
      "3 Chicken\n",
      "4 Fish\n",
      "5 Detergent\n",
      "Items in my shopping list are:\n",
      "1 Bread\n",
      "2 Rice\n",
      "3 Oranges\n",
      "4 Chicken\n",
      "5 Fish\n",
      "6 Detergent\n"
     ]
    }
   ],
   "source": [
    "print('Items in my shopping list are:')\n",
    "for index, item in enumerate(grocery_list):\n",
    "    print(index, item)\n",
    "#starting the counter at 1      \n",
    "print('Items in my shopping list are:')\n",
    "for index, item in enumerate(grocery_list, 1):\n",
    "    print(index, item)"
   ]
  },
  {
   "cell_type": "markdown",
   "metadata": {},
   "source": [
    "## LIST OPERATORS"
   ]
  },
  {
   "cell_type": "markdown",
   "metadata": {},
   "source": [
    "String's **+, `*`, in** and **not in** operators are also applicable to lists."
   ]
  },
  {
   "cell_type": "code",
   "execution_count": 30,
   "metadata": {},
   "outputs": [
    {
     "name": "stdout",
     "output_type": "stream",
     "text": [
      "List concatenation ['a', 'b', 'c', 'd', 1, 2, 3, 4]\n",
      "List replication ['a', 'b', 'c', 'd', 'a', 'b', 'c', 'd']\n",
      "True\n",
      "False\n",
      "True\n",
      "False\n"
     ]
    }
   ],
   "source": [
    "A = ['a', 'b', 'c', 'd']\n",
    "B = [1,2,3,4]\n",
    "\n",
    "print('List concatenation',A + B)\n",
    "print('List replication', A * 2)\n",
    "print(2 in B)\n",
    "print(5 in B)\n",
    "print('e' not in A)\n",
    "print('b' not in A)"
   ]
  },
  {
   "cell_type": "markdown",
   "metadata": {},
   "source": [
    "## LIST METHODS"
   ]
  },
  {
   "cell_type": "markdown",
   "metadata": {},
   "source": [
    "Each data type has its own methods. List has several useful data types and we will only discuss the commonly used list methods in this notebook. For more information on other list methods, click [Python List Methods](https://docs.python.org/3/tutorial/datastructures.html)"
   ]
  },
  {
   "cell_type": "code",
   "execution_count": 31,
   "metadata": {},
   "outputs": [
    {
     "name": "stdout",
     "output_type": "stream",
     "text": [
      "['red', 'blue', 'green', 'yellow']\n",
      "['red', 'blue', 'green', 'yellow', 'purple', 'brown']\n",
      "['red', 'blue', 'green', 'yellow', 'pink', 'purple', 'brown']\n",
      "3\n",
      "['blue', 'brown', 'green', 'pink', 'purple', 'red', 'yellow']\n",
      "['yellow', 'red', 'purple', 'pink', 'green', 'brown', 'blue']\n"
     ]
    }
   ],
   "source": [
    "colors = ['red', 'blue', 'green']\n",
    "#Adding a new item to the end of list\n",
    "colors.append('yellow')\n",
    "print(colors)\n",
    "#Adding a list of items to the end of the list\n",
    "colors.extend(['purple', 'brown'])\n",
    "print(colors)\n",
    "#Inserting an item at a specified index\n",
    "colors.insert(4,'pink')\n",
    "print(colors)\n",
    "#Find the index of the specified item\n",
    "print(colors.index('yellow'))\n",
    "#sorting the list in ascending order\n",
    "colors.sort()\n",
    "print(colors)\n",
    "#sorting the list in descending order \n",
    "colors.sort(reverse=True)\n",
    "print(colors)"
   ]
  },
  {
   "cell_type": "markdown",
   "metadata": {},
   "source": [
    "## LIST AND STRINGS"
   ]
  },
  {
   "cell_type": "markdown",
   "metadata": {},
   "source": [
    "List and strings are sequences and they have many things (methods and operators) in common. We can convert a string to a list using the list constructor and split() function and vice versa using the join() function. Let's see how to do these."
   ]
  },
  {
   "cell_type": "code",
   "execution_count": 32,
   "metadata": {},
   "outputs": [
    {
     "name": "stdout",
     "output_type": "stream",
     "text": [
      "['w', 'a', 't', 'e', 'r', 'm', 'e', 'l', 'o', 'n']\n",
      "['My', 'favourite', 'sport', 'is', 'skipping']\n",
      "['ha', 'haha', 'ha', 'haha']\n"
     ]
    }
   ],
   "source": [
    "fruit = 'watermelon'\n",
    "a = 'My favourite sport is skipping'\n",
    "ha = 'ha-haha-ha-haha'\n",
    "#converting a string to a list using the list() constructor\n",
    "fruit_list = list(fruit)\n",
    "print(fruit_list)\n",
    "#converting a string into a list of strings using the split() method\n",
    "a_list = a.split()\n",
    "print(a_list)\n",
    "#By default, the split method splits a string using a whitespace as the delimeter. \n",
    "ha_list = ha.split('-')\n",
    "print(ha_list)"
   ]
  },
  {
   "cell_type": "code",
   "execution_count": null,
   "metadata": {},
   "outputs": [],
   "source": []
  },
  {
   "cell_type": "code",
   "execution_count": 33,
   "metadata": {},
   "outputs": [
    {
     "name": "stdout",
     "output_type": "stream",
     "text": [
      "The album was released in the year 1960\n"
     ]
    }
   ],
   "source": [
    "#converting a list to a string using the join() method\n",
    "words_list = ['The', 'album', 'was', 'released', 'in', 'the', 'year', '1960']\n",
    "words = \" \".join(words_list)\n",
    "print(words)"
   ]
  },
  {
   "cell_type": "markdown",
   "metadata": {},
   "source": [
    "## LIST COMPREHNSION"
   ]
  },
  {
   "cell_type": "markdown",
   "metadata": {},
   "source": [
    "List comprehensions provide a concise way to create lists using an iterable or sequence. Suppose we want to create a list of squares for numbers in another list. We can achieve this in fewer lines of codes using list comprehension."
   ]
  },
  {
   "cell_type": "code",
   "execution_count": 34,
   "metadata": {},
   "outputs": [
    {
     "name": "stdout",
     "output_type": "stream",
     "text": [
      "[1, 4, 9, 16, 25, 36, 64, 81, 100]\n",
      "[1, 4, 9, 16, 25, 36, 64, 81, 100]\n"
     ]
    }
   ],
   "source": [
    "numbers = [1,2,3,4,5,6,8,9,10]\n",
    "#without list comprehension\n",
    "squares = []\n",
    "for n in numbers:\n",
    "    squares.append(n**2)\n",
    "print (squares)\n",
    "\n",
    "#with list comprehension\n",
    "squares = [n**2 for n in numbers]\n",
    "print(squares)"
   ]
  },
  {
   "cell_type": "markdown",
   "metadata": {},
   "source": [
    "We can also use conditionals with list comprehension."
   ]
  },
  {
   "cell_type": "code",
   "execution_count": 35,
   "metadata": {},
   "outputs": [
    {
     "name": "stdout",
     "output_type": "stream",
     "text": [
      "[2, 4, 6, 8, 10]\n"
     ]
    }
   ],
   "source": [
    "even_numbers = [n for n in numbers if n %2 == 0]\n",
    "print(even_numbers)"
   ]
  },
  {
   "cell_type": "markdown",
   "metadata": {},
   "source": [
    "## TUPLES"
   ]
  },
  {
   "cell_type": "markdown",
   "metadata": {},
   "source": [
    "A tuple is a sequence of values that is ordered and immutable(unchangeable). Tuples are usually enclosed in parenthesis for readability. If the parenthesis are omitted, the syntax is still valid. Just like Lists, tuples can contain any data type. "
   ]
  },
  {
   "cell_type": "code",
   "execution_count": 36,
   "metadata": {},
   "outputs": [],
   "source": [
    "#A tuple with only one element. Take note of the comma.\n",
    "tuple1 = ('apple',)\n",
    "grocery_tuple = ('apple', 'banana', 'milk', 'plantain', 'rice', 'egg')\n",
    "#A tuple without parenthesis\n",
    "mixed_tuple = 'Brian', '25-04-1997', 23, 65.8"
   ]
  },
  {
   "cell_type": "markdown",
   "metadata": {},
   "source": [
    "## ACCESSING ITEMS / ELEMENTS IN A TUPLE"
   ]
  },
  {
   "cell_type": "markdown",
   "metadata": {},
   "source": [
    "Just like strings and lists, we can access items in a tuple using its index or postion enclosed in square brackets."
   ]
  },
  {
   "cell_type": "code",
   "execution_count": 37,
   "metadata": {},
   "outputs": [
    {
     "name": "stdout",
     "output_type": "stream",
     "text": [
      "apple\n",
      "egg\n",
      "('25-04-1997', 23)\n",
      "('Brian', '25-04-1997', 23)\n"
     ]
    }
   ],
   "source": [
    "print(grocery_tuple[0])\n",
    "print(grocery_tuple[-1])\n",
    "print(mixed_tuple[1:3])\n",
    "print(mixed_tuple[-4:-1])"
   ]
  },
  {
   "cell_type": "markdown",
   "metadata": {},
   "source": [
    "## TUPLE ASSIGNMENT"
   ]
  },
  {
   "cell_type": "markdown",
   "metadata": {},
   "source": [
    "We can assign a sequence (e.g lists , tuples) elements to more than one variable at a time using a tuple. To avoid a ValueError, the numbers of variables on the left must be equal to the number of values on the right"
   ]
  },
  {
   "cell_type": "code",
   "execution_count": 38,
   "metadata": {},
   "outputs": [
    {
     "name": "stdout",
     "output_type": "stream",
     "text": [
      "3\n",
      "Brian is 5.8ft years old and 25 tall.\n",
      "Username: pearl\n",
      "Domain: python.org\n",
      "t\n"
     ]
    }
   ],
   "source": [
    "x,y,z = (3,6,9)\n",
    "print(x)\n",
    "#Tuple assignments with lists\n",
    "name, age, height= {'Brian', 25, '5.8ft'}\n",
    "print(f\"{name} is {age} years old and {height} tall.\")\n",
    "emailAddress = 'pearl@python.org'\n",
    "(username, domain) = emailAddress.split('@')\n",
    "print(f'Username: {username}\\nDomain: {domain}')\n",
    "#Tuple assignmet with string\n",
    "a,b,c = 'cat'\n",
    "print(c)"
   ]
  },
  {
   "cell_type": "markdown",
   "metadata": {},
   "source": [
    "## TUPLE IMMUTABILITY"
   ]
  },
  {
   "cell_type": "markdown",
   "metadata": {},
   "source": [
    "Tuples are immutable. Once they have been created, they cannot be modified. Attempting to modify a tuple would result in a TypeError."
   ]
  },
  {
   "cell_type": "code",
   "execution_count": 39,
   "metadata": {},
   "outputs": [
    {
     "ename": "TypeError",
     "evalue": "'tuple' object does not support item assignment",
     "output_type": "error",
     "traceback": [
      "\u001b[1;31m---------------------------------------------------------------------------\u001b[0m",
      "\u001b[1;31mTypeError\u001b[0m                                 Traceback (most recent call last)",
      "\u001b[1;32m<ipython-input-39-9c8086701e24>\u001b[0m in \u001b[0;36m<module>\u001b[1;34m\u001b[0m\n\u001b[1;32m----> 1\u001b[1;33m \u001b[0mgrocery_tuple\u001b[0m\u001b[1;33m[\u001b[0m\u001b[1;36m2\u001b[0m\u001b[1;33m]\u001b[0m \u001b[1;33m=\u001b[0m \u001b[1;34m'rice'\u001b[0m\u001b[1;33m\u001b[0m\u001b[1;33m\u001b[0m\u001b[0m\n\u001b[0m",
      "\u001b[1;31mTypeError\u001b[0m: 'tuple' object does not support item assignment"
     ]
    }
   ],
   "source": [
    "grocery_tuple[2] = 'rice'"
   ]
  },
  {
   "cell_type": "code",
   "execution_count": null,
   "metadata": {},
   "outputs": [],
   "source": [
    "del grocery_tuple[-1]"
   ]
  },
  {
   "cell_type": "markdown",
   "metadata": {},
   "source": [
    "As seen in the above, we can't delete an item in a tuple but we cant delete the entire tuple using the del keyword."
   ]
  },
  {
   "cell_type": "markdown",
   "metadata": {},
   "source": [
    "Let's look at a very interesting scenario. Suppose a tuple has a mutable data structure (e.g list) as one of its items. Can we mutate the list considering tuples are immutable?"
   ]
  },
  {
   "cell_type": "code",
   "execution_count": null,
   "metadata": {},
   "outputs": [],
   "source": [
    "tuple2 = (2, [], 3.5)\n",
    "tuple2[1].append(0)\n",
    "print(tuple2)"
   ]
  },
  {
   "cell_type": "markdown",
   "metadata": {},
   "source": [
    "One common mistake people make with immutability and especially with tuples is to assume that data structures / objects inside the tuple are immutable because the tuple is immutable. Even though the tuple itself is immutable, we cannot change the exact objects which it contains, those objects themselves can be mutated if they are mutable."
   ]
  },
  {
   "cell_type": "markdown",
   "metadata": {},
   "source": [
    "## LOOPING THROUGH A TUPLE"
   ]
  },
  {
   "cell_type": "markdown",
   "metadata": {},
   "source": [
    "Just like lists, we can loop through a tuple using for loop."
   ]
  },
  {
   "cell_type": "code",
   "execution_count": null,
   "metadata": {},
   "outputs": [],
   "source": [
    "fruits_tuple = 'banana', 'watermelon', 'guava', 'apple', 'pineapple'\n",
    "for fruit in fruits_tuple:\n",
    "    print(fruit)\n",
    "#using the enumerate() function with for loop\n",
    "print('Some fruits in my home country are:')\n",
    "for index, fruit in enumerate(fruits_tuple,1):\n",
    "    print(index, fruit)"
   ]
  },
  {
   "cell_type": "markdown",
   "metadata": {},
   "source": [
    "## TUPLE OPERATORS"
   ]
  },
  {
   "cell_type": "markdown",
   "metadata": {},
   "source": [
    "Just like strings and lists, +, `*`, in and not in operators are also applicable to tuples."
   ]
  },
  {
   "cell_type": "code",
   "execution_count": null,
   "metadata": {},
   "outputs": [],
   "source": [
    "tuple1 = ('a', 'b', 'c', 'd')\n",
    "tuple2 = (1,2,3,4,5,6,7,8)\n",
    "#concatenation of tuples\n",
    "tuple3 = tuple1 + tuple2\n",
    "print(tuple3)\n",
    "#Replication of a tuple\n",
    "print(tuple1*2)\n",
    "#checking if item exists in a tuple\n",
    "print('b' in tuple1)\n",
    "print(5 not in tuple2)\n"
   ]
  },
  {
   "cell_type": "markdown",
   "metadata": {},
   "source": [
    "## TUPLE METHODS"
   ]
  },
  {
   "cell_type": "markdown",
   "metadata": {},
   "source": [
    "Tuples have two built-in methods (count and index)."
   ]
  },
  {
   "cell_type": "code",
   "execution_count": null,
   "metadata": {},
   "outputs": [],
   "source": [
    "tuple4 = ( 1,2,4,5,7,3,3,5,7,9,5,1,6)\n",
    "#Count the number of times an item exists in a tuple\n",
    "print(tuple4.count(5))\n",
    "#Get the index of a specified item in a tuple. returns the first index if the item occurs more than once\n",
    "print(tuple4.index(1))"
   ]
  },
  {
   "cell_type": "code",
   "execution_count": null,
   "metadata": {},
   "outputs": [],
   "source": []
  },
  {
   "cell_type": "markdown",
   "metadata": {},
   "source": [
    "## SETS"
   ]
  },
  {
   "cell_type": "markdown",
   "metadata": {},
   "source": [
    "A Python set is also similar to a list, except it is unordered and contains only distinct elements/items. It can store heterogeneous data and it is mutable. We can create a set by enclosing the values in curly brackets {}."
   ]
  },
  {
   "cell_type": "code",
   "execution_count": null,
   "metadata": {},
   "outputs": [],
   "source": [
    "example_set ={'Amanda', True, 2, 3.7}\n",
    "print(example_set)\n",
    "example_set2 = {2,3,4,5,7,5,9,2}\n",
    "print(example_set2)"
   ]
  },
  {
   "cell_type": "markdown",
   "metadata": {},
   "source": [
    "Even though we entered the data in one order, the set data was printed out in a different order. For this reason, we cannot index or slice a set."
   ]
  },
  {
   "cell_type": "markdown",
   "metadata": {},
   "source": [
    "## LOOPING THROUGH A SET"
   ]
  },
  {
   "cell_type": "code",
   "execution_count": null,
   "metadata": {},
   "outputs": [],
   "source": [
    "#using comprehension to populate a set\n",
    "even_numbers = { i for i in range(1, 21) if i %2 == 0 }\n",
    "print(even_numbers)\n",
    "for even_num in even_numbers:\n",
    "    print(even_num)"
   ]
  },
  {
   "cell_type": "markdown",
   "metadata": {},
   "source": [
    "## SET METHODS"
   ]
  },
  {
   "cell_type": "markdown",
   "metadata": {},
   "source": [
    "Set has several methods. Let's see some of them in practice. For more methods on set, click [Set methods](https://docs.python.org/2/library/sets.html)"
   ]
  },
  {
   "cell_type": "code",
   "execution_count": 40,
   "metadata": {},
   "outputs": [
    {
     "ename": "AttributeError",
     "evalue": "'list' object has no attribute 'add'",
     "output_type": "error",
     "traceback": [
      "\u001b[1;31m---------------------------------------------------------------------------\u001b[0m",
      "\u001b[1;31mAttributeError\u001b[0m                            Traceback (most recent call last)",
      "\u001b[1;32m<ipython-input-40-60618aef17c9>\u001b[0m in \u001b[0;36m<module>\u001b[1;34m\u001b[0m\n\u001b[0;32m      1\u001b[0m \u001b[1;31m#Add an item to a set\u001b[0m\u001b[1;33m\u001b[0m\u001b[1;33m\u001b[0m\u001b[1;33m\u001b[0m\u001b[0m\n\u001b[1;32m----> 2\u001b[1;33m \u001b[0meven_numbers\u001b[0m\u001b[1;33m.\u001b[0m\u001b[0madd\u001b[0m\u001b[1;33m(\u001b[0m\u001b[1;36m22\u001b[0m\u001b[1;33m)\u001b[0m\u001b[1;33m\u001b[0m\u001b[1;33m\u001b[0m\u001b[0m\n\u001b[0m\u001b[0;32m      3\u001b[0m \u001b[0mprint\u001b[0m\u001b[1;33m(\u001b[0m\u001b[0meven_numbers\u001b[0m\u001b[1;33m)\u001b[0m\u001b[1;33m\u001b[0m\u001b[1;33m\u001b[0m\u001b[0m\n\u001b[0;32m      4\u001b[0m \u001b[1;31m#Add multiple items to a set\u001b[0m\u001b[1;33m\u001b[0m\u001b[1;33m\u001b[0m\u001b[1;33m\u001b[0m\u001b[0m\n\u001b[0;32m      5\u001b[0m \u001b[0meven_numbers\u001b[0m\u001b[1;33m.\u001b[0m\u001b[0mupdate\u001b[0m\u001b[1;33m(\u001b[0m\u001b[1;33m{\u001b[0m\u001b[1;36m24\u001b[0m\u001b[1;33m,\u001b[0m\u001b[1;36m26\u001b[0m\u001b[1;33m,\u001b[0m\u001b[1;36m28\u001b[0m\u001b[1;33m,\u001b[0m\u001b[1;36m30\u001b[0m\u001b[1;33m}\u001b[0m\u001b[1;33m)\u001b[0m\u001b[1;33m\u001b[0m\u001b[1;33m\u001b[0m\u001b[0m\n",
      "\u001b[1;31mAttributeError\u001b[0m: 'list' object has no attribute 'add'"
     ]
    }
   ],
   "source": [
    "#Add an item to a set\n",
    "even_numbers.add(22)\n",
    "print(even_numbers)\n",
    "#Add multiple items to a set\n",
    "even_numbers.update({24,26,28,30})\n",
    "print(even_numbers)\n",
    "#Remove an item from the set. remove() raises an error if the item is not present, discard() doesn't.\n",
    "even_numbers.remove(2)\n",
    "print(even_numbers)\n",
    "even_numbers.discard(2)\n",
    "#joins two sets together\n",
    "print(even_numbers.union({2}))\n",
    "#return elements common to both sets\n",
    "print(even_numbers.intersection({1,2,3,4,5,6,7,8,9,10}))\n",
    "#check if a set is a subset of another set\n",
    "print({4,6,8}.issubset(even_numbers))\n",
    "#check if a set is a superset of another set\n",
    "print(even_numbers.issuperset({10,12,4,16}))\n",
    "#Return the difference between two sets\n",
    "print(even_numbers.difference({1,2,3,4,5,6,7,8,9,10}))\n",
    "print({1,2,3,4,5,6,7,8,9,10}.difference(even_numbers))\n",
    "print(even_numbers.symmetric_difference({1,2,3,4,5,6,7,8,9,10}))"
   ]
  },
  {
   "cell_type": "markdown",
   "metadata": {},
   "source": [
    "## DICTIONARIES"
   ]
  },
  {
   "cell_type": "markdown",
   "metadata": {},
   "source": [
    "A dictionary is a collection of key:value pairs that is unordered, indexed and mutable. It is quite similar to lists in terms of index but unlike a list whose index is numeric and not denoted in its definition, a dictionary's index is a key which can be of any data type. The key:value pairs are enclosed in  curly brackets {}. To understand dictionary, let's look at lists again. "
   ]
  },
  {
   "cell_type": "code",
   "execution_count": 43,
   "metadata": {},
   "outputs": [],
   "source": [
    "me_list = ['Amanda', 20, 167.5, 56.5, 'brown', 'brown']"
   ]
  },
  {
   "cell_type": "markdown",
   "metadata": {},
   "source": [
    "This list describes me: my name, my age, my height (in centimeters), my weight (in kilograms), my hair color and my eye color. We know we can access this information individually by index. But, it would be easy to get mixed up about which data is which (for example, which `'brown'` is hair color and which is eye color?), or where I should find it (will age always be at index 1?)."
   ]
  },
  {
   "cell_type": "code",
   "execution_count": null,
   "metadata": {},
   "outputs": [],
   "source": [
    "print(f'My name is {me_list[0]}')\n",
    "print(f'My hair color is {me_list[4]}')"
   ]
  },
  {
   "cell_type": "markdown",
   "metadata": {},
   "source": [
    "\n",
    "A better solution would be a data structure where we could index using meaningful values. For example instead of using `me[0]` to recover `Dylan`, I could use `me['name']`. Instead of hair color being `me[4]`, it could be `me['hair']`. This feature is the central characteristic of the Python dictionary."
   ]
  },
  {
   "cell_type": "code",
   "execution_count": 42,
   "metadata": {},
   "outputs": [],
   "source": [
    "me = {'name':'Amanda','age': 20,'height': 167.5,'weight': 56.5,'hair': 'brown','eye': 'brown'}"
   ]
  },
  {
   "cell_type": "markdown",
   "metadata": {},
   "source": [
    "## ACCESSING ITEMS IN A DICTIONARY"
   ]
  },
  {
   "cell_type": "markdown",
   "metadata": {},
   "source": [
    "Although a dictionary is unordered, we can access any of its items because it is indexed. To access any item in a dictionary, we use its key name enclosed in square brackets. "
   ]
  },
  {
   "cell_type": "code",
   "execution_count": null,
   "metadata": {},
   "outputs": [],
   "source": [
    "print(f\"My name is {me['name']}\")\n",
    "print(f\"My hair color is {me['hair']}\")"
   ]
  },
  {
   "cell_type": "markdown",
   "metadata": {},
   "source": [
    "We can also use the get() method to access a dictionary item."
   ]
  },
  {
   "cell_type": "code",
   "execution_count": null,
   "metadata": {},
   "outputs": [],
   "source": [
    "me.get('height')"
   ]
  },
  {
   "cell_type": "markdown",
   "metadata": {},
   "source": [
    "## DICTIONARY MUTABILITY"
   ]
  },
  {
   "cell_type": "markdown",
   "metadata": {},
   "source": [
    "Dictionaries are mutable i.e they can be changed. The syntax to mutate a dictionary is similar to that of a list except that we specify the key name instead of the position. We can also add a new key:value pair using same syntax.  \n",
    "**NOTE:** dictionary keys are immutable because the keys are hashed to assign key-value pairs to memory. Therefore, keys must be immutable and unique, similar to the elements of a `set`. However, values don't have these restrictions."
   ]
  },
  {
   "cell_type": "code",
   "execution_count": null,
   "metadata": {},
   "outputs": [],
   "source": [
    "me['height'] = 180.7\n",
    "##Adding a new key:value pair\n",
    "me['hasDog'] = False\n",
    "print(me)\n",
    "#deleting a key\n",
    "del me['hasDog']\n",
    "print(me)"
   ]
  },
  {
   "cell_type": "markdown",
   "metadata": {},
   "source": [
    "## LOOPING THROUGH A DICTIONARY"
   ]
  },
  {
   "cell_type": "markdown",
   "metadata": {},
   "source": [
    "With for loop, we can iterate through the keys and / or values of a dictionary. Let's see the various ways to achieve it. "
   ]
  },
  {
   "cell_type": "code",
   "execution_count": null,
   "metadata": {},
   "outputs": [],
   "source": [
    "for k in me:\n",
    "    print (k)"
   ]
  },
  {
   "cell_type": "markdown",
   "metadata": {},
   "source": [
    "As seen in the above code, only the key names were printed. When you loop through a dictionary, it only accesses its keys. But what if we need to access its values. How do we go about it? "
   ]
  },
  {
   "cell_type": "code",
   "execution_count": null,
   "metadata": {},
   "outputs": [],
   "source": [
    "for k in me:\n",
    "    print(me[k])"
   ]
  },
  {
   "cell_type": "markdown",
   "metadata": {},
   "source": [
    "Apart from using the key name within square brackets, the dictionary object has a method called values() which allows us to access all dictionary values."
   ]
  },
  {
   "cell_type": "code",
   "execution_count": null,
   "metadata": {},
   "outputs": [],
   "source": [
    "for v in me.values():\n",
    "    print(v)"
   ]
  },
  {
   "cell_type": "markdown",
   "metadata": {},
   "source": [
    "We have seen how to access a dictionary keys only or values only. But how do i know what each value represent? To access each key:value pair, we use the items() method. The items() method returns a list of tuples with each tuple containing the key and value pair."
   ]
  },
  {
   "cell_type": "code",
   "execution_count": null,
   "metadata": {},
   "outputs": [],
   "source": [
    "for key , value in me.items():\n",
    "    print(f\"{key} : {value}\")"
   ]
  },
  {
   "cell_type": "markdown",
   "metadata": {},
   "source": [
    "## DICTIONARY OPERATORS\n",
    "The dictionary object has two operators: **in** and **not in**. These operators check if the key exists in the dictionary or not."
   ]
  },
  {
   "cell_type": "code",
   "execution_count": null,
   "metadata": {},
   "outputs": [],
   "source": [
    "print('height' in me)\n",
    "print('year' in me)\n",
    "print('height' not in me)\n",
    "print('year' not in me)"
   ]
  },
  {
   "cell_type": "markdown",
   "metadata": {},
   "source": [
    "## DICTIONARY METHODS\n",
    "In this lesson, we are going to use some of the commonly used dictionary methods. For more information on other methods, check [Dictionary methods](https://docs.python.org/3/library/stdtypes.html#mapping-types-dict)"
   ]
  },
  {
   "cell_type": "code",
   "execution_count": 44,
   "metadata": {},
   "outputs": [
    {
     "name": "stdout",
     "output_type": "stream",
     "text": [
      "{'name': 'Amanda', 'age': 20, 'height': 167.5, 'weight': 56.5, 'hair': 'brown', 'eye': 'brown', 'dob': '20:3:1990', 'complexion': 'dark'}\n",
      "name\n",
      "age\n",
      "{'name': 'Amanda', 'age': 20, 'height': 167.5, 'weight': 56.5, 'hair': 'brown', 'eye': 'brown', 'dob': '20:3:1990', 'complexion': 'dark'}\n",
      "{}\n",
      "20\n",
      "True\n"
     ]
    }
   ],
   "source": [
    "#update the dictionary with key/value pairs. This method overwrites existing keys.\n",
    "me.update({'dob':'20:3:1990','complexion': 'dark'})\n",
    "print(me)\n",
    "#Return an iterator over the keys of the dictionary\n",
    "iterator = iter(me)\n",
    "print(next(iterator))\n",
    "print(next(iterator))\n",
    "#return a copy of the dictionary\n",
    "me_copy = me.copy()\n",
    "print(me_copy)\n",
    "#clear the dictionary\n",
    "me_copy.clear()\n",
    "print(me_copy)\n",
    "#return the value of a key. set a default value if key does not exist. returns none if default is not set.\n",
    "print(me.get('age', 0))\n",
    "print(me.get('hasDog', True))"
   ]
  },
  {
   "cell_type": "markdown",
   "metadata": {},
   "source": [
    "## SWITCHING DATA STRUCTURES"
   ]
  },
  {
   "cell_type": "markdown",
   "metadata": {},
   "source": [
    "Each data structure has different properties and characteristics. Sometimes we will want to change one data structure to another to take advantage of these differences. We can achieve this using the data structure's constructors."
   ]
  },
  {
   "cell_type": "code",
   "execution_count": null,
   "metadata": {},
   "outputs": [],
   "source": [
    "ex_list = [2, 'apple', True, 3.5, 2]\n",
    "ex_tuple = tuple(ex_list)\n",
    "print(ex_tuple)\n",
    "ex_set = set (ex_tuple)\n",
    "print(ex_set)\n",
    "ex_list = list(ex_set) #duplicates lost beacause of set\n",
    "print(ex_list)"
   ]
  },
  {
   "cell_type": "markdown",
   "metadata": {},
   "source": [
    "## SORTING DATA STRUCTURES\n",
    "Out of all the data structures we have studied so far, only list has a sort method. However, Python also has a sorted() function, which returns a sorted list of other data structures. By default, the sorted() function applied to a dictionary makes a list of the sorted dictionary keys. We must use the items() method if we want our output to be a list of the key-value pairs."
   ]
  },
  {
   "cell_type": "code",
   "execution_count": null,
   "metadata": {},
   "outputs": [],
   "source": [
    "ex_list = list(map(str,ex_list))\n",
    "#using the list sort() method\n",
    "ex_list.sort()\n",
    "print(ex_list) #uppercase letters comes first befor lowercase\n",
    "#using the sorted function\n",
    "print(sorted(ex_list))\n",
    "print(sorted(map(str,ex_set)))\n",
    "print(sorted(map(str,ex_tuple)))\n",
    "\n",
    "print(sorted(me_dict))\n",
    "print(sorted(me_dict.items()))"
   ]
  },
  {
   "cell_type": "markdown",
   "metadata": {},
   "source": [
    "## ZIP() FUNCTION"
   ]
  },
  {
   "cell_type": "markdown",
   "metadata": {},
   "source": [
    "The zip() function combines two or more iterators together into a list of tuples. If the iterators are of different length, the smallest length determines the length of the zip object. Zip() function can be very handy for creating a dictionary. Let's see how to do this using the me list we created before. We are going to create another list to store key values matching each value in the me list."
   ]
  },
  {
   "cell_type": "code",
   "execution_count": 45,
   "metadata": {},
   "outputs": [],
   "source": [
    "value_list = me_list\n",
    "key_list = ['name', 'age', 'height', 'weight', 'hair']"
   ]
  },
  {
   "cell_type": "markdown",
   "metadata": {},
   "source": [
    "The zip() returns a zip object so we will need to convert it to a list. We can then convert the list of tuples to a dictionary using the dict() constructor. "
   ]
  },
  {
   "cell_type": "code",
   "execution_count": 46,
   "metadata": {},
   "outputs": [
    {
     "name": "stdout",
     "output_type": "stream",
     "text": [
      "[('name', 'Amanda'), ('age', 20), ('height', 167.5), ('weight', 56.5), ('hair', 'brown')]\n",
      "{'name': 'Amanda', 'age': 20, 'height': 167.5, 'weight': 56.5, 'hair': 'brown'}\n"
     ]
    }
   ],
   "source": [
    "key_value_pairs = list(zip(key_list, value_list))\n",
    "print(key_value_pairs)\n",
    "me_dict = dict(key_value_pairs)\n",
    "print(me_dict)"
   ]
  },
  {
   "cell_type": "markdown",
   "metadata": {},
   "source": [
    "## EXERCISE"
   ]
  },
  {
   "cell_type": "markdown",
   "metadata": {},
   "source": [
    "Write a program that prints the letters contained in a multiline string variable in decreasing order of frequency. Your program should convert all the input to lower case and only count the letters a-z.\n",
    "Your program should not count spaces, digits, punctuation, or anything other than the\n",
    "letters a-z."
   ]
  },
  {
   "cell_type": "code",
   "execution_count": 52,
   "metadata": {},
   "outputs": [
    {
     "name": "stdout",
     "output_type": "stream",
     "text": [
      "[(29, 't'), (24, 'e'), (23, 'r'), (21, 'n'), (20, 'o'), (19, 'a'), (15, 'i'), (12, 's'), (12, 'l'), (11, 'u'), (10, 'h'), (9, 'c'), (7, 'p'), (7, 'g'), (7, 'd'), (5, 'y'), (4, 'm'), (2, 'z'), (2, 'w'), (2, 'v'), (2, 'f'), (1, 'q'), (1, 'b')]\n"
     ]
    }
   ],
   "source": [
    "multiline_str = \"\"\"Write a program that prints the letters contained in a multiline string variable in decreasing order of frequency. Your program should convert all the input to lower case and only count the letters a-z.\n",
    "Your program should not count spaces, digits, punctuation, or anything other than the\n",
    "letters a-z.\"\"\"\n",
    "\n",
    "multiline_str = multiline_str.lower()\n",
    "\n",
    "newMul = \"\".join(multiline_str.split())\n",
    "\n",
    "newSet = {}\n",
    "myList = []\n",
    "\n",
    "for eachLet in newMul:\n",
    "    if eachLet.isalpha():\n",
    "        newSet[eachLet] = newMul.count(eachLet)\n",
    "        #newSet[eachLet] = newSet.get(eachLet, newMul.count(eachLet))\n",
    "for key, value in newSet.items():\n",
    "    myList.append((value, key))\n",
    "print(sorted(myList, reverse=True))"
   ]
  },
  {
   "cell_type": "code",
   "execution_count": 35,
   "metadata": {},
   "outputs": [
    {
     "data": {
      "text/plain": [
       "['__class__',\n",
       " '__contains__',\n",
       " '__delattr__',\n",
       " '__delitem__',\n",
       " '__dir__',\n",
       " '__doc__',\n",
       " '__eq__',\n",
       " '__format__',\n",
       " '__ge__',\n",
       " '__getattribute__',\n",
       " '__getitem__',\n",
       " '__gt__',\n",
       " '__hash__',\n",
       " '__init__',\n",
       " '__init_subclass__',\n",
       " '__iter__',\n",
       " '__le__',\n",
       " '__len__',\n",
       " '__lt__',\n",
       " '__ne__',\n",
       " '__new__',\n",
       " '__reduce__',\n",
       " '__reduce_ex__',\n",
       " '__repr__',\n",
       " '__setattr__',\n",
       " '__setitem__',\n",
       " '__sizeof__',\n",
       " '__str__',\n",
       " '__subclasshook__',\n",
       " 'clear',\n",
       " 'copy',\n",
       " 'fromkeys',\n",
       " 'get',\n",
       " 'items',\n",
       " 'keys',\n",
       " 'pop',\n",
       " 'popitem',\n",
       " 'setdefault',\n",
       " 'update',\n",
       " 'values']"
      ]
     },
     "execution_count": 35,
     "metadata": {},
     "output_type": "execute_result"
    }
   ],
   "source": [
    "dir(dict)"
   ]
  },
  {
   "cell_type": "markdown",
   "metadata": {},
   "source": [
    "Let's look at another way to achieve the above."
   ]
  },
  {
   "cell_type": "code",
   "execution_count": 58,
   "metadata": {},
   "outputs": [
    {
     "name": "stdout",
     "output_type": "stream",
     "text": [
      "{'w': 2, 'r': 23, 'i': 15, 't': 29, 'e': 24, 'a': 19, 'p': 7, 'o': 20, 'g': 7, 'm': 4, 'h': 10, 'n': 21, 's': 12, 'l': 12, 'c': 9, 'd': 7, 'u': 11, 'v': 2, 'b': 1, 'f': 2, 'q': 1, 'y': 5, 'z': 2}\n",
      "[('t', 29), ('e', 24), ('r', 23), ('n', 21), ('o', 20), ('a', 19), ('i', 15), ('s', 12), ('l', 12), ('u', 11), ('h', 10), ('c', 9), ('p', 7), ('g', 7), ('d', 7), ('y', 5), ('m', 4), ('w', 2), ('v', 2), ('f', 2), ('z', 2), ('b', 1), ('q', 1)]\n"
     ]
    }
   ],
   "source": [
    "multiline_str = \"\"\"Write a program that prints the letters contained in a multiline string variable in decreasing order of frequency. Your program should convert all the input to lower case and only count the letters a-z.\n",
    "Your program should not count spaces, digits, punctuation, or anything other than the\n",
    "letters a-z.\"\"\"\n",
    "#change text to lowercase\n",
    "multiline_str = multiline_str.lower()#print(multiline_str)\n",
    "#creating an empty dictionary to store letters and their frequencies\n",
    "letters_freq = {}\n",
    "#iterating through the string\n",
    "for letter in multiline_str:\n",
    "    #checking if the letter is an alphabet\n",
    "    if(letter.isalpha()):\n",
    "        #updating the dictionary value\n",
    "        letters_freq[letter] = letters_freq.get(letter, 0)+ 1\n",
    "print(letters_freq)\n",
    "#sort the dictionary by values\n",
    "print(sorted(letters_freq.items(), key = lambda x : x[1], reverse=True))"
   ]
  },
  {
   "cell_type": "code",
   "execution_count": null,
   "metadata": {},
   "outputs": [],
   "source": []
  }
 ],
 "metadata": {
  "kernelspec": {
   "display_name": "Python 3",
   "language": "python",
   "name": "python3"
  },
  "language_info": {
   "codemirror_mode": {
    "name": "ipython",
    "version": 3
   },
   "file_extension": ".py",
   "mimetype": "text/x-python",
   "name": "python",
   "nbconvert_exporter": "python",
   "pygments_lexer": "ipython3",
   "version": "3.7.0"
  }
 },
 "nbformat": 4,
 "nbformat_minor": 4
}
