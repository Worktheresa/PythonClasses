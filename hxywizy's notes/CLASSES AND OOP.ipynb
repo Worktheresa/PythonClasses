{
 "cells": [
  {
   "cell_type": "markdown",
   "metadata": {},
   "source": [
    "## CLASSES AND OBJECTS\n",
    "A class is a user defined prototype that defines a set of attributes (data members or variables) and methods that characterises any class object. An object is a unique instance of a class. So far we have been working with objects and these objects belong to Python built-in classes. For better understanding, suppose we create a variable named 'fruit' and we assign to it a string value of \"Banana\". Then, \"Banana\" stored in the fruit variable is an object that belongs to the Python String class. With the object, we can access all attributes of the class."
   ]
  },
  {
   "cell_type": "code",
   "execution_count": 5,
   "metadata": {},
   "outputs": [],
   "source": [
    "class Rain:\n",
    "    def __init__(self, name, age, dress, location = 'Ibadan'):\n",
    "        self.name = name\n",
    "        self.age = age\n",
    "        self.dress = dress\n",
    "        self.location = location\n",
    "\n",
    "    def welcome(self):\n",
    "        print(f\"My name is {self.name}, i am {self.age}years old and i dress on {self.dress} often. I live in  {self.location} most of the time\")\n",
    "\n",
    "class Staff(Rain):\n",
    "    def __init__(self, name, age, dress, location, work, enterTime):\n",
    "        super().__init__(name, age, dress, location)\n",
    "        self.work = work\n",
    "        self.enterTime = enterTime\n",
    "\n",
    "    def staffFunc(self):\n",
    "        return(f\"I am a staff of rain, my name is {self.name}, i am {self.age}years old. I do {self.work} and i enter at {self.enterTime}\")\n",
    "\n",
    "\n",
    "class Intern(Rain):\n",
    "    def __init__(self, name, age, dress, location, path, enterTime):\n",
    "        super().__init__(name, age, dress, location)\n",
    "        self.path = path\n",
    "        self.enterTime = enterTime\n",
    "\n",
    "\n",
    "    def internFunc(self):\n",
    "        return (\"I am a staff of rain, my name is {self.name}, i am {self.age}years old. I do {self.work} and i enter at {self.enterTime}\")\n",
    "\n",
    "class Trainee(Rain):\n",
    "    def __init__(self, name, age, dress, location, trainPath, enterTime):\n",
    "        super().__init__(name, age, dress, location)\n",
    "        self.trainPath = trainPath\n",
    "        self.enterTime = enterTime\n",
    "\n",
    "\n"
   ]
  },
  {
   "cell_type": "code",
   "execution_count": null,
   "metadata": {},
   "outputs": [],
   "source": []
  },
  {
   "cell_type": "code",
   "execution_count": 1,
   "metadata": {},
   "outputs": [
    {
     "name": "stdout",
     "output_type": "stream",
     "text": [
      "Banana is of <class 'str'>\n"
     ]
    }
   ],
   "source": [
    "fruit = \"Banana\"\n",
    "print(f\"{fruit} is of {type(fruit)}\")"
   ]
  },
  {
   "cell_type": "code",
   "execution_count": null,
   "metadata": {},
   "outputs": [],
   "source": []
  },
  {
   "cell_type": "markdown",
   "metadata": {},
   "source": [
    "We can define our own classes to create objects that carry out a variety of related tasks or represent information in a convenient way. We use the class keyword to create a class."
   ]
  },
  {
   "cell_type": "code",
   "execution_count": 3,
   "metadata": {},
   "outputs": [],
   "source": [
    "class Person():\n",
    "    pass"
   ]
  },
  {
   "cell_type": "markdown",
   "metadata": {},
   "source": [
    "## THE `__`INIT`__`() FUNCTION"
   ]
  },
  {
   "cell_type": "markdown",
   "metadata": {},
   "source": [
    "All classes have the `__init__`() function which is also known as the class constructor. The function is always executed when a new instance of the class is created. It is used to assign values to object properties or other operations that are necessary to do when the object is being created.  \n",
    "\n",
    "The first parameter of the `__init__`() function is self (it can be any other name but it must be the first parameter). Self represents the current instance of the class which is used to access a class\n",
    "attributes."
   ]
  },
  {
   "cell_type": "code",
   "execution_count": null,
   "metadata": {},
   "outputs": [],
   "source": [
    "\n",
    "class Person():\n",
    "    #initialisation\n",
    "    def __init__(self, name, age, gender):\n",
    "        self.name = name\n",
    "        self.age = age\n",
    "        self.gender = gender\n",
    "        \n",
    "    def describe_person(self):\n",
    "        return f\"My name is {self.name}. I am a {self.gender}. I am {self.age} years old.\"\n"
   ]
  },
  {
   "cell_type": "markdown",
   "metadata": {},
   "source": [
    "A class can contain methods. In the above code, we created a method called describe_person that prints the name, age and gender of a person. Let's see how to create a class object and access its data members. We use dot notation to access a class data members."
   ]
  },
  {
   "cell_type": "code",
   "execution_count": 10,
   "metadata": {},
   "outputs": [
    {
     "name": "stdout",
     "output_type": "stream",
     "text": [
      "Mitchelle\n",
      "Michael\n",
      "My name is Mitchelle. I am a female. I am 23 years old.\n",
      "My name is Michael. I am a male. I am 20 years old.\n"
     ]
    }
   ],
   "source": [
    "p1 = Person('Mitchelle', 23,'female')\n",
    "print(p1.name)\n",
    "p2 = Person(\"Michael\", 20,'male')\n",
    "print(p2.name)\n",
    "print(p1.describe_person())\n",
    "print(p2.describe_person())"
   ]
  },
  {
   "cell_type": "markdown",
   "metadata": {},
   "source": [
    "p1 and p2 are objects of the class 'Person'. They are unique instances of the class person with which we can access the variables and methods of the class. Another way to use class objects is:"
   ]
  },
  {
   "cell_type": "code",
   "execution_count": 11,
   "metadata": {},
   "outputs": [
    {
     "name": "stdout",
     "output_type": "stream",
     "text": [
      "My name is Daniel. I am a male. I am 18 years old.\n"
     ]
    }
   ],
   "source": [
    "p3 = Person('Daniel', 18, 'male')\n",
    "print(Person.describe_person(p3))"
   ]
  },
  {
   "cell_type": "markdown",
   "metadata": {},
   "source": [
    "In the above code, we accessed the class method by using the class name and passed the object (unique instance) p3 as an argument to the describe_person method. Remember the self parameter represents the curent instance of a class and in this case, the instance is p3."
   ]
  },
  {
   "cell_type": "markdown",
   "metadata": {},
   "source": [
    "## INSTANCE AND CLASS ATTRIBUTES\n",
    "Instance variables are variables defined in a class for which each instantiated object has its own values (instance). For example, in the Person class, each person object has its own name, age and gender. The self paremeter helps us to keep track of individual instances of a class (i.e individual values of an object).  \n",
    "Unlike instance variables that are specific to each instance, class variables are the same for all instances. For example, in the code below,  Suppose we want to capture the names and nationality of residents in Nigeria, the variable 'residence' is a class attribute and it is same for all residents. The name and nationality variables are instance variables which varies for each resident instance/object.  \n",
    "Instance methods are defined inside a class and are used to get the contents of an instance. They can also be used to perform operations with the attributes of our objects. Just like the `__init__` function, the first parameter of an Instance method is the self parameter."
   ]
  },
  {
   "cell_type": "code",
   "execution_count": 2,
   "metadata": {},
   "outputs": [
    {
     "name": "stdout",
     "output_type": "stream",
     "text": [
      "My name is Brian. I am a British and I live in Nigeria.\n"
     ]
    }
   ],
   "source": [
    "class Residents:\n",
    "    #class variable\n",
    "    residence = 'Nigeria'\n",
    "    \n",
    "    def __init__(self, name, nationality):\n",
    "        #instance variable\n",
    "        self.name = name\n",
    "        self.nationality = nationality\n",
    "    \n",
    "    #instance method\n",
    "    def describe_person(self):\n",
    "        print(f\"My name is {self.name}. I am a {self.nationality} and I live in {Residents.residence}.\")\n",
    "        \n",
    "r = Residents(\"Brian\", \"British\")\n",
    "r.describe_person()"
   ]
  },
  {
   "cell_type": "markdown",
   "metadata": {},
   "source": [
    "## DUNDER METHODS"
   ]
  },
  {
   "cell_type": "markdown",
   "metadata": {},
   "source": [
    "Dunder methods are methods with double underscore before and after the method names. They have a special meaning and they are considered as private methods. There are a lot of them in Python. Let's see all the methods for the Int class, look out for its dunder methods."
   ]
  },
  {
   "cell_type": "code",
   "execution_count": 12,
   "metadata": {},
   "outputs": [
    {
     "name": "stdout",
     "output_type": "stream",
     "text": [
      "['__abs__', '__add__', '__and__', '__bool__', '__ceil__', '__class__', '__delattr__', '__dir__', '__divmod__', '__doc__', '__eq__', '__float__', '__floor__', '__floordiv__', '__format__', '__ge__', '__getattribute__', '__getnewargs__', '__gt__', '__hash__', '__index__', '__init__', '__init_subclass__', '__int__', '__invert__', '__le__', '__lshift__', '__lt__', '__mod__', '__mul__', '__ne__', '__neg__', '__new__', '__or__', '__pos__', '__pow__', '__radd__', '__rand__', '__rdivmod__', '__reduce__', '__reduce_ex__', '__repr__', '__rfloordiv__', '__rlshift__', '__rmod__', '__rmul__', '__ror__', '__round__', '__rpow__', '__rrshift__', '__rshift__', '__rsub__', '__rtruediv__', '__rxor__', '__setattr__', '__sizeof__', '__str__', '__sub__', '__subclasshook__', '__truediv__', '__trunc__', '__xor__', 'bit_length', 'conjugate', 'denominator', 'from_bytes', 'imag', 'numerator', 'real', 'to_bytes']\n"
     ]
    }
   ],
   "source": [
    "print(dir(int))"
   ]
  },
  {
   "cell_type": "markdown",
   "metadata": {},
   "source": [
    "The `__init__`, `__repr__`, `__add__`, `__sub__` etc are dunder methods. The `__add__` method allows a programmer to use the + operator with objects. The `__repr__` method allows the programmer to tell Python how to print out the object. Let's look at an example of a class with dunder methods."
   ]
  },
  {
   "cell_type": "markdown",
   "metadata": {},
   "source": [
    "The first step in creating a class is to define its `__init__` and `__repr__` methods. For our example, we are going to define a Point class that accepts two arguments, x and y. A Point object would be represented by a string 'Point(x, y)' with appropriate values for x and y. \n",
    "We also want our class to support simple vector operations for Points, so we are going to add the `__add__` and `__sub__` dunder methods. \n",
    "For two points, **(x1, y1) + (x2, y2) = (x1+x2, y1+y2)**. Similarly, **(x1, y1) - (x2, y2) = (x1-x2, y1-y2)**."
   ]
  },
  {
   "cell_type": "code",
   "execution_count": 2,
   "metadata": {},
   "outputs": [],
   "source": [
    "class Point():\n",
    "    def __init__(self, x, y):\n",
    "        self.x = x\n",
    "        self.y = y\n",
    "    #prints out a point object in the form \"Point(x, y)\"\n",
    "    def __repr__(self):\n",
    "        return f\"Point({self.x}, {self.y})\"\n",
    "    #allows the use of + operator with two point objects\n",
    "    def __add__(self, other):\n",
    "        if isinstance (other, Point):\n",
    "            return Point(self.x + other.x, self.y + other.y)\n",
    "        else:\n",
    "            raise TypeError ('Expected value should be of Type Point')\n",
    "    #TO DO: write the __sub__ method\n",
    "    def __sub__(self,other):\n",
    "        if isinstance (other,Point):\n",
    "            return Point(self.x - other.x, self.y - other.y)\n",
    "        else:\n",
    "            raise TypeError('Expected Value should be of type point')\n",
    "    def dist(self,other):\n",
    "        if isinstance(other,Point):\n",
    "            d = (((self.x - other.x)**2) + ((self.y - other.y)**2))**0.5\n",
    "            return d\n",
    "        else:\n",
    "            raise TypeError('Expected Value should be of type point')\n"
   ]
  },
  {
   "cell_type": "markdown",
   "metadata": {},
   "source": [
    "We have defined a Point class with the `__add__` and `__repr__` methods. The `__add__` method checks if the argument passed to it is an instance of a Point (i.e if it is a point object) because we can only add point objects together. We cannot add an integer or floating point number to a Point. Now, let's interact with the class and its methods."
   ]
  },
  {
   "cell_type": "code",
   "execution_count": 6,
   "metadata": {},
   "outputs": [
    {
     "name": "stdout",
     "output_type": "stream",
     "text": [
      "Point(4, 8) Point(8, 4)\n"
     ]
    },
    {
     "data": {
      "text/plain": [
       "5.656854249492381"
      ]
     },
     "execution_count": 6,
     "metadata": {},
     "output_type": "execute_result"
    }
   ],
   "source": [
    "p1 = Point(int(input(\"input the x coordinate for p1\")),int(input(\"input the y coordinate p1\")))\n",
    "p2 = Point(int(input(\"input the x coordinate p2\")),int(input(\"input the y coordinate p2\")))\n",
    "p1 + p2\n",
    "p1 - p2\n",
    "print(p1, p2)\n",
    "p1.dist(p2)"
   ]
  },
  {
   "cell_type": "code",
   "execution_count": 18,
   "metadata": {},
   "outputs": [
    {
     "ename": "TypeError",
     "evalue": "Expected value should be of Type Point",
     "output_type": "error",
     "traceback": [
      "\u001b[0;31m---------------------------------------------------------------------------\u001b[0m",
      "\u001b[0;31mTypeError\u001b[0m                                 Traceback (most recent call last)",
      "\u001b[0;32m<ipython-input-18-6c52a5389135>\u001b[0m in \u001b[0;36m<module>\u001b[0;34m\u001b[0m\n\u001b[0;32m----> 1\u001b[0;31m \u001b[0mp1\u001b[0m \u001b[0;34m+\u001b[0m \u001b[0;36m3\u001b[0m\u001b[0;34m\u001b[0m\u001b[0;34m\u001b[0m\u001b[0m\n\u001b[0m",
      "\u001b[0;32m<ipython-input-16-672073b225af>\u001b[0m in \u001b[0;36m__add__\u001b[0;34m(self, other)\u001b[0m\n\u001b[1;32m     11\u001b[0m             \u001b[0;32mreturn\u001b[0m \u001b[0mPoint\u001b[0m \u001b[0;34m(\u001b[0m\u001b[0mself\u001b[0m\u001b[0;34m.\u001b[0m\u001b[0mx\u001b[0m \u001b[0;34m+\u001b[0m \u001b[0mother\u001b[0m\u001b[0;34m.\u001b[0m\u001b[0mx\u001b[0m\u001b[0;34m,\u001b[0m \u001b[0mself\u001b[0m\u001b[0;34m.\u001b[0m\u001b[0my\u001b[0m \u001b[0;34m+\u001b[0m \u001b[0mother\u001b[0m\u001b[0;34m.\u001b[0m\u001b[0my\u001b[0m\u001b[0;34m)\u001b[0m\u001b[0;34m\u001b[0m\u001b[0;34m\u001b[0m\u001b[0m\n\u001b[1;32m     12\u001b[0m         \u001b[0;32melse\u001b[0m\u001b[0;34m:\u001b[0m\u001b[0;34m\u001b[0m\u001b[0;34m\u001b[0m\u001b[0m\n\u001b[0;32m---> 13\u001b[0;31m             \u001b[0;32mraise\u001b[0m \u001b[0mTypeError\u001b[0m \u001b[0;34m(\u001b[0m\u001b[0;34m'Expected value should be of Type Point'\u001b[0m\u001b[0;34m)\u001b[0m\u001b[0;34m\u001b[0m\u001b[0;34m\u001b[0m\u001b[0m\n\u001b[0m\u001b[1;32m     14\u001b[0m     \u001b[0;31m#TO DO: write the __sub__ method\u001b[0m\u001b[0;34m\u001b[0m\u001b[0;34m\u001b[0m\u001b[0;34m\u001b[0m\u001b[0m\n",
      "\u001b[0;31mTypeError\u001b[0m: Expected value should be of Type Point"
     ]
    }
   ],
   "source": [
    "p1 + 3"
   ]
  },
  {
   "cell_type": "markdown",
   "metadata": {},
   "source": [
    " "
   ]
  },
  {
   "cell_type": "markdown",
   "metadata": {},
   "source": [
    "## EXERCISE:\n",
    "Extend the Point class to contain 2 other methods. The `__mul__` method to allow us use * operator with point objects and a distance method to calculate the distance between 2 points. \n",
    "The `__mul__` method should take care of scalar multiplication and inner product. We can define scalar multiplication given a point  P  and a scalar  a  as **aP = a(x, y)=(ax, ay)** \n",
    "and we can define the inner product for points P,Q  as\n",
    "**P⋅Q = (x1,y1)⋅(x2,y2) = x1x2 + y1y2**  \n",
    "Given 2 points  **P1=(x1,y1)**  and  **P2=(x2,y2)**, the distance, D, between them is denoted as\n",
    "**D=|P2−P1|=$\\sqrt{(x1−x2)^2+(y1−y2)^2}$**\n"
   ]
  },
  {
   "cell_type": "markdown",
   "metadata": {},
   "source": [
    "## OBJECT ORIENTED PROGRAMMING (OOP)\n",
    "Now that we understand the concepts of classes and objects, let's dive into the world of OOP. OOP is a programming paradigm that is based on the concept of creating objects. OOP supports code reusability and reduces code repetition. The four OOP concepts are: \n",
    "1. Encapsulation\n",
    "2. Inheritance\n",
    "3. Abstraction\n",
    "4. Polymorphism"
   ]
  },
  {
   "cell_type": "markdown",
   "metadata": {},
   "source": [
    "## ENCAPSULATION\n",
    "Encapsulation is a concept of OOP that is used to restrict access to variables and methods (private variables and methods). It is used to prevent data from direct modification. In Python, we denote private variables and methods by prefixing its name with a single or double underscore (`_` or `__`). For greater program security and to prevent unintended data corruption, it is good to make use of private attributes in our program.\n",
    "For example, suppose the salary of every employee in ACME company is calculated as **base salary + ( base salary `*` level/10)**. We wouldnt want the base salary to be modified outside our code as this would affect the salary of all employees. For this reason, it is best to define the base salary as a private varibale."
   ]
  },
  {
   "cell_type": "code",
   "execution_count": 77,
   "metadata": {},
   "outputs": [],
   "source": [
    "class Employee():\n",
    "    #private variable\n",
    "    __base_salary = 50000\n",
    "    \n",
    "    def __init__(self,name, level, position):\n",
    "        self.name = name\n",
    "        self.level = level\n",
    "        self.position = position\n",
    "    #private method\n",
    "    def __calculate_salary(self):\n",
    "        return (self.__base_salary + (self.__base_salary * (self.level/10)))\n",
    "    \n",
    "    def generate_payslip(self):\n",
    "        print(f\"Name: {self.name}\\nPosition: {self.position}\\nLevel: {self.level}\\nSalary: {self.__calculate_salary()}\")\n",
    "    \n",
    "    def setBaseSalary(self, new_base_salary):\n",
    "        self.__base_salary = new_base_salary"
   ]
  },
  {
   "cell_type": "code",
   "execution_count": 79,
   "metadata": {},
   "outputs": [
    {
     "name": "stdout",
     "output_type": "stream",
     "text": [
      "Name: Angela\n",
      "Position: Clerk\n",
      "Level: 3\n",
      "Salary: 65000.0\n"
     ]
    }
   ],
   "source": [
    "a = Employee('Angela',3,'Clerk')\n",
    "a.generate_payslip()"
   ]
  },
  {
   "cell_type": "markdown",
   "metadata": {},
   "source": [
    "## INHERITANCE\n",
    "Inheritance is a concept of OOP where a class inherits all attributes and methods from another class. The class that inherits is called a child/sub/derived class while the class that is being inherited is called a parent/super/base class. A child class can overide or extend the functionality of a parent class.\n",
    "In Python, the most basic type of class is the object class in which all other python classes inherit from.  \n",
    "In Python 3, when you define a new class, it implicitly uses object as the parent class. So the following two class definitions are equivalent:"
   ]
  },
  {
   "cell_type": "code",
   "execution_count": null,
   "metadata": {},
   "outputs": [],
   "source": [
    "class person(object):\n",
    "    pass\n",
    "class person():\n",
    "    pass"
   ]
  },
  {
   "cell_type": "markdown",
   "metadata": {},
   "source": [
    "To explain the concept of inheritance, we are going to create 3 classes: Person, Employee and Student. Since employees and students are persons, we are going to make them inherit the person class. The common attributes and methods for both employee and students would be contained in the Person class while the different attributes and methods would be contained in their respective classes."
   ]
  },
  {
   "cell_type": "code",
   "execution_count": 144,
   "metadata": {},
   "outputs": [],
   "source": [
    "class Person(object):\n",
    "    def __init__(self,name,age,gender, ID):\n",
    "        self.name = name\n",
    "        self.age = age\n",
    "        self.gender = gender\n",
    "        self.ID = ID\n",
    "        \n",
    "    def ID_card(self):\n",
    "        print(f\"Identity Number: {self.ID}\\nName: {self.name}\\nGender: {self.gender}\\nAge: {self.age}\")\n",
    "\n",
    "class Employee(Person):\n",
    "    def __init__(self, name, age, gender, ID, company, portfolio, salary):\n",
    "        #calling the parent constructor with super() function\n",
    "        super().__init__(name, age, gender, ID)\n",
    "        self.company = company\n",
    "        self.portfolio = portfolio\n",
    "        self.salary = salary\n",
    "        \n",
    "    def set_salary(self, new_salary):\n",
    "        self.salary = new_salary\n",
    "        \n",
    "class Student(Person):\n",
    "    def __init__(self, name, age, gender, ID, school, course, level):\n",
    "        #calling the parent constructor with the parent name\n",
    "        Person.__init__(self,name, age, gender, ID)\n",
    "        self.school = school\n",
    "        self.course = course\n",
    "        self.level = level\n",
    "    def update_level(self):\n",
    "        self.level +=100"
   ]
  },
  {
   "cell_type": "markdown",
   "metadata": {},
   "source": [
    "Child classes inherit all attributes and methods of its parent class including the `__init__`() method. When we define an `__init__` method within a child class, the child class `__init__` function overrides that of its parent class. To keep the inheritance of the parent `__init__` method, we call it within the child class `__init__` definition using the super function or the name of the parent class as seen above. Now, let's create Employee and Student objects. "
   ]
  },
  {
   "cell_type": "code",
   "execution_count": 92,
   "metadata": {},
   "outputs": [
    {
     "name": "stdout",
     "output_type": "stream",
     "text": [
      "Identity Number: EMP208765\n",
      "Name: Charles\n",
      "Gender: male\n",
      "Age: 20\n",
      "75000\n"
     ]
    }
   ],
   "source": [
    "emp = Employee('Charles', 20, 'male', 'EMP208765', 'ACME', 'Developer', 25000)\n",
    "emp.ID_card()\n",
    "emp.set_salary(75000)\n",
    "print(emp.salary)"
   ]
  },
  {
   "cell_type": "code",
   "execution_count": 93,
   "metadata": {},
   "outputs": [
    {
     "name": "stdout",
     "output_type": "stream",
     "text": [
      "Identity Number: STD23451\n",
      "Name: Diana\n",
      "Gender: female\n",
      "Age: 19\n",
      "300\n"
     ]
    }
   ],
   "source": [
    "std = Student('Diana', 19, 'female', 'STD23451', 'UI', 'Computer Science', 200)\n",
    "std.ID_card()\n",
    "std.update_level()\n",
    "print(std.level)"
   ]
  },
  {
   "cell_type": "markdown",
   "metadata": {},
   "source": [
    "Child objects are instance of its parent class. The isinstance() function is used to determine if an instance is also an instance of a certain parent class."
   ]
  },
  {
   "cell_type": "code",
   "execution_count": 96,
   "metadata": {},
   "outputs": [
    {
     "name": "stdout",
     "output_type": "stream",
     "text": [
      "True\n",
      "True\n",
      "False\n"
     ]
    }
   ],
   "source": [
    "print(isinstance(emp, Person))\n",
    "print(isinstance(emp, Employee))\n",
    "print(isinstance(emp, Student))"
   ]
  },
  {
   "cell_type": "markdown",
   "metadata": {},
   "source": [
    "## ABSTRACTION\n",
    "Abstraction is an OOP concept that allows a programmer to hide the real implementation and users only know how to use it. In Python, we use abstract classes and interface to achieve abstraction.  An abstract class is a class that provides incomplete functionality and contains at least one abstract method. An abstract method that generally has no implementation. Child classes which inherit the abstract class provides implementation for the abstract methods. Concrete methods are methods that have implementation. "
   ]
  },
  {
   "cell_type": "markdown",
   "metadata": {},
   "source": [
    "**Important points about abstract class in Python**\n",
    "1. Abstract class can have both concrete methods as well as abstract methods.\n",
    "2. Abstract class works as a template for other classes. Using an abstract class you can define a generalized structure without providing complete implementation of every method. Methods which provide common functionality to be used for all derived classes are defined as concrete methods in abstract class where as the methods where implementation may vary are defined as abstract methods.\n",
    "3. Abstract class can’t be instantiated so it is not possible to create objects of an abstract class.\n",
    "4. Generally abstract methods defined in abstract class don’t have any body but it is possible to have abstract methods with implementation in abstract class. Any sub class deriving from such abstract class still needs to provide implementation for such abstract methods.\n",
    "5. If any abstract method is not implemented by the derived class Python throws an error."
   ]
  },
  {
   "cell_type": "code",
   "execution_count": 8,
   "metadata": {},
   "outputs": [],
   "source": [
    "from abc import ABC, abstractmethod\n",
    "class Staff(ABC):\n",
    "    __base_pay = 0\n",
    "    def __init__(self, name, job_title, staff_id):\n",
    "        self.name = name\n",
    "        self.job_title = job_title\n",
    "        self.staff_id = staff_id\n",
    "        \n",
    "    #concrete method\n",
    "    def ID_Card(self):\n",
    "        print(f\"Staff ID: {self.staff_id}\\nName: {self.name}\\nPosition: {self.job_title}\")\n",
    "        \n",
    "    @abstractmethod\n",
    "    def calculate_salary(self):\n",
    "        \n",
    "        pass\n",
    "    "
   ]
  },
  {
   "cell_type": "code",
   "execution_count": null,
   "metadata": {},
   "outputs": [],
   "source": []
  },
  {
   "cell_type": "markdown",
   "metadata": {},
   "source": [
    "As seen above, we imported ABC and abstractmethod from the abc(Abstract Base Class) module. In Python, a class is considered an abstract class if and only if it inherits from the ABC class. Also, in abstract classes, abstract methods must be decorated using the @abstractmethod decorator. "
   ]
  },
  {
   "cell_type": "markdown",
   "metadata": {},
   "source": [
    "In real life examples, a staff could be part-time or full-time. Now, lets create concrete classes that would inherit our abstract staff class and provide implementation for the abstract method."
   ]
  },
  {
   "cell_type": "code",
   "execution_count": 141,
   "metadata": {},
   "outputs": [],
   "source": [
    "class PT_Staff(Staff):    \n",
    "    def __init__(self,name,job_title, staff_id, hours_of_work):\n",
    "        super().__init__(name,job_title, staff_id)\n",
    "        self.hours_of_work = hours_of_work\n",
    "        \n",
    "    #implementation of calculate_salary for Part time staff    \n",
    "    def calculate_salary(self):\n",
    "        self.__base_pay = 500\n",
    "        amount = self.hours_of_work * self.__base_pay\n",
    "        return \"{:.2f}\".format(amount)\n",
    "    \n",
    "class FT_Staff(Staff):\n",
    "    def __init__(self,name,job_title, staff_id, level):\n",
    "        super().__init__(name,job_title, staff_id)\n",
    "        self.level = level\n",
    "        \n",
    "    #implementation of calculate_salary for Full time staff    \n",
    "    def calculate_salary(self):\n",
    "        self.__base_pay = 50000\n",
    "        amount =((self.level/10)* self.__base_pay)+self.__base_pay\n",
    "        return \"{:.2f}\".format(amount)"
   ]
  },
  {
   "cell_type": "code",
   "execution_count": 142,
   "metadata": {},
   "outputs": [
    {
     "name": "stdout",
     "output_type": "stream",
     "text": [
      "Staff ID: PT10087\n",
      "Name: Andy\n",
      "Position: Bricklayer\n",
      "Your payment for 5 hours of work is #2500.00\n"
     ]
    }
   ],
   "source": [
    "pt = PT_Staff('Andy', 'Bricklayer', 'PT10087', 5)\n",
    "pt.ID_Card()\n",
    "print(f\"Your payment for {pt.hours_of_work} hours of work is #{pt.calculate_salary()}\")"
   ]
  },
  {
   "cell_type": "code",
   "execution_count": 143,
   "metadata": {},
   "outputs": [
    {
     "name": "stdout",
     "output_type": "stream",
     "text": [
      "Staff ID: FT43216\n",
      "Name: Amanda\n",
      "Position: Sales Manager\n",
      "Your salary as a level 9 officer is #95000.00\n"
     ]
    }
   ],
   "source": [
    "ft = FT_Staff('Amanda', 'Sales Manager', 'FT43216', 9)\n",
    "ft.ID_Card()\n",
    "print(f\"Your salary as a level {ft.level} officer is #{ft.calculate_salary()}\")"
   ]
  },
  {
   "cell_type": "markdown",
   "metadata": {},
   "source": [
    "## POLYMORPHISM\n",
    "Polymorphism simply means having many forms. In programming, it refers to methods having same name but different signatures (i.e diferent set of parameters). At times, the implementation of a parent class method may not fit perfectly for a child class but with the concept of polymorphism, a child class can re-implement the method in its own class. This concept of modifying a parent method in a child classs is know as method overriding."
   ]
  },
  {
   "cell_type": "code",
   "execution_count": 159,
   "metadata": {},
   "outputs": [],
   "source": [
    "class Bank(object):\n",
    "    def __init__(self, bank_name, establishment_year):\n",
    "        self.bank_name = bank_name\n",
    "        self.establishment_year = establishment_year\n",
    "        \n",
    "    def loan_repayment(self, amount, number_of_years, interest_rate):\n",
    "        repayment = amount + (amount *(interest_rate/100)*number_of_years)\n",
    "        return \"{:.2f}\".format(repayment)\n",
    "    \n",
    "class NON_Interest_Bank(Bank):\n",
    "    def loan_repayment(self,amount, number_of_years, service_charge):\n",
    "        repayment = amount + (service_charge * number_of_years)\n",
    "        return \"{:.2f}\".format(repayment)        "
   ]
  },
  {
   "cell_type": "markdown",
   "metadata": {},
   "source": [
    "In the above code, the non_interest class re-implemented the loan_repayment method of the Bank class because non_interest banks do not deal with interests. When we call the loan_repayment method with a non_interest_bank object, the loan_repayment method of the non_interest_bank class is executed. Similary, when we call the loan_repayment method of a Bank class, the loan_ repayment method of the Bank class is executed."
   ]
  },
  {
   "cell_type": "code",
   "execution_count": 162,
   "metadata": {},
   "outputs": [
    {
     "name": "stdout",
     "output_type": "stream",
     "text": [
      "#605000.00\n",
      "#515000.00\n"
     ]
    }
   ],
   "source": [
    "UBA = Bank('UBA', 1906)\n",
    "Jaiz = NON_Interest_Bank('Jaiz', 2000)\n",
    "print(f\"#{UBA.loan_repayment(500000, 5, 4.2)}\")\n",
    "print(f\"#{Jaiz.loan_repayment(500000, 5, 3000)}\")"
   ]
  }
 ],
 "metadata": {
  "kernelspec": {
   "display_name": "Python 3.10.5 64-bit",
   "language": "python",
   "name": "python3"
  },
  "language_info": {
   "codemirror_mode": {
    "name": "ipython",
    "version": 3
   },
   "file_extension": ".py",
   "mimetype": "text/x-python",
   "name": "python",
   "nbconvert_exporter": "python",
   "pygments_lexer": "ipython3",
   "version": "3.10.5"
  },
  "vscode": {
   "interpreter": {
    "hash": "df95319d8ce4e1d89f5365ae10992bc1f65da593082b1d264e8f529830ec2f02"
   }
  }
 },
 "nbformat": 4,
 "nbformat_minor": 4
}
