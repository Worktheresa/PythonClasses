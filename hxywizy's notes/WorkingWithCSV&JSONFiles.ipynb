{
 "cells": [
  {
   "cell_type": "markdown",
   "metadata": {},
   "source": [
    "## WORKING WITH CSV AND JSON FILES\n",
    "CSV (Comma Seperated Values) and JSON (JavaScript Object Notation) files are text files, they can be viewed using text editors. CSV files are simplied spreadsheets and JSON format is used in many web applications."
   ]
  },
  {
   "cell_type": "code",
   "execution_count": 1,
   "metadata": {},
   "outputs": [],
   "source": [
    "import csv"
   ]
  },
  {
   "cell_type": "markdown",
   "metadata": {},
   "source": [
    "## THE CSV MODULE\n",
    "The CSV module is used for reading and writing CSV files. Each line in a CSV file represents a row in an excel spreadsheet and each cell value is seperated by a comma in a row."
   ]
  },
  {
   "cell_type": "markdown",
   "metadata": {},
   "source": [
    "## READING FROM CSV FILES\n",
    "To read from a csv file, we use the reader() method, this method takes a file object as parameter. It also takes an optional parameter called delimeter. A delimiter is a character used to separate the values. By default, the delimiter is a comma. If the CSV file is seperated with a delimeter different from a comma, then you will have to pass the delimiter as an argument to the reader() method. "
   ]
  },
  {
   "cell_type": "code",
   "execution_count": 4,
   "metadata": {},
   "outputs": [
    {
     "data": {
      "text/plain": [
       "<_csv.reader at 0x16c30d22c88>"
      ]
     },
     "execution_count": 4,
     "metadata": {},
     "output_type": "execute_result"
    }
   ],
   "source": [
    "file_obj = open('100 Sales Records.csv')\n",
    "reader_obj = csv.reader(file_obj)\n",
    "reader_obj"
   ]
  },
  {
   "cell_type": "code",
   "execution_count": null,
   "metadata": {},
   "outputs": [],
   "source": []
  },
  {
   "cell_type": "markdown",
   "metadata": {},
   "source": [
    "You can iterate through the reader object to access contents of the csv file"
   ]
  },
  {
   "cell_type": "code",
   "execution_count": 3,
   "metadata": {},
   "outputs": [
    {
     "name": "stdout",
     "output_type": "stream",
     "text": [
      "['Region', 'Country', 'Item Type', 'Sales Channel', 'Order Priority', 'Order Date', 'Order ID', 'Ship Date', 'Units Sold', 'Unit Price', 'Unit Cost', 'Total Revenue', 'Total Cost', 'Total Profit']\n",
      "['Australia and Oceania', 'Tuvalu', 'Baby Food', 'Offline', 'H', '5/28/2010', '669165933', '6/27/2010', '9925', '255.28', '159.42', '2533654.00', '1582243.50', '951410.50']\n",
      "['Central America and the Caribbean', 'Grenada', 'Cereal', 'Online', 'C', '8/22/2012', '963881480', '9/15/2012', '2804', '205.70', '117.11', '576782.80', '328376.44', '248406.36']\n",
      "['Europe', 'Russia', 'Office Supplies', 'Offline', 'L', '5/2/2014', '341417157', '5/8/2014', '1779', '651.21', '524.96', '1158502.59', '933903.84', '224598.75']\n",
      "['Sub-Saharan Africa', 'Sao Tome and Principe', 'Fruits', 'Online', 'C', '6/20/2014', '514321792', '7/5/2014', '8102', '9.33', '6.92', '75591.66', '56065.84', '19525.82']\n",
      "['Sub-Saharan Africa', 'Rwanda', 'Office Supplies', 'Offline', 'L', '2/1/2013', '115456712', '2/6/2013', '5062', '651.21', '524.96', '3296425.02', '2657347.52', '639077.50']\n",
      "['Australia and Oceania', 'Solomon Islands', 'Baby Food', 'Online', 'C', '2/4/2015', '547995746', '2/21/2015', '2974', '255.28', '159.42', '759202.72', '474115.08', '285087.64']\n",
      "['Sub-Saharan Africa', 'Angola', 'Household', 'Offline', 'M', '4/23/2011', '135425221', '4/27/2011', '4187', '668.27', '502.54', '2798046.49', '2104134.98', '693911.51']\n",
      "['Sub-Saharan Africa', 'Burkina Faso', 'Vegetables', 'Online', 'H', '7/17/2012', '871543967', '7/27/2012', '8082', '154.06', '90.93', '1245112.92', '734896.26', '510216.66']\n",
      "['Sub-Saharan Africa', 'Republic of the Congo', 'Personal Care', 'Offline', 'M', '7/14/2015', '770463311', '8/25/2015', '6070', '81.73', '56.67', '496101.10', '343986.90', '152114.20']\n",
      "['Sub-Saharan Africa', 'Senegal', 'Cereal', 'Online', 'H', '4/18/2014', '616607081', '5/30/2014', '6593', '205.70', '117.11', '1356180.10', '772106.23', '584073.87']\n",
      "['Asia', 'Kyrgyzstan', 'Vegetables', 'Online', 'H', '6/24/2011', '814711606', '7/12/2011', '124', '154.06', '90.93', '19103.44', '11275.32', '7828.12']\n",
      "['Sub-Saharan Africa', 'Cape Verde', 'Clothes', 'Offline', 'H', '8/2/2014', '939825713', '8/19/2014', '4168', '109.28', '35.84', '455479.04', '149381.12', '306097.92']\n",
      "['Asia', 'Bangladesh', 'Clothes', 'Online', 'L', '1/13/2017', '187310731', '3/1/2017', '8263', '109.28', '35.84', '902980.64', '296145.92', '606834.72']\n",
      "['Central America and the Caribbean', 'Honduras', 'Household', 'Offline', 'H', '2/8/2017', '522840487', '2/13/2017', '8974', '668.27', '502.54', '5997054.98', '4509793.96', '1487261.02']\n",
      "['Asia', 'Mongolia', 'Personal Care', 'Offline', 'C', '2/19/2014', '832401311', '2/23/2014', '4901', '81.73', '56.67', '400558.73', '277739.67', '122819.06']\n",
      "['Europe', 'Bulgaria', 'Clothes', 'Online', 'M', '4/23/2012', '972292029', '6/3/2012', '1673', '109.28', '35.84', '182825.44', '59960.32', '122865.12']\n",
      "['Asia', 'Sri Lanka', 'Cosmetics', 'Offline', 'M', '11/19/2016', '419123971', '12/18/2016', '6952', '437.20', '263.33', '3039414.40', '1830670.16', '1208744.24']\n",
      "['Sub-Saharan Africa', 'Cameroon', 'Beverages', 'Offline', 'C', '4/1/2015', '519820964', '4/18/2015', '5430', '47.45', '31.79', '257653.50', '172619.70', '85033.80']\n",
      "['Asia', 'Turkmenistan', 'Household', 'Offline', 'L', '12/30/2010', '441619336', '1/20/2011', '3830', '668.27', '502.54', '2559474.10', '1924728.20', '634745.90']\n",
      "['Australia and Oceania', 'East Timor', 'Meat', 'Online', 'L', '7/31/2012', '322067916', '9/11/2012', '5908', '421.89', '364.69', '2492526.12', '2154588.52', '337937.60']\n",
      "['Europe', 'Norway', 'Baby Food', 'Online', 'L', '5/14/2014', '819028031', '6/28/2014', '7450', '255.28', '159.42', '1901836.00', '1187679.00', '714157.00']\n",
      "['Europe', 'Portugal', 'Baby Food', 'Online', 'H', '7/31/2015', '860673511', '9/3/2015', '1273', '255.28', '159.42', '324971.44', '202941.66', '122029.78']\n",
      "['Central America and the Caribbean', 'Honduras', 'Snacks', 'Online', 'L', '6/30/2016', '795490682', '7/26/2016', '2225', '152.58', '97.44', '339490.50', '216804.00', '122686.50']\n",
      "['Australia and Oceania', 'New Zealand', 'Fruits', 'Online', 'H', '9/8/2014', '142278373', '10/4/2014', '2187', '9.33', '6.92', '20404.71', '15134.04', '5270.67']\n",
      "['Europe', 'Moldova ', 'Personal Care', 'Online', 'L', '5/7/2016', '740147912', '5/10/2016', '5070', '81.73', '56.67', '414371.10', '287316.90', '127054.20']\n",
      "['Europe', 'France', 'Cosmetics', 'Online', 'H', '5/22/2017', '898523128', '6/5/2017', '1815', '437.20', '263.33', '793518.00', '477943.95', '315574.05']\n",
      "['Australia and Oceania', 'Kiribati', 'Fruits', 'Online', 'M', '10/13/2014', '347140347', '11/10/2014', '5398', '9.33', '6.92', '50363.34', '37354.16', '13009.18']\n",
      "['Sub-Saharan Africa', 'Mali', 'Fruits', 'Online', 'L', '5/7/2010', '686048400', '5/10/2010', '5822', '9.33', '6.92', '54319.26', '40288.24', '14031.02']\n",
      "['Europe', 'Norway', 'Beverages', 'Offline', 'C', '7/18/2014', '435608613', '7/30/2014', '5124', '47.45', '31.79', '243133.80', '162891.96', '80241.84']\n",
      "['Sub-Saharan Africa', 'The Gambia', 'Household', 'Offline', 'L', '5/26/2012', '886494815', '6/9/2012', '2370', '668.27', '502.54', '1583799.90', '1191019.80', '392780.10']\n",
      "['Europe', 'Switzerland', 'Cosmetics', 'Offline', 'M', '9/17/2012', '249693334', '10/20/2012', '8661', '437.20', '263.33', '3786589.20', '2280701.13', '1505888.07']\n",
      "['Sub-Saharan Africa', 'South Sudan', 'Personal Care', 'Offline', 'C', '12/29/2013', '406502997', '1/28/2014', '2125', '81.73', '56.67', '173676.25', '120423.75', '53252.50']\n",
      "['Australia and Oceania', 'Australia', 'Office Supplies', 'Online', 'C', '10/27/2015', '158535134', '11/25/2015', '2924', '651.21', '524.96', '1904138.04', '1534983.04', '369155.00']\n",
      "['Asia', 'Myanmar', 'Household', 'Offline', 'H', '1/16/2015', '177713572', '3/1/2015', '8250', '668.27', '502.54', '5513227.50', '4145955.00', '1367272.50']\n",
      "['Sub-Saharan Africa', 'Djibouti', 'Snacks', 'Online', 'M', '2/25/2017', '756274640', '2/25/2017', '7327', '152.58', '97.44', '1117953.66', '713942.88', '404010.78']\n",
      "['Central America and the Caribbean', 'Costa Rica', 'Personal Care', 'Offline', 'L', '5/8/2017', '456767165', '5/21/2017', '6409', '81.73', '56.67', '523807.57', '363198.03', '160609.54']\n",
      "['Middle East and North Africa', 'Syria', 'Fruits', 'Online', 'L', '11/22/2011', '162052476', '12/3/2011', '3784', '9.33', '6.92', '35304.72', '26185.28', '9119.44']\n",
      "['Sub-Saharan Africa', 'The Gambia', 'Meat', 'Online', 'M', '1/14/2017', '825304400', '1/23/2017', '4767', '421.89', '364.69', '2011149.63', '1738477.23', '272672.40']\n",
      "['Asia', 'Brunei', 'Office Supplies', 'Online', 'L', '4/1/2012', '320009267', '5/8/2012', '6708', '651.21', '524.96', '4368316.68', '3521431.68', '846885.00']\n",
      "['Europe', 'Bulgaria', 'Office Supplies', 'Online', 'M', '2/16/2012', '189965903', '2/28/2012', '3987', '651.21', '524.96', '2596374.27', '2093015.52', '503358.75']\n",
      "['Sub-Saharan Africa', 'Niger', 'Personal Care', 'Online', 'H', '3/11/2017', '699285638', '3/28/2017', '3015', '81.73', '56.67', '246415.95', '170860.05', '75555.90']\n",
      "['Middle East and North Africa', 'Azerbaijan', 'Cosmetics', 'Online', 'M', '2/6/2010', '382392299', '2/25/2010', '7234', '437.20', '263.33', '3162704.80', '1904929.22', '1257775.58']\n",
      "['Sub-Saharan Africa', 'The Gambia', 'Cereal', 'Offline', 'H', '6/7/2012', '994022214', '6/8/2012', '2117', '205.70', '117.11', '435466.90', '247921.87', '187545.03']\n",
      "['Europe', 'Slovakia', 'Vegetables', 'Online', 'H', '10/6/2012', '759224212', '11/10/2012', '171', '154.06', '90.93', '26344.26', '15549.03', '10795.23']\n",
      "['Asia', 'Myanmar', 'Clothes', 'Online', 'H', '11/14/2015', '223359620', '11/18/2015', '5930', '109.28', '35.84', '648030.40', '212531.20', '435499.20']\n",
      "['Sub-Saharan Africa', 'Comoros', 'Cereal', 'Offline', 'H', '3/29/2016', '902102267', '4/29/2016', '962', '205.70', '117.11', '197883.40', '112659.82', '85223.58']\n",
      "['Europe', 'Iceland', 'Cosmetics', 'Online', 'C', '12/31/2016', '331438481', '12/31/2016', '8867', '437.20', '263.33', '3876652.40', '2334947.11', '1541705.29']\n",
      "['Europe', 'Switzerland', 'Personal Care', 'Online', 'M', '12/23/2010', '617667090', '1/31/2011', '273', '81.73', '56.67', '22312.29', '15470.91', '6841.38']\n",
      "['Europe', 'Macedonia', 'Clothes', 'Offline', 'C', '10/14/2014', '787399423', '11/14/2014', '7842', '109.28', '35.84', '856973.76', '281057.28', '575916.48']\n",
      "['Sub-Saharan Africa', 'Mauritania', 'Office Supplies', 'Offline', 'C', '1/11/2012', '837559306', '1/13/2012', '1266', '651.21', '524.96', '824431.86', '664599.36', '159832.50']\n",
      "['Europe', 'Albania', 'Clothes', 'Online', 'C', '2/2/2010', '385383069', '3/18/2010', '2269', '109.28', '35.84', '247956.32', '81320.96', '166635.36']\n",
      "['Sub-Saharan Africa', 'Lesotho', 'Fruits', 'Online', 'L', '8/18/2013', '918419539', '9/18/2013', '9606', '9.33', '6.92', '89623.98', '66473.52', '23150.46']\n",
      "['Middle East and North Africa', 'Saudi Arabia', 'Cereal', 'Online', 'M', '3/25/2013', '844530045', '3/28/2013', '4063', '205.70', '117.11', '835759.10', '475817.93', '359941.17']\n",
      "['Sub-Saharan Africa', 'Sierra Leone', 'Office Supplies', 'Offline', 'M', '11/26/2011', '441888415', '1/7/2012', '3457', '651.21', '524.96', '2251232.97', '1814786.72', '436446.25']\n",
      "['Sub-Saharan Africa', 'Sao Tome and Principe', 'Fruits', 'Offline', 'H', '9/17/2013', '508980977', '10/24/2013', '7637', '9.33', '6.92', '71253.21', '52848.04', '18405.17']\n",
      "['Sub-Saharan Africa', \"Cote d'Ivoire\", 'Clothes', 'Online', 'C', '6/8/2012', '114606559', '6/27/2012', '3482', '109.28', '35.84', '380512.96', '124794.88', '255718.08']\n",
      "['Australia and Oceania', 'Fiji', 'Clothes', 'Offline', 'C', '6/30/2010', '647876489', '8/1/2010', '9905', '109.28', '35.84', '1082418.40', '354995.20', '727423.20']\n",
      "['Europe', 'Austria', 'Cosmetics', 'Offline', 'H', '2/23/2015', '868214595', '3/2/2015', '2847', '437.20', '263.33', '1244708.40', '749700.51', '495007.89']\n",
      "['Europe', 'United Kingdom', 'Household', 'Online', 'L', '1/5/2012', '955357205', '2/14/2012', '282', '668.27', '502.54', '188452.14', '141716.28', '46735.86']\n",
      "['Sub-Saharan Africa', 'Djibouti', 'Cosmetics', 'Offline', 'H', '4/7/2014', '259353148', '4/19/2014', '7215', '437.20', '263.33', '3154398.00', '1899925.95', '1254472.05']\n",
      "['Australia and Oceania', 'Australia', 'Cereal', 'Offline', 'H', '6/9/2013', '450563752', '7/2/2013', '682', '205.70', '117.11', '140287.40', '79869.02', '60418.38']\n",
      "['Europe', 'San Marino', 'Baby Food', 'Online', 'L', '6/26/2013', '569662845', '7/1/2013', '4750', '255.28', '159.42', '1212580.00', '757245.00', '455335.00']\n",
      "['Sub-Saharan Africa', 'Cameroon', 'Office Supplies', 'Online', 'M', '11/7/2011', '177636754', '11/15/2011', '5518', '651.21', '524.96', '3593376.78', '2896729.28', '696647.50']\n",
      "['Middle East and North Africa', 'Libya', 'Clothes', 'Offline', 'H', '10/30/2010', '705784308', '11/17/2010', '6116', '109.28', '35.84', '668356.48', '219197.44', '449159.04']\n",
      "['Central America and the Caribbean', 'Haiti', 'Cosmetics', 'Offline', 'H', '10/13/2013', '505716836', '11/16/2013', '1705', '437.20', '263.33', '745426.00', '448977.65', '296448.35']\n",
      "['Sub-Saharan Africa', 'Rwanda', 'Cosmetics', 'Offline', 'H', '10/11/2013', '699358165', '11/25/2013', '4477', '437.20', '263.33', '1957344.40', '1178928.41', '778415.99']\n",
      "['Sub-Saharan Africa', 'Gabon', 'Personal Care', 'Offline', 'L', '7/8/2012', '228944623', '7/9/2012', '8656', '81.73', '56.67', '707454.88', '490535.52', '216919.36']\n",
      "['Central America and the Caribbean', 'Belize', 'Clothes', 'Offline', 'M', '7/25/2016', '807025039', '9/7/2016', '5498', '109.28', '35.84', '600821.44', '197048.32', '403773.12']\n",
      "['Europe', 'Lithuania', 'Office Supplies', 'Offline', 'H', '10/24/2010', '166460740', '11/17/2010', '8287', '651.21', '524.96', '5396577.27', '4350343.52', '1046233.75']\n",
      "['Sub-Saharan Africa', 'Madagascar', 'Clothes', 'Offline', 'L', '4/25/2015', '610425555', '5/28/2015', '7342', '109.28', '35.84', '802333.76', '263137.28', '539196.48']\n",
      "['Asia', 'Turkmenistan', 'Office Supplies', 'Online', 'M', '4/23/2013', '462405812', '5/20/2013', '5010', '651.21', '524.96', '3262562.10', '2630049.60', '632512.50']\n",
      "['Middle East and North Africa', 'Libya', 'Fruits', 'Online', 'L', '8/14/2015', '816200339', '9/30/2015', '673', '9.33', '6.92', '6279.09', '4657.16', '1621.93']\n",
      "['Sub-Saharan Africa', 'Democratic Republic of the Congo', 'Beverages', 'Online', 'C', '5/26/2011', '585920464', '7/15/2011', '5741', '47.45', '31.79', '272410.45', '182506.39', '89904.06']\n",
      "['Sub-Saharan Africa', 'Djibouti', 'Cereal', 'Online', 'H', '5/20/2017', '555990016', '6/17/2017', '8656', '205.70', '117.11', '1780539.20', '1013704.16', '766835.04']\n",
      "['Middle East and North Africa', 'Pakistan', 'Cosmetics', 'Offline', 'L', '7/5/2013', '231145322', '8/16/2013', '9892', '437.20', '263.33', '4324782.40', '2604860.36', '1719922.04']\n",
      "['North America', 'Mexico', 'Household', 'Offline', 'C', '11/6/2014', '986435210', '12/12/2014', '6954', '668.27', '502.54', '4647149.58', '3494663.16', '1152486.42']\n",
      "['Australia and Oceania', 'Federated States of Micronesia', 'Beverages', 'Online', 'C', '10/28/2014', '217221009', '11/15/2014', '9379', '47.45', '31.79', '445033.55', '298158.41', '146875.14']\n",
      "['Asia', 'Laos', 'Vegetables', 'Offline', 'C', '9/15/2011', '789176547', '10/23/2011', '3732', '154.06', '90.93', '574951.92', '339350.76', '235601.16']\n",
      "['Europe', 'Monaco', 'Baby Food', 'Offline', 'H', '5/29/2012', '688288152', '6/2/2012', '8614', '255.28', '159.42', '2198981.92', '1373243.88', '825738.04']\n",
      "['Australia and Oceania', 'Samoa ', 'Cosmetics', 'Online', 'H', '7/20/2013', '670854651', '8/7/2013', '9654', '437.20', '263.33', '4220728.80', '2542187.82', '1678540.98']\n",
      "['Europe', 'Spain', 'Household', 'Offline', 'L', '10/21/2012', '213487374', '11/30/2012', '4513', '668.27', '502.54', '3015902.51', '2267963.02', '747939.49']\n",
      "['Middle East and North Africa', 'Lebanon', 'Clothes', 'Online', 'L', '9/18/2012', '663110148', '10/8/2012', '7884', '109.28', '35.84', '861563.52', '282562.56', '579000.96']\n",
      "['Middle East and North Africa', 'Iran', 'Cosmetics', 'Online', 'H', '11/15/2016', '286959302', '12/8/2016', '6489', '437.20', '263.33', '2836990.80', '1708748.37', '1128242.43']\n",
      "['Sub-Saharan Africa', 'Zambia', 'Snacks', 'Online', 'L', '1/4/2011', '122583663', '1/5/2011', '4085', '152.58', '97.44', '623289.30', '398042.40', '225246.90']\n",
      "['Sub-Saharan Africa', 'Kenya', 'Vegetables', 'Online', 'L', '3/18/2012', '827844560', '4/7/2012', '6457', '154.06', '90.93', '994765.42', '587135.01', '407630.41']\n",
      "['North America', 'Mexico', 'Personal Care', 'Offline', 'L', '2/17/2012', '430915820', '3/20/2012', '6422', '81.73', '56.67', '524870.06', '363934.74', '160935.32']\n",
      "['Sub-Saharan Africa', 'Sao Tome and Principe', 'Beverages', 'Offline', 'C', '1/16/2011', '180283772', '1/21/2011', '8829', '47.45', '31.79', '418936.05', '280673.91', '138262.14']\n",
      "['Sub-Saharan Africa', 'The Gambia', 'Baby Food', 'Offline', 'M', '2/3/2014', '494747245', '3/20/2014', '5559', '255.28', '159.42', '1419101.52', '886215.78', '532885.74']\n",
      "['Middle East and North Africa', 'Kuwait', 'Fruits', 'Online', 'M', '4/30/2012', '513417565', '5/18/2012', '522', '9.33', '6.92', '4870.26', '3612.24', '1258.02']\n",
      "['Europe', 'Slovenia', 'Beverages', 'Offline', 'C', '10/23/2016', '345718562', '11/25/2016', '4660', '47.45', '31.79', '221117.00', '148141.40', '72975.60']\n",
      "['Sub-Saharan Africa', 'Sierra Leone', 'Office Supplies', 'Offline', 'H', '12/6/2016', '621386563', '12/14/2016', '948', '651.21', '524.96', '617347.08', '497662.08', '119685.00']\n",
      "['Australia and Oceania', 'Australia', 'Beverages', 'Offline', 'H', '7/7/2014', '240470397', '7/11/2014', '9389', '47.45', '31.79', '445508.05', '298476.31', '147031.74']\n",
      "['Middle East and North Africa', 'Azerbaijan', 'Office Supplies', 'Online', 'M', '6/13/2012', '423331391', '7/24/2012', '2021', '651.21', '524.96', '1316095.41', '1060944.16', '255151.25']\n",
      "['Europe', 'Romania', 'Cosmetics', 'Online', 'H', '11/26/2010', '660643374', '12/25/2010', '7910', '437.20', '263.33', '3458252.00', '2082940.30', '1375311.70']\n",
      "['Central America and the Caribbean', 'Nicaragua', 'Beverages', 'Offline', 'C', '2/8/2011', '963392674', '3/21/2011', '8156', '47.45', '31.79', '387002.20', '259279.24', '127722.96']\n",
      "['Sub-Saharan Africa', 'Mali', 'Clothes', 'Online', 'M', '7/26/2011', '512878119', '9/3/2011', '888', '109.28', '35.84', '97040.64', '31825.92', '65214.72']\n",
      "['Asia', 'Malaysia', 'Fruits', 'Offline', 'L', '11/11/2011', '810711038', '12/28/2011', '6267', '9.33', '6.92', '58471.11', '43367.64', '15103.47']\n",
      "['Sub-Saharan Africa', 'Sierra Leone', 'Vegetables', 'Offline', 'C', '6/1/2016', '728815257', '6/29/2016', '1485', '154.06', '90.93', '228779.10', '135031.05', '93748.05']\n",
      "['North America', 'Mexico', 'Personal Care', 'Offline', 'M', '7/30/2015', '559427106', '8/8/2015', '5767', '81.73', '56.67', '471336.91', '326815.89', '144521.02']\n",
      "['Sub-Saharan Africa', 'Mozambique', 'Household', 'Offline', 'L', '2/10/2012', '665095412', '2/15/2012', '5367', '668.27', '502.54', '3586605.09', '2697132.18', '889472.91']\n"
     ]
    }
   ],
   "source": [
    "for line in reader_obj:\n",
    "    print(line)"
   ]
  },
  {
   "cell_type": "markdown",
   "metadata": {},
   "source": [
    "From the above code, you can see that the header was also printed out. If you do not want it printed out, you can skip it by using the next() iterator function. You can also choose which of the values you want to print."
   ]
  },
  {
   "cell_type": "code",
   "execution_count": 5,
   "metadata": {},
   "outputs": [
    {
     "name": "stdout",
     "output_type": "stream",
     "text": [
      "Item:Baby Food Units sold:255.28 Unit Price:159.42\n",
      "Item:Cereal Units sold:205.70 Unit Price:117.11\n",
      "Item:Office Supplies Units sold:651.21 Unit Price:524.96\n",
      "Item:Fruits Units sold:9.33 Unit Price:6.92\n",
      "Item:Office Supplies Units sold:651.21 Unit Price:524.96\n",
      "Item:Baby Food Units sold:255.28 Unit Price:159.42\n",
      "Item:Household Units sold:668.27 Unit Price:502.54\n",
      "Item:Vegetables Units sold:154.06 Unit Price:90.93\n",
      "Item:Personal Care Units sold:81.73 Unit Price:56.67\n",
      "Item:Cereal Units sold:205.70 Unit Price:117.11\n",
      "Item:Vegetables Units sold:154.06 Unit Price:90.93\n",
      "Item:Clothes Units sold:109.28 Unit Price:35.84\n",
      "Item:Clothes Units sold:109.28 Unit Price:35.84\n",
      "Item:Household Units sold:668.27 Unit Price:502.54\n",
      "Item:Personal Care Units sold:81.73 Unit Price:56.67\n",
      "Item:Clothes Units sold:109.28 Unit Price:35.84\n",
      "Item:Cosmetics Units sold:437.20 Unit Price:263.33\n",
      "Item:Beverages Units sold:47.45 Unit Price:31.79\n",
      "Item:Household Units sold:668.27 Unit Price:502.54\n",
      "Item:Meat Units sold:421.89 Unit Price:364.69\n",
      "Item:Baby Food Units sold:255.28 Unit Price:159.42\n",
      "Item:Baby Food Units sold:255.28 Unit Price:159.42\n",
      "Item:Snacks Units sold:152.58 Unit Price:97.44\n",
      "Item:Fruits Units sold:9.33 Unit Price:6.92\n",
      "Item:Personal Care Units sold:81.73 Unit Price:56.67\n",
      "Item:Cosmetics Units sold:437.20 Unit Price:263.33\n",
      "Item:Fruits Units sold:9.33 Unit Price:6.92\n",
      "Item:Fruits Units sold:9.33 Unit Price:6.92\n",
      "Item:Beverages Units sold:47.45 Unit Price:31.79\n",
      "Item:Household Units sold:668.27 Unit Price:502.54\n",
      "Item:Cosmetics Units sold:437.20 Unit Price:263.33\n",
      "Item:Personal Care Units sold:81.73 Unit Price:56.67\n",
      "Item:Office Supplies Units sold:651.21 Unit Price:524.96\n",
      "Item:Household Units sold:668.27 Unit Price:502.54\n",
      "Item:Snacks Units sold:152.58 Unit Price:97.44\n",
      "Item:Personal Care Units sold:81.73 Unit Price:56.67\n",
      "Item:Fruits Units sold:9.33 Unit Price:6.92\n",
      "Item:Meat Units sold:421.89 Unit Price:364.69\n",
      "Item:Office Supplies Units sold:651.21 Unit Price:524.96\n",
      "Item:Office Supplies Units sold:651.21 Unit Price:524.96\n",
      "Item:Personal Care Units sold:81.73 Unit Price:56.67\n",
      "Item:Cosmetics Units sold:437.20 Unit Price:263.33\n",
      "Item:Cereal Units sold:205.70 Unit Price:117.11\n",
      "Item:Vegetables Units sold:154.06 Unit Price:90.93\n",
      "Item:Clothes Units sold:109.28 Unit Price:35.84\n",
      "Item:Cereal Units sold:205.70 Unit Price:117.11\n",
      "Item:Cosmetics Units sold:437.20 Unit Price:263.33\n",
      "Item:Personal Care Units sold:81.73 Unit Price:56.67\n",
      "Item:Clothes Units sold:109.28 Unit Price:35.84\n",
      "Item:Office Supplies Units sold:651.21 Unit Price:524.96\n",
      "Item:Clothes Units sold:109.28 Unit Price:35.84\n",
      "Item:Fruits Units sold:9.33 Unit Price:6.92\n",
      "Item:Cereal Units sold:205.70 Unit Price:117.11\n",
      "Item:Office Supplies Units sold:651.21 Unit Price:524.96\n",
      "Item:Fruits Units sold:9.33 Unit Price:6.92\n",
      "Item:Clothes Units sold:109.28 Unit Price:35.84\n",
      "Item:Clothes Units sold:109.28 Unit Price:35.84\n",
      "Item:Cosmetics Units sold:437.20 Unit Price:263.33\n",
      "Item:Household Units sold:668.27 Unit Price:502.54\n",
      "Item:Cosmetics Units sold:437.20 Unit Price:263.33\n",
      "Item:Cereal Units sold:205.70 Unit Price:117.11\n",
      "Item:Baby Food Units sold:255.28 Unit Price:159.42\n",
      "Item:Office Supplies Units sold:651.21 Unit Price:524.96\n",
      "Item:Clothes Units sold:109.28 Unit Price:35.84\n",
      "Item:Cosmetics Units sold:437.20 Unit Price:263.33\n",
      "Item:Cosmetics Units sold:437.20 Unit Price:263.33\n",
      "Item:Personal Care Units sold:81.73 Unit Price:56.67\n",
      "Item:Clothes Units sold:109.28 Unit Price:35.84\n",
      "Item:Office Supplies Units sold:651.21 Unit Price:524.96\n",
      "Item:Clothes Units sold:109.28 Unit Price:35.84\n",
      "Item:Office Supplies Units sold:651.21 Unit Price:524.96\n",
      "Item:Fruits Units sold:9.33 Unit Price:6.92\n",
      "Item:Beverages Units sold:47.45 Unit Price:31.79\n",
      "Item:Cereal Units sold:205.70 Unit Price:117.11\n",
      "Item:Cosmetics Units sold:437.20 Unit Price:263.33\n",
      "Item:Household Units sold:668.27 Unit Price:502.54\n",
      "Item:Beverages Units sold:47.45 Unit Price:31.79\n",
      "Item:Vegetables Units sold:154.06 Unit Price:90.93\n",
      "Item:Baby Food Units sold:255.28 Unit Price:159.42\n",
      "Item:Cosmetics Units sold:437.20 Unit Price:263.33\n",
      "Item:Household Units sold:668.27 Unit Price:502.54\n",
      "Item:Clothes Units sold:109.28 Unit Price:35.84\n",
      "Item:Cosmetics Units sold:437.20 Unit Price:263.33\n",
      "Item:Snacks Units sold:152.58 Unit Price:97.44\n",
      "Item:Vegetables Units sold:154.06 Unit Price:90.93\n",
      "Item:Personal Care Units sold:81.73 Unit Price:56.67\n",
      "Item:Beverages Units sold:47.45 Unit Price:31.79\n",
      "Item:Baby Food Units sold:255.28 Unit Price:159.42\n",
      "Item:Fruits Units sold:9.33 Unit Price:6.92\n",
      "Item:Beverages Units sold:47.45 Unit Price:31.79\n",
      "Item:Office Supplies Units sold:651.21 Unit Price:524.96\n",
      "Item:Beverages Units sold:47.45 Unit Price:31.79\n",
      "Item:Office Supplies Units sold:651.21 Unit Price:524.96\n",
      "Item:Cosmetics Units sold:437.20 Unit Price:263.33\n",
      "Item:Beverages Units sold:47.45 Unit Price:31.79\n",
      "Item:Clothes Units sold:109.28 Unit Price:35.84\n",
      "Item:Fruits Units sold:9.33 Unit Price:6.92\n",
      "Item:Vegetables Units sold:154.06 Unit Price:90.93\n",
      "Item:Personal Care Units sold:81.73 Unit Price:56.67\n",
      "Item:Household Units sold:668.27 Unit Price:502.54\n"
     ]
    }
   ],
   "source": [
    "with open ('100 Sales Records.csv', 'r') as csv_file:\n",
    "    csv_reader = csv.reader(csv_file)\n",
    "    next(csv_reader)\n",
    "    for line in csv_reader:\n",
    "        print(f'Item:{line[2]} Units sold:{line[9]} Unit Price:{line[10]}')"
   ]
  },
  {
   "cell_type": "markdown",
   "metadata": {},
   "source": [
    "## THE DICTREADER() METHOD\n",
    "The CSV module has a DictReader() method which reads a csv file and returns an OrderedDict of values. An OrderedDict is a sub class of a dictionary that preserves the order in which the keys were inserted.\n",
    "The DictReader() method is useful for csv files that have header rows. Unlike the reader() method which returns the header rows of a csv file as part of the contents of the file, the DictReader() uses the header rows as keys for each dictionary object."
   ]
  },
  {
   "cell_type": "code",
   "execution_count": 8,
   "metadata": {},
   "outputs": [
    {
     "name": "stdout",
     "output_type": "stream",
     "text": [
      "OrderedDict([('Region', 'Australia and Oceania'), ('Country', 'Tuvalu'), ('Item Type', 'Baby Food'), ('Sales Channel', 'Offline'), ('Order Priority', 'H'), ('Order Date', '5/28/2010'), ('Order ID', '669165933'), ('Ship Date', '6/27/2010'), ('Units Sold', '9925'), ('Unit Price', '255.28'), ('Unit Cost', '159.42'), ('Total Revenue', '2533654.00'), ('Total Cost', '1582243.50'), ('Total Profit', '951410.50')])\n",
      "OrderedDict([('Region', 'Central America and the Caribbean'), ('Country', 'Grenada'), ('Item Type', 'Cereal'), ('Sales Channel', 'Online'), ('Order Priority', 'C'), ('Order Date', '8/22/2012'), ('Order ID', '963881480'), ('Ship Date', '9/15/2012'), ('Units Sold', '2804'), ('Unit Price', '205.70'), ('Unit Cost', '117.11'), ('Total Revenue', '576782.80'), ('Total Cost', '328376.44'), ('Total Profit', '248406.36')])\n",
      "OrderedDict([('Region', 'Europe'), ('Country', 'Russia'), ('Item Type', 'Office Supplies'), ('Sales Channel', 'Offline'), ('Order Priority', 'L'), ('Order Date', '5/2/2014'), ('Order ID', '341417157'), ('Ship Date', '5/8/2014'), ('Units Sold', '1779'), ('Unit Price', '651.21'), ('Unit Cost', '524.96'), ('Total Revenue', '1158502.59'), ('Total Cost', '933903.84'), ('Total Profit', '224598.75')])\n",
      "OrderedDict([('Region', 'Sub-Saharan Africa'), ('Country', 'Sao Tome and Principe'), ('Item Type', 'Fruits'), ('Sales Channel', 'Online'), ('Order Priority', 'C'), ('Order Date', '6/20/2014'), ('Order ID', '514321792'), ('Ship Date', '7/5/2014'), ('Units Sold', '8102'), ('Unit Price', '9.33'), ('Unit Cost', '6.92'), ('Total Revenue', '75591.66'), ('Total Cost', '56065.84'), ('Total Profit', '19525.82')])\n",
      "OrderedDict([('Region', 'Sub-Saharan Africa'), ('Country', 'Rwanda'), ('Item Type', 'Office Supplies'), ('Sales Channel', 'Offline'), ('Order Priority', 'L'), ('Order Date', '2/1/2013'), ('Order ID', '115456712'), ('Ship Date', '2/6/2013'), ('Units Sold', '5062'), ('Unit Price', '651.21'), ('Unit Cost', '524.96'), ('Total Revenue', '3296425.02'), ('Total Cost', '2657347.52'), ('Total Profit', '639077.50')])\n",
      "OrderedDict([('Region', 'Australia and Oceania'), ('Country', 'Solomon Islands'), ('Item Type', 'Baby Food'), ('Sales Channel', 'Online'), ('Order Priority', 'C'), ('Order Date', '2/4/2015'), ('Order ID', '547995746'), ('Ship Date', '2/21/2015'), ('Units Sold', '2974'), ('Unit Price', '255.28'), ('Unit Cost', '159.42'), ('Total Revenue', '759202.72'), ('Total Cost', '474115.08'), ('Total Profit', '285087.64')])\n",
      "OrderedDict([('Region', 'Sub-Saharan Africa'), ('Country', 'Angola'), ('Item Type', 'Household'), ('Sales Channel', 'Offline'), ('Order Priority', 'M'), ('Order Date', '4/23/2011'), ('Order ID', '135425221'), ('Ship Date', '4/27/2011'), ('Units Sold', '4187'), ('Unit Price', '668.27'), ('Unit Cost', '502.54'), ('Total Revenue', '2798046.49'), ('Total Cost', '2104134.98'), ('Total Profit', '693911.51')])\n",
      "OrderedDict([('Region', 'Sub-Saharan Africa'), ('Country', 'Burkina Faso'), ('Item Type', 'Vegetables'), ('Sales Channel', 'Online'), ('Order Priority', 'H'), ('Order Date', '7/17/2012'), ('Order ID', '871543967'), ('Ship Date', '7/27/2012'), ('Units Sold', '8082'), ('Unit Price', '154.06'), ('Unit Cost', '90.93'), ('Total Revenue', '1245112.92'), ('Total Cost', '734896.26'), ('Total Profit', '510216.66')])\n",
      "OrderedDict([('Region', 'Sub-Saharan Africa'), ('Country', 'Republic of the Congo'), ('Item Type', 'Personal Care'), ('Sales Channel', 'Offline'), ('Order Priority', 'M'), ('Order Date', '7/14/2015'), ('Order ID', '770463311'), ('Ship Date', '8/25/2015'), ('Units Sold', '6070'), ('Unit Price', '81.73'), ('Unit Cost', '56.67'), ('Total Revenue', '496101.10'), ('Total Cost', '343986.90'), ('Total Profit', '152114.20')])\n",
      "OrderedDict([('Region', 'Sub-Saharan Africa'), ('Country', 'Senegal'), ('Item Type', 'Cereal'), ('Sales Channel', 'Online'), ('Order Priority', 'H'), ('Order Date', '4/18/2014'), ('Order ID', '616607081'), ('Ship Date', '5/30/2014'), ('Units Sold', '6593'), ('Unit Price', '205.70'), ('Unit Cost', '117.11'), ('Total Revenue', '1356180.10'), ('Total Cost', '772106.23'), ('Total Profit', '584073.87')])\n",
      "OrderedDict([('Region', 'Asia'), ('Country', 'Kyrgyzstan'), ('Item Type', 'Vegetables'), ('Sales Channel', 'Online'), ('Order Priority', 'H'), ('Order Date', '6/24/2011'), ('Order ID', '814711606'), ('Ship Date', '7/12/2011'), ('Units Sold', '124'), ('Unit Price', '154.06'), ('Unit Cost', '90.93'), ('Total Revenue', '19103.44'), ('Total Cost', '11275.32'), ('Total Profit', '7828.12')])\n",
      "OrderedDict([('Region', 'Sub-Saharan Africa'), ('Country', 'Cape Verde'), ('Item Type', 'Clothes'), ('Sales Channel', 'Offline'), ('Order Priority', 'H'), ('Order Date', '8/2/2014'), ('Order ID', '939825713'), ('Ship Date', '8/19/2014'), ('Units Sold', '4168'), ('Unit Price', '109.28'), ('Unit Cost', '35.84'), ('Total Revenue', '455479.04'), ('Total Cost', '149381.12'), ('Total Profit', '306097.92')])\n",
      "OrderedDict([('Region', 'Asia'), ('Country', 'Bangladesh'), ('Item Type', 'Clothes'), ('Sales Channel', 'Online'), ('Order Priority', 'L'), ('Order Date', '1/13/2017'), ('Order ID', '187310731'), ('Ship Date', '3/1/2017'), ('Units Sold', '8263'), ('Unit Price', '109.28'), ('Unit Cost', '35.84'), ('Total Revenue', '902980.64'), ('Total Cost', '296145.92'), ('Total Profit', '606834.72')])\n",
      "OrderedDict([('Region', 'Central America and the Caribbean'), ('Country', 'Honduras'), ('Item Type', 'Household'), ('Sales Channel', 'Offline'), ('Order Priority', 'H'), ('Order Date', '2/8/2017'), ('Order ID', '522840487'), ('Ship Date', '2/13/2017'), ('Units Sold', '8974'), ('Unit Price', '668.27'), ('Unit Cost', '502.54'), ('Total Revenue', '5997054.98'), ('Total Cost', '4509793.96'), ('Total Profit', '1487261.02')])\n",
      "OrderedDict([('Region', 'Asia'), ('Country', 'Mongolia'), ('Item Type', 'Personal Care'), ('Sales Channel', 'Offline'), ('Order Priority', 'C'), ('Order Date', '2/19/2014'), ('Order ID', '832401311'), ('Ship Date', '2/23/2014'), ('Units Sold', '4901'), ('Unit Price', '81.73'), ('Unit Cost', '56.67'), ('Total Revenue', '400558.73'), ('Total Cost', '277739.67'), ('Total Profit', '122819.06')])\n",
      "OrderedDict([('Region', 'Europe'), ('Country', 'Bulgaria'), ('Item Type', 'Clothes'), ('Sales Channel', 'Online'), ('Order Priority', 'M'), ('Order Date', '4/23/2012'), ('Order ID', '972292029'), ('Ship Date', '6/3/2012'), ('Units Sold', '1673'), ('Unit Price', '109.28'), ('Unit Cost', '35.84'), ('Total Revenue', '182825.44'), ('Total Cost', '59960.32'), ('Total Profit', '122865.12')])\n",
      "OrderedDict([('Region', 'Asia'), ('Country', 'Sri Lanka'), ('Item Type', 'Cosmetics'), ('Sales Channel', 'Offline'), ('Order Priority', 'M'), ('Order Date', '11/19/2016'), ('Order ID', '419123971'), ('Ship Date', '12/18/2016'), ('Units Sold', '6952'), ('Unit Price', '437.20'), ('Unit Cost', '263.33'), ('Total Revenue', '3039414.40'), ('Total Cost', '1830670.16'), ('Total Profit', '1208744.24')])\n",
      "OrderedDict([('Region', 'Sub-Saharan Africa'), ('Country', 'Cameroon'), ('Item Type', 'Beverages'), ('Sales Channel', 'Offline'), ('Order Priority', 'C'), ('Order Date', '4/1/2015'), ('Order ID', '519820964'), ('Ship Date', '4/18/2015'), ('Units Sold', '5430'), ('Unit Price', '47.45'), ('Unit Cost', '31.79'), ('Total Revenue', '257653.50'), ('Total Cost', '172619.70'), ('Total Profit', '85033.80')])\n",
      "OrderedDict([('Region', 'Asia'), ('Country', 'Turkmenistan'), ('Item Type', 'Household'), ('Sales Channel', 'Offline'), ('Order Priority', 'L'), ('Order Date', '12/30/2010'), ('Order ID', '441619336'), ('Ship Date', '1/20/2011'), ('Units Sold', '3830'), ('Unit Price', '668.27'), ('Unit Cost', '502.54'), ('Total Revenue', '2559474.10'), ('Total Cost', '1924728.20'), ('Total Profit', '634745.90')])\n",
      "OrderedDict([('Region', 'Australia and Oceania'), ('Country', 'East Timor'), ('Item Type', 'Meat'), ('Sales Channel', 'Online'), ('Order Priority', 'L'), ('Order Date', '7/31/2012'), ('Order ID', '322067916'), ('Ship Date', '9/11/2012'), ('Units Sold', '5908'), ('Unit Price', '421.89'), ('Unit Cost', '364.69'), ('Total Revenue', '2492526.12'), ('Total Cost', '2154588.52'), ('Total Profit', '337937.60')])\n",
      "OrderedDict([('Region', 'Europe'), ('Country', 'Norway'), ('Item Type', 'Baby Food'), ('Sales Channel', 'Online'), ('Order Priority', 'L'), ('Order Date', '5/14/2014'), ('Order ID', '819028031'), ('Ship Date', '6/28/2014'), ('Units Sold', '7450'), ('Unit Price', '255.28'), ('Unit Cost', '159.42'), ('Total Revenue', '1901836.00'), ('Total Cost', '1187679.00'), ('Total Profit', '714157.00')])\n",
      "OrderedDict([('Region', 'Europe'), ('Country', 'Portugal'), ('Item Type', 'Baby Food'), ('Sales Channel', 'Online'), ('Order Priority', 'H'), ('Order Date', '7/31/2015'), ('Order ID', '860673511'), ('Ship Date', '9/3/2015'), ('Units Sold', '1273'), ('Unit Price', '255.28'), ('Unit Cost', '159.42'), ('Total Revenue', '324971.44'), ('Total Cost', '202941.66'), ('Total Profit', '122029.78')])\n",
      "OrderedDict([('Region', 'Central America and the Caribbean'), ('Country', 'Honduras'), ('Item Type', 'Snacks'), ('Sales Channel', 'Online'), ('Order Priority', 'L'), ('Order Date', '6/30/2016'), ('Order ID', '795490682'), ('Ship Date', '7/26/2016'), ('Units Sold', '2225'), ('Unit Price', '152.58'), ('Unit Cost', '97.44'), ('Total Revenue', '339490.50'), ('Total Cost', '216804.00'), ('Total Profit', '122686.50')])\n",
      "OrderedDict([('Region', 'Australia and Oceania'), ('Country', 'New Zealand'), ('Item Type', 'Fruits'), ('Sales Channel', 'Online'), ('Order Priority', 'H'), ('Order Date', '9/8/2014'), ('Order ID', '142278373'), ('Ship Date', '10/4/2014'), ('Units Sold', '2187'), ('Unit Price', '9.33'), ('Unit Cost', '6.92'), ('Total Revenue', '20404.71'), ('Total Cost', '15134.04'), ('Total Profit', '5270.67')])\n",
      "OrderedDict([('Region', 'Europe'), ('Country', 'Moldova '), ('Item Type', 'Personal Care'), ('Sales Channel', 'Online'), ('Order Priority', 'L'), ('Order Date', '5/7/2016'), ('Order ID', '740147912'), ('Ship Date', '5/10/2016'), ('Units Sold', '5070'), ('Unit Price', '81.73'), ('Unit Cost', '56.67'), ('Total Revenue', '414371.10'), ('Total Cost', '287316.90'), ('Total Profit', '127054.20')])\n",
      "OrderedDict([('Region', 'Europe'), ('Country', 'France'), ('Item Type', 'Cosmetics'), ('Sales Channel', 'Online'), ('Order Priority', 'H'), ('Order Date', '5/22/2017'), ('Order ID', '898523128'), ('Ship Date', '6/5/2017'), ('Units Sold', '1815'), ('Unit Price', '437.20'), ('Unit Cost', '263.33'), ('Total Revenue', '793518.00'), ('Total Cost', '477943.95'), ('Total Profit', '315574.05')])\n",
      "OrderedDict([('Region', 'Australia and Oceania'), ('Country', 'Kiribati'), ('Item Type', 'Fruits'), ('Sales Channel', 'Online'), ('Order Priority', 'M'), ('Order Date', '10/13/2014'), ('Order ID', '347140347'), ('Ship Date', '11/10/2014'), ('Units Sold', '5398'), ('Unit Price', '9.33'), ('Unit Cost', '6.92'), ('Total Revenue', '50363.34'), ('Total Cost', '37354.16'), ('Total Profit', '13009.18')])\n",
      "OrderedDict([('Region', 'Sub-Saharan Africa'), ('Country', 'Mali'), ('Item Type', 'Fruits'), ('Sales Channel', 'Online'), ('Order Priority', 'L'), ('Order Date', '5/7/2010'), ('Order ID', '686048400'), ('Ship Date', '5/10/2010'), ('Units Sold', '5822'), ('Unit Price', '9.33'), ('Unit Cost', '6.92'), ('Total Revenue', '54319.26'), ('Total Cost', '40288.24'), ('Total Profit', '14031.02')])\n",
      "OrderedDict([('Region', 'Europe'), ('Country', 'Norway'), ('Item Type', 'Beverages'), ('Sales Channel', 'Offline'), ('Order Priority', 'C'), ('Order Date', '7/18/2014'), ('Order ID', '435608613'), ('Ship Date', '7/30/2014'), ('Units Sold', '5124'), ('Unit Price', '47.45'), ('Unit Cost', '31.79'), ('Total Revenue', '243133.80'), ('Total Cost', '162891.96'), ('Total Profit', '80241.84')])\n",
      "OrderedDict([('Region', 'Sub-Saharan Africa'), ('Country', 'The Gambia'), ('Item Type', 'Household'), ('Sales Channel', 'Offline'), ('Order Priority', 'L'), ('Order Date', '5/26/2012'), ('Order ID', '886494815'), ('Ship Date', '6/9/2012'), ('Units Sold', '2370'), ('Unit Price', '668.27'), ('Unit Cost', '502.54'), ('Total Revenue', '1583799.90'), ('Total Cost', '1191019.80'), ('Total Profit', '392780.10')])\n",
      "OrderedDict([('Region', 'Europe'), ('Country', 'Switzerland'), ('Item Type', 'Cosmetics'), ('Sales Channel', 'Offline'), ('Order Priority', 'M'), ('Order Date', '9/17/2012'), ('Order ID', '249693334'), ('Ship Date', '10/20/2012'), ('Units Sold', '8661'), ('Unit Price', '437.20'), ('Unit Cost', '263.33'), ('Total Revenue', '3786589.20'), ('Total Cost', '2280701.13'), ('Total Profit', '1505888.07')])\n",
      "OrderedDict([('Region', 'Sub-Saharan Africa'), ('Country', 'South Sudan'), ('Item Type', 'Personal Care'), ('Sales Channel', 'Offline'), ('Order Priority', 'C'), ('Order Date', '12/29/2013'), ('Order ID', '406502997'), ('Ship Date', '1/28/2014'), ('Units Sold', '2125'), ('Unit Price', '81.73'), ('Unit Cost', '56.67'), ('Total Revenue', '173676.25'), ('Total Cost', '120423.75'), ('Total Profit', '53252.50')])\n",
      "OrderedDict([('Region', 'Australia and Oceania'), ('Country', 'Australia'), ('Item Type', 'Office Supplies'), ('Sales Channel', 'Online'), ('Order Priority', 'C'), ('Order Date', '10/27/2015'), ('Order ID', '158535134'), ('Ship Date', '11/25/2015'), ('Units Sold', '2924'), ('Unit Price', '651.21'), ('Unit Cost', '524.96'), ('Total Revenue', '1904138.04'), ('Total Cost', '1534983.04'), ('Total Profit', '369155.00')])\n",
      "OrderedDict([('Region', 'Asia'), ('Country', 'Myanmar'), ('Item Type', 'Household'), ('Sales Channel', 'Offline'), ('Order Priority', 'H'), ('Order Date', '1/16/2015'), ('Order ID', '177713572'), ('Ship Date', '3/1/2015'), ('Units Sold', '8250'), ('Unit Price', '668.27'), ('Unit Cost', '502.54'), ('Total Revenue', '5513227.50'), ('Total Cost', '4145955.00'), ('Total Profit', '1367272.50')])\n",
      "OrderedDict([('Region', 'Sub-Saharan Africa'), ('Country', 'Djibouti'), ('Item Type', 'Snacks'), ('Sales Channel', 'Online'), ('Order Priority', 'M'), ('Order Date', '2/25/2017'), ('Order ID', '756274640'), ('Ship Date', '2/25/2017'), ('Units Sold', '7327'), ('Unit Price', '152.58'), ('Unit Cost', '97.44'), ('Total Revenue', '1117953.66'), ('Total Cost', '713942.88'), ('Total Profit', '404010.78')])\n",
      "OrderedDict([('Region', 'Central America and the Caribbean'), ('Country', 'Costa Rica'), ('Item Type', 'Personal Care'), ('Sales Channel', 'Offline'), ('Order Priority', 'L'), ('Order Date', '5/8/2017'), ('Order ID', '456767165'), ('Ship Date', '5/21/2017'), ('Units Sold', '6409'), ('Unit Price', '81.73'), ('Unit Cost', '56.67'), ('Total Revenue', '523807.57'), ('Total Cost', '363198.03'), ('Total Profit', '160609.54')])\n",
      "OrderedDict([('Region', 'Middle East and North Africa'), ('Country', 'Syria'), ('Item Type', 'Fruits'), ('Sales Channel', 'Online'), ('Order Priority', 'L'), ('Order Date', '11/22/2011'), ('Order ID', '162052476'), ('Ship Date', '12/3/2011'), ('Units Sold', '3784'), ('Unit Price', '9.33'), ('Unit Cost', '6.92'), ('Total Revenue', '35304.72'), ('Total Cost', '26185.28'), ('Total Profit', '9119.44')])\n",
      "OrderedDict([('Region', 'Sub-Saharan Africa'), ('Country', 'The Gambia'), ('Item Type', 'Meat'), ('Sales Channel', 'Online'), ('Order Priority', 'M'), ('Order Date', '1/14/2017'), ('Order ID', '825304400'), ('Ship Date', '1/23/2017'), ('Units Sold', '4767'), ('Unit Price', '421.89'), ('Unit Cost', '364.69'), ('Total Revenue', '2011149.63'), ('Total Cost', '1738477.23'), ('Total Profit', '272672.40')])\n",
      "OrderedDict([('Region', 'Asia'), ('Country', 'Brunei'), ('Item Type', 'Office Supplies'), ('Sales Channel', 'Online'), ('Order Priority', 'L'), ('Order Date', '4/1/2012'), ('Order ID', '320009267'), ('Ship Date', '5/8/2012'), ('Units Sold', '6708'), ('Unit Price', '651.21'), ('Unit Cost', '524.96'), ('Total Revenue', '4368316.68'), ('Total Cost', '3521431.68'), ('Total Profit', '846885.00')])\n",
      "OrderedDict([('Region', 'Europe'), ('Country', 'Bulgaria'), ('Item Type', 'Office Supplies'), ('Sales Channel', 'Online'), ('Order Priority', 'M'), ('Order Date', '2/16/2012'), ('Order ID', '189965903'), ('Ship Date', '2/28/2012'), ('Units Sold', '3987'), ('Unit Price', '651.21'), ('Unit Cost', '524.96'), ('Total Revenue', '2596374.27'), ('Total Cost', '2093015.52'), ('Total Profit', '503358.75')])\n",
      "OrderedDict([('Region', 'Sub-Saharan Africa'), ('Country', 'Niger'), ('Item Type', 'Personal Care'), ('Sales Channel', 'Online'), ('Order Priority', 'H'), ('Order Date', '3/11/2017'), ('Order ID', '699285638'), ('Ship Date', '3/28/2017'), ('Units Sold', '3015'), ('Unit Price', '81.73'), ('Unit Cost', '56.67'), ('Total Revenue', '246415.95'), ('Total Cost', '170860.05'), ('Total Profit', '75555.90')])\n",
      "OrderedDict([('Region', 'Middle East and North Africa'), ('Country', 'Azerbaijan'), ('Item Type', 'Cosmetics'), ('Sales Channel', 'Online'), ('Order Priority', 'M'), ('Order Date', '2/6/2010'), ('Order ID', '382392299'), ('Ship Date', '2/25/2010'), ('Units Sold', '7234'), ('Unit Price', '437.20'), ('Unit Cost', '263.33'), ('Total Revenue', '3162704.80'), ('Total Cost', '1904929.22'), ('Total Profit', '1257775.58')])\n",
      "OrderedDict([('Region', 'Sub-Saharan Africa'), ('Country', 'The Gambia'), ('Item Type', 'Cereal'), ('Sales Channel', 'Offline'), ('Order Priority', 'H'), ('Order Date', '6/7/2012'), ('Order ID', '994022214'), ('Ship Date', '6/8/2012'), ('Units Sold', '2117'), ('Unit Price', '205.70'), ('Unit Cost', '117.11'), ('Total Revenue', '435466.90'), ('Total Cost', '247921.87'), ('Total Profit', '187545.03')])\n",
      "OrderedDict([('Region', 'Europe'), ('Country', 'Slovakia'), ('Item Type', 'Vegetables'), ('Sales Channel', 'Online'), ('Order Priority', 'H'), ('Order Date', '10/6/2012'), ('Order ID', '759224212'), ('Ship Date', '11/10/2012'), ('Units Sold', '171'), ('Unit Price', '154.06'), ('Unit Cost', '90.93'), ('Total Revenue', '26344.26'), ('Total Cost', '15549.03'), ('Total Profit', '10795.23')])\n",
      "OrderedDict([('Region', 'Asia'), ('Country', 'Myanmar'), ('Item Type', 'Clothes'), ('Sales Channel', 'Online'), ('Order Priority', 'H'), ('Order Date', '11/14/2015'), ('Order ID', '223359620'), ('Ship Date', '11/18/2015'), ('Units Sold', '5930'), ('Unit Price', '109.28'), ('Unit Cost', '35.84'), ('Total Revenue', '648030.40'), ('Total Cost', '212531.20'), ('Total Profit', '435499.20')])\n",
      "OrderedDict([('Region', 'Sub-Saharan Africa'), ('Country', 'Comoros'), ('Item Type', 'Cereal'), ('Sales Channel', 'Offline'), ('Order Priority', 'H'), ('Order Date', '3/29/2016'), ('Order ID', '902102267'), ('Ship Date', '4/29/2016'), ('Units Sold', '962'), ('Unit Price', '205.70'), ('Unit Cost', '117.11'), ('Total Revenue', '197883.40'), ('Total Cost', '112659.82'), ('Total Profit', '85223.58')])\n",
      "OrderedDict([('Region', 'Europe'), ('Country', 'Iceland'), ('Item Type', 'Cosmetics'), ('Sales Channel', 'Online'), ('Order Priority', 'C'), ('Order Date', '12/31/2016'), ('Order ID', '331438481'), ('Ship Date', '12/31/2016'), ('Units Sold', '8867'), ('Unit Price', '437.20'), ('Unit Cost', '263.33'), ('Total Revenue', '3876652.40'), ('Total Cost', '2334947.11'), ('Total Profit', '1541705.29')])\n",
      "OrderedDict([('Region', 'Europe'), ('Country', 'Switzerland'), ('Item Type', 'Personal Care'), ('Sales Channel', 'Online'), ('Order Priority', 'M'), ('Order Date', '12/23/2010'), ('Order ID', '617667090'), ('Ship Date', '1/31/2011'), ('Units Sold', '273'), ('Unit Price', '81.73'), ('Unit Cost', '56.67'), ('Total Revenue', '22312.29'), ('Total Cost', '15470.91'), ('Total Profit', '6841.38')])\n",
      "OrderedDict([('Region', 'Europe'), ('Country', 'Macedonia'), ('Item Type', 'Clothes'), ('Sales Channel', 'Offline'), ('Order Priority', 'C'), ('Order Date', '10/14/2014'), ('Order ID', '787399423'), ('Ship Date', '11/14/2014'), ('Units Sold', '7842'), ('Unit Price', '109.28'), ('Unit Cost', '35.84'), ('Total Revenue', '856973.76'), ('Total Cost', '281057.28'), ('Total Profit', '575916.48')])\n",
      "OrderedDict([('Region', 'Sub-Saharan Africa'), ('Country', 'Mauritania'), ('Item Type', 'Office Supplies'), ('Sales Channel', 'Offline'), ('Order Priority', 'C'), ('Order Date', '1/11/2012'), ('Order ID', '837559306'), ('Ship Date', '1/13/2012'), ('Units Sold', '1266'), ('Unit Price', '651.21'), ('Unit Cost', '524.96'), ('Total Revenue', '824431.86'), ('Total Cost', '664599.36'), ('Total Profit', '159832.50')])\n",
      "OrderedDict([('Region', 'Europe'), ('Country', 'Albania'), ('Item Type', 'Clothes'), ('Sales Channel', 'Online'), ('Order Priority', 'C'), ('Order Date', '2/2/2010'), ('Order ID', '385383069'), ('Ship Date', '3/18/2010'), ('Units Sold', '2269'), ('Unit Price', '109.28'), ('Unit Cost', '35.84'), ('Total Revenue', '247956.32'), ('Total Cost', '81320.96'), ('Total Profit', '166635.36')])\n",
      "OrderedDict([('Region', 'Sub-Saharan Africa'), ('Country', 'Lesotho'), ('Item Type', 'Fruits'), ('Sales Channel', 'Online'), ('Order Priority', 'L'), ('Order Date', '8/18/2013'), ('Order ID', '918419539'), ('Ship Date', '9/18/2013'), ('Units Sold', '9606'), ('Unit Price', '9.33'), ('Unit Cost', '6.92'), ('Total Revenue', '89623.98'), ('Total Cost', '66473.52'), ('Total Profit', '23150.46')])\n",
      "OrderedDict([('Region', 'Middle East and North Africa'), ('Country', 'Saudi Arabia'), ('Item Type', 'Cereal'), ('Sales Channel', 'Online'), ('Order Priority', 'M'), ('Order Date', '3/25/2013'), ('Order ID', '844530045'), ('Ship Date', '3/28/2013'), ('Units Sold', '4063'), ('Unit Price', '205.70'), ('Unit Cost', '117.11'), ('Total Revenue', '835759.10'), ('Total Cost', '475817.93'), ('Total Profit', '359941.17')])\n",
      "OrderedDict([('Region', 'Sub-Saharan Africa'), ('Country', 'Sierra Leone'), ('Item Type', 'Office Supplies'), ('Sales Channel', 'Offline'), ('Order Priority', 'M'), ('Order Date', '11/26/2011'), ('Order ID', '441888415'), ('Ship Date', '1/7/2012'), ('Units Sold', '3457'), ('Unit Price', '651.21'), ('Unit Cost', '524.96'), ('Total Revenue', '2251232.97'), ('Total Cost', '1814786.72'), ('Total Profit', '436446.25')])\n",
      "OrderedDict([('Region', 'Sub-Saharan Africa'), ('Country', 'Sao Tome and Principe'), ('Item Type', 'Fruits'), ('Sales Channel', 'Offline'), ('Order Priority', 'H'), ('Order Date', '9/17/2013'), ('Order ID', '508980977'), ('Ship Date', '10/24/2013'), ('Units Sold', '7637'), ('Unit Price', '9.33'), ('Unit Cost', '6.92'), ('Total Revenue', '71253.21'), ('Total Cost', '52848.04'), ('Total Profit', '18405.17')])\n",
      "OrderedDict([('Region', 'Sub-Saharan Africa'), ('Country', \"Cote d'Ivoire\"), ('Item Type', 'Clothes'), ('Sales Channel', 'Online'), ('Order Priority', 'C'), ('Order Date', '6/8/2012'), ('Order ID', '114606559'), ('Ship Date', '6/27/2012'), ('Units Sold', '3482'), ('Unit Price', '109.28'), ('Unit Cost', '35.84'), ('Total Revenue', '380512.96'), ('Total Cost', '124794.88'), ('Total Profit', '255718.08')])\n",
      "OrderedDict([('Region', 'Australia and Oceania'), ('Country', 'Fiji'), ('Item Type', 'Clothes'), ('Sales Channel', 'Offline'), ('Order Priority', 'C'), ('Order Date', '6/30/2010'), ('Order ID', '647876489'), ('Ship Date', '8/1/2010'), ('Units Sold', '9905'), ('Unit Price', '109.28'), ('Unit Cost', '35.84'), ('Total Revenue', '1082418.40'), ('Total Cost', '354995.20'), ('Total Profit', '727423.20')])\n",
      "OrderedDict([('Region', 'Europe'), ('Country', 'Austria'), ('Item Type', 'Cosmetics'), ('Sales Channel', 'Offline'), ('Order Priority', 'H'), ('Order Date', '2/23/2015'), ('Order ID', '868214595'), ('Ship Date', '3/2/2015'), ('Units Sold', '2847'), ('Unit Price', '437.20'), ('Unit Cost', '263.33'), ('Total Revenue', '1244708.40'), ('Total Cost', '749700.51'), ('Total Profit', '495007.89')])\n",
      "OrderedDict([('Region', 'Europe'), ('Country', 'United Kingdom'), ('Item Type', 'Household'), ('Sales Channel', 'Online'), ('Order Priority', 'L'), ('Order Date', '1/5/2012'), ('Order ID', '955357205'), ('Ship Date', '2/14/2012'), ('Units Sold', '282'), ('Unit Price', '668.27'), ('Unit Cost', '502.54'), ('Total Revenue', '188452.14'), ('Total Cost', '141716.28'), ('Total Profit', '46735.86')])\n",
      "OrderedDict([('Region', 'Sub-Saharan Africa'), ('Country', 'Djibouti'), ('Item Type', 'Cosmetics'), ('Sales Channel', 'Offline'), ('Order Priority', 'H'), ('Order Date', '4/7/2014'), ('Order ID', '259353148'), ('Ship Date', '4/19/2014'), ('Units Sold', '7215'), ('Unit Price', '437.20'), ('Unit Cost', '263.33'), ('Total Revenue', '3154398.00'), ('Total Cost', '1899925.95'), ('Total Profit', '1254472.05')])\n",
      "OrderedDict([('Region', 'Australia and Oceania'), ('Country', 'Australia'), ('Item Type', 'Cereal'), ('Sales Channel', 'Offline'), ('Order Priority', 'H'), ('Order Date', '6/9/2013'), ('Order ID', '450563752'), ('Ship Date', '7/2/2013'), ('Units Sold', '682'), ('Unit Price', '205.70'), ('Unit Cost', '117.11'), ('Total Revenue', '140287.40'), ('Total Cost', '79869.02'), ('Total Profit', '60418.38')])\n",
      "OrderedDict([('Region', 'Europe'), ('Country', 'San Marino'), ('Item Type', 'Baby Food'), ('Sales Channel', 'Online'), ('Order Priority', 'L'), ('Order Date', '6/26/2013'), ('Order ID', '569662845'), ('Ship Date', '7/1/2013'), ('Units Sold', '4750'), ('Unit Price', '255.28'), ('Unit Cost', '159.42'), ('Total Revenue', '1212580.00'), ('Total Cost', '757245.00'), ('Total Profit', '455335.00')])\n",
      "OrderedDict([('Region', 'Sub-Saharan Africa'), ('Country', 'Cameroon'), ('Item Type', 'Office Supplies'), ('Sales Channel', 'Online'), ('Order Priority', 'M'), ('Order Date', '11/7/2011'), ('Order ID', '177636754'), ('Ship Date', '11/15/2011'), ('Units Sold', '5518'), ('Unit Price', '651.21'), ('Unit Cost', '524.96'), ('Total Revenue', '3593376.78'), ('Total Cost', '2896729.28'), ('Total Profit', '696647.50')])\n",
      "OrderedDict([('Region', 'Middle East and North Africa'), ('Country', 'Libya'), ('Item Type', 'Clothes'), ('Sales Channel', 'Offline'), ('Order Priority', 'H'), ('Order Date', '10/30/2010'), ('Order ID', '705784308'), ('Ship Date', '11/17/2010'), ('Units Sold', '6116'), ('Unit Price', '109.28'), ('Unit Cost', '35.84'), ('Total Revenue', '668356.48'), ('Total Cost', '219197.44'), ('Total Profit', '449159.04')])\n",
      "OrderedDict([('Region', 'Central America and the Caribbean'), ('Country', 'Haiti'), ('Item Type', 'Cosmetics'), ('Sales Channel', 'Offline'), ('Order Priority', 'H'), ('Order Date', '10/13/2013'), ('Order ID', '505716836'), ('Ship Date', '11/16/2013'), ('Units Sold', '1705'), ('Unit Price', '437.20'), ('Unit Cost', '263.33'), ('Total Revenue', '745426.00'), ('Total Cost', '448977.65'), ('Total Profit', '296448.35')])\n",
      "OrderedDict([('Region', 'Sub-Saharan Africa'), ('Country', 'Rwanda'), ('Item Type', 'Cosmetics'), ('Sales Channel', 'Offline'), ('Order Priority', 'H'), ('Order Date', '10/11/2013'), ('Order ID', '699358165'), ('Ship Date', '11/25/2013'), ('Units Sold', '4477'), ('Unit Price', '437.20'), ('Unit Cost', '263.33'), ('Total Revenue', '1957344.40'), ('Total Cost', '1178928.41'), ('Total Profit', '778415.99')])\n",
      "OrderedDict([('Region', 'Sub-Saharan Africa'), ('Country', 'Gabon'), ('Item Type', 'Personal Care'), ('Sales Channel', 'Offline'), ('Order Priority', 'L'), ('Order Date', '7/8/2012'), ('Order ID', '228944623'), ('Ship Date', '7/9/2012'), ('Units Sold', '8656'), ('Unit Price', '81.73'), ('Unit Cost', '56.67'), ('Total Revenue', '707454.88'), ('Total Cost', '490535.52'), ('Total Profit', '216919.36')])\n",
      "OrderedDict([('Region', 'Central America and the Caribbean'), ('Country', 'Belize'), ('Item Type', 'Clothes'), ('Sales Channel', 'Offline'), ('Order Priority', 'M'), ('Order Date', '7/25/2016'), ('Order ID', '807025039'), ('Ship Date', '9/7/2016'), ('Units Sold', '5498'), ('Unit Price', '109.28'), ('Unit Cost', '35.84'), ('Total Revenue', '600821.44'), ('Total Cost', '197048.32'), ('Total Profit', '403773.12')])\n",
      "OrderedDict([('Region', 'Europe'), ('Country', 'Lithuania'), ('Item Type', 'Office Supplies'), ('Sales Channel', 'Offline'), ('Order Priority', 'H'), ('Order Date', '10/24/2010'), ('Order ID', '166460740'), ('Ship Date', '11/17/2010'), ('Units Sold', '8287'), ('Unit Price', '651.21'), ('Unit Cost', '524.96'), ('Total Revenue', '5396577.27'), ('Total Cost', '4350343.52'), ('Total Profit', '1046233.75')])\n",
      "OrderedDict([('Region', 'Sub-Saharan Africa'), ('Country', 'Madagascar'), ('Item Type', 'Clothes'), ('Sales Channel', 'Offline'), ('Order Priority', 'L'), ('Order Date', '4/25/2015'), ('Order ID', '610425555'), ('Ship Date', '5/28/2015'), ('Units Sold', '7342'), ('Unit Price', '109.28'), ('Unit Cost', '35.84'), ('Total Revenue', '802333.76'), ('Total Cost', '263137.28'), ('Total Profit', '539196.48')])\n",
      "OrderedDict([('Region', 'Asia'), ('Country', 'Turkmenistan'), ('Item Type', 'Office Supplies'), ('Sales Channel', 'Online'), ('Order Priority', 'M'), ('Order Date', '4/23/2013'), ('Order ID', '462405812'), ('Ship Date', '5/20/2013'), ('Units Sold', '5010'), ('Unit Price', '651.21'), ('Unit Cost', '524.96'), ('Total Revenue', '3262562.10'), ('Total Cost', '2630049.60'), ('Total Profit', '632512.50')])\n",
      "OrderedDict([('Region', 'Middle East and North Africa'), ('Country', 'Libya'), ('Item Type', 'Fruits'), ('Sales Channel', 'Online'), ('Order Priority', 'L'), ('Order Date', '8/14/2015'), ('Order ID', '816200339'), ('Ship Date', '9/30/2015'), ('Units Sold', '673'), ('Unit Price', '9.33'), ('Unit Cost', '6.92'), ('Total Revenue', '6279.09'), ('Total Cost', '4657.16'), ('Total Profit', '1621.93')])\n",
      "OrderedDict([('Region', 'Sub-Saharan Africa'), ('Country', 'Democratic Republic of the Congo'), ('Item Type', 'Beverages'), ('Sales Channel', 'Online'), ('Order Priority', 'C'), ('Order Date', '5/26/2011'), ('Order ID', '585920464'), ('Ship Date', '7/15/2011'), ('Units Sold', '5741'), ('Unit Price', '47.45'), ('Unit Cost', '31.79'), ('Total Revenue', '272410.45'), ('Total Cost', '182506.39'), ('Total Profit', '89904.06')])\n",
      "OrderedDict([('Region', 'Sub-Saharan Africa'), ('Country', 'Djibouti'), ('Item Type', 'Cereal'), ('Sales Channel', 'Online'), ('Order Priority', 'H'), ('Order Date', '5/20/2017'), ('Order ID', '555990016'), ('Ship Date', '6/17/2017'), ('Units Sold', '8656'), ('Unit Price', '205.70'), ('Unit Cost', '117.11'), ('Total Revenue', '1780539.20'), ('Total Cost', '1013704.16'), ('Total Profit', '766835.04')])\n",
      "OrderedDict([('Region', 'Middle East and North Africa'), ('Country', 'Pakistan'), ('Item Type', 'Cosmetics'), ('Sales Channel', 'Offline'), ('Order Priority', 'L'), ('Order Date', '7/5/2013'), ('Order ID', '231145322'), ('Ship Date', '8/16/2013'), ('Units Sold', '9892'), ('Unit Price', '437.20'), ('Unit Cost', '263.33'), ('Total Revenue', '4324782.40'), ('Total Cost', '2604860.36'), ('Total Profit', '1719922.04')])\n",
      "OrderedDict([('Region', 'North America'), ('Country', 'Mexico'), ('Item Type', 'Household'), ('Sales Channel', 'Offline'), ('Order Priority', 'C'), ('Order Date', '11/6/2014'), ('Order ID', '986435210'), ('Ship Date', '12/12/2014'), ('Units Sold', '6954'), ('Unit Price', '668.27'), ('Unit Cost', '502.54'), ('Total Revenue', '4647149.58'), ('Total Cost', '3494663.16'), ('Total Profit', '1152486.42')])\n",
      "OrderedDict([('Region', 'Australia and Oceania'), ('Country', 'Federated States of Micronesia'), ('Item Type', 'Beverages'), ('Sales Channel', 'Online'), ('Order Priority', 'C'), ('Order Date', '10/28/2014'), ('Order ID', '217221009'), ('Ship Date', '11/15/2014'), ('Units Sold', '9379'), ('Unit Price', '47.45'), ('Unit Cost', '31.79'), ('Total Revenue', '445033.55'), ('Total Cost', '298158.41'), ('Total Profit', '146875.14')])\n",
      "OrderedDict([('Region', 'Asia'), ('Country', 'Laos'), ('Item Type', 'Vegetables'), ('Sales Channel', 'Offline'), ('Order Priority', 'C'), ('Order Date', '9/15/2011'), ('Order ID', '789176547'), ('Ship Date', '10/23/2011'), ('Units Sold', '3732'), ('Unit Price', '154.06'), ('Unit Cost', '90.93'), ('Total Revenue', '574951.92'), ('Total Cost', '339350.76'), ('Total Profit', '235601.16')])\n",
      "OrderedDict([('Region', 'Europe'), ('Country', 'Monaco'), ('Item Type', 'Baby Food'), ('Sales Channel', 'Offline'), ('Order Priority', 'H'), ('Order Date', '5/29/2012'), ('Order ID', '688288152'), ('Ship Date', '6/2/2012'), ('Units Sold', '8614'), ('Unit Price', '255.28'), ('Unit Cost', '159.42'), ('Total Revenue', '2198981.92'), ('Total Cost', '1373243.88'), ('Total Profit', '825738.04')])\n",
      "OrderedDict([('Region', 'Australia and Oceania'), ('Country', 'Samoa '), ('Item Type', 'Cosmetics'), ('Sales Channel', 'Online'), ('Order Priority', 'H'), ('Order Date', '7/20/2013'), ('Order ID', '670854651'), ('Ship Date', '8/7/2013'), ('Units Sold', '9654'), ('Unit Price', '437.20'), ('Unit Cost', '263.33'), ('Total Revenue', '4220728.80'), ('Total Cost', '2542187.82'), ('Total Profit', '1678540.98')])\n",
      "OrderedDict([('Region', 'Europe'), ('Country', 'Spain'), ('Item Type', 'Household'), ('Sales Channel', 'Offline'), ('Order Priority', 'L'), ('Order Date', '10/21/2012'), ('Order ID', '213487374'), ('Ship Date', '11/30/2012'), ('Units Sold', '4513'), ('Unit Price', '668.27'), ('Unit Cost', '502.54'), ('Total Revenue', '3015902.51'), ('Total Cost', '2267963.02'), ('Total Profit', '747939.49')])\n",
      "OrderedDict([('Region', 'Middle East and North Africa'), ('Country', 'Lebanon'), ('Item Type', 'Clothes'), ('Sales Channel', 'Online'), ('Order Priority', 'L'), ('Order Date', '9/18/2012'), ('Order ID', '663110148'), ('Ship Date', '10/8/2012'), ('Units Sold', '7884'), ('Unit Price', '109.28'), ('Unit Cost', '35.84'), ('Total Revenue', '861563.52'), ('Total Cost', '282562.56'), ('Total Profit', '579000.96')])\n",
      "OrderedDict([('Region', 'Middle East and North Africa'), ('Country', 'Iran'), ('Item Type', 'Cosmetics'), ('Sales Channel', 'Online'), ('Order Priority', 'H'), ('Order Date', '11/15/2016'), ('Order ID', '286959302'), ('Ship Date', '12/8/2016'), ('Units Sold', '6489'), ('Unit Price', '437.20'), ('Unit Cost', '263.33'), ('Total Revenue', '2836990.80'), ('Total Cost', '1708748.37'), ('Total Profit', '1128242.43')])\n",
      "OrderedDict([('Region', 'Sub-Saharan Africa'), ('Country', 'Zambia'), ('Item Type', 'Snacks'), ('Sales Channel', 'Online'), ('Order Priority', 'L'), ('Order Date', '1/4/2011'), ('Order ID', '122583663'), ('Ship Date', '1/5/2011'), ('Units Sold', '4085'), ('Unit Price', '152.58'), ('Unit Cost', '97.44'), ('Total Revenue', '623289.30'), ('Total Cost', '398042.40'), ('Total Profit', '225246.90')])\n",
      "OrderedDict([('Region', 'Sub-Saharan Africa'), ('Country', 'Kenya'), ('Item Type', 'Vegetables'), ('Sales Channel', 'Online'), ('Order Priority', 'L'), ('Order Date', '3/18/2012'), ('Order ID', '827844560'), ('Ship Date', '4/7/2012'), ('Units Sold', '6457'), ('Unit Price', '154.06'), ('Unit Cost', '90.93'), ('Total Revenue', '994765.42'), ('Total Cost', '587135.01'), ('Total Profit', '407630.41')])\n",
      "OrderedDict([('Region', 'North America'), ('Country', 'Mexico'), ('Item Type', 'Personal Care'), ('Sales Channel', 'Offline'), ('Order Priority', 'L'), ('Order Date', '2/17/2012'), ('Order ID', '430915820'), ('Ship Date', '3/20/2012'), ('Units Sold', '6422'), ('Unit Price', '81.73'), ('Unit Cost', '56.67'), ('Total Revenue', '524870.06'), ('Total Cost', '363934.74'), ('Total Profit', '160935.32')])\n",
      "OrderedDict([('Region', 'Sub-Saharan Africa'), ('Country', 'Sao Tome and Principe'), ('Item Type', 'Beverages'), ('Sales Channel', 'Offline'), ('Order Priority', 'C'), ('Order Date', '1/16/2011'), ('Order ID', '180283772'), ('Ship Date', '1/21/2011'), ('Units Sold', '8829'), ('Unit Price', '47.45'), ('Unit Cost', '31.79'), ('Total Revenue', '418936.05'), ('Total Cost', '280673.91'), ('Total Profit', '138262.14')])\n",
      "OrderedDict([('Region', 'Sub-Saharan Africa'), ('Country', 'The Gambia'), ('Item Type', 'Baby Food'), ('Sales Channel', 'Offline'), ('Order Priority', 'M'), ('Order Date', '2/3/2014'), ('Order ID', '494747245'), ('Ship Date', '3/20/2014'), ('Units Sold', '5559'), ('Unit Price', '255.28'), ('Unit Cost', '159.42'), ('Total Revenue', '1419101.52'), ('Total Cost', '886215.78'), ('Total Profit', '532885.74')])\n",
      "OrderedDict([('Region', 'Middle East and North Africa'), ('Country', 'Kuwait'), ('Item Type', 'Fruits'), ('Sales Channel', 'Online'), ('Order Priority', 'M'), ('Order Date', '4/30/2012'), ('Order ID', '513417565'), ('Ship Date', '5/18/2012'), ('Units Sold', '522'), ('Unit Price', '9.33'), ('Unit Cost', '6.92'), ('Total Revenue', '4870.26'), ('Total Cost', '3612.24'), ('Total Profit', '1258.02')])\n",
      "OrderedDict([('Region', 'Europe'), ('Country', 'Slovenia'), ('Item Type', 'Beverages'), ('Sales Channel', 'Offline'), ('Order Priority', 'C'), ('Order Date', '10/23/2016'), ('Order ID', '345718562'), ('Ship Date', '11/25/2016'), ('Units Sold', '4660'), ('Unit Price', '47.45'), ('Unit Cost', '31.79'), ('Total Revenue', '221117.00'), ('Total Cost', '148141.40'), ('Total Profit', '72975.60')])\n",
      "OrderedDict([('Region', 'Sub-Saharan Africa'), ('Country', 'Sierra Leone'), ('Item Type', 'Office Supplies'), ('Sales Channel', 'Offline'), ('Order Priority', 'H'), ('Order Date', '12/6/2016'), ('Order ID', '621386563'), ('Ship Date', '12/14/2016'), ('Units Sold', '948'), ('Unit Price', '651.21'), ('Unit Cost', '524.96'), ('Total Revenue', '617347.08'), ('Total Cost', '497662.08'), ('Total Profit', '119685.00')])\n",
      "OrderedDict([('Region', 'Australia and Oceania'), ('Country', 'Australia'), ('Item Type', 'Beverages'), ('Sales Channel', 'Offline'), ('Order Priority', 'H'), ('Order Date', '7/7/2014'), ('Order ID', '240470397'), ('Ship Date', '7/11/2014'), ('Units Sold', '9389'), ('Unit Price', '47.45'), ('Unit Cost', '31.79'), ('Total Revenue', '445508.05'), ('Total Cost', '298476.31'), ('Total Profit', '147031.74')])\n",
      "OrderedDict([('Region', 'Middle East and North Africa'), ('Country', 'Azerbaijan'), ('Item Type', 'Office Supplies'), ('Sales Channel', 'Online'), ('Order Priority', 'M'), ('Order Date', '6/13/2012'), ('Order ID', '423331391'), ('Ship Date', '7/24/2012'), ('Units Sold', '2021'), ('Unit Price', '651.21'), ('Unit Cost', '524.96'), ('Total Revenue', '1316095.41'), ('Total Cost', '1060944.16'), ('Total Profit', '255151.25')])\n",
      "OrderedDict([('Region', 'Europe'), ('Country', 'Romania'), ('Item Type', 'Cosmetics'), ('Sales Channel', 'Online'), ('Order Priority', 'H'), ('Order Date', '11/26/2010'), ('Order ID', '660643374'), ('Ship Date', '12/25/2010'), ('Units Sold', '7910'), ('Unit Price', '437.20'), ('Unit Cost', '263.33'), ('Total Revenue', '3458252.00'), ('Total Cost', '2082940.30'), ('Total Profit', '1375311.70')])\n",
      "OrderedDict([('Region', 'Central America and the Caribbean'), ('Country', 'Nicaragua'), ('Item Type', 'Beverages'), ('Sales Channel', 'Offline'), ('Order Priority', 'C'), ('Order Date', '2/8/2011'), ('Order ID', '963392674'), ('Ship Date', '3/21/2011'), ('Units Sold', '8156'), ('Unit Price', '47.45'), ('Unit Cost', '31.79'), ('Total Revenue', '387002.20'), ('Total Cost', '259279.24'), ('Total Profit', '127722.96')])\n",
      "OrderedDict([('Region', 'Sub-Saharan Africa'), ('Country', 'Mali'), ('Item Type', 'Clothes'), ('Sales Channel', 'Online'), ('Order Priority', 'M'), ('Order Date', '7/26/2011'), ('Order ID', '512878119'), ('Ship Date', '9/3/2011'), ('Units Sold', '888'), ('Unit Price', '109.28'), ('Unit Cost', '35.84'), ('Total Revenue', '97040.64'), ('Total Cost', '31825.92'), ('Total Profit', '65214.72')])\n",
      "OrderedDict([('Region', 'Asia'), ('Country', 'Malaysia'), ('Item Type', 'Fruits'), ('Sales Channel', 'Offline'), ('Order Priority', 'L'), ('Order Date', '11/11/2011'), ('Order ID', '810711038'), ('Ship Date', '12/28/2011'), ('Units Sold', '6267'), ('Unit Price', '9.33'), ('Unit Cost', '6.92'), ('Total Revenue', '58471.11'), ('Total Cost', '43367.64'), ('Total Profit', '15103.47')])\n",
      "OrderedDict([('Region', 'Sub-Saharan Africa'), ('Country', 'Sierra Leone'), ('Item Type', 'Vegetables'), ('Sales Channel', 'Offline'), ('Order Priority', 'C'), ('Order Date', '6/1/2016'), ('Order ID', '728815257'), ('Ship Date', '6/29/2016'), ('Units Sold', '1485'), ('Unit Price', '154.06'), ('Unit Cost', '90.93'), ('Total Revenue', '228779.10'), ('Total Cost', '135031.05'), ('Total Profit', '93748.05')])\n",
      "OrderedDict([('Region', 'North America'), ('Country', 'Mexico'), ('Item Type', 'Personal Care'), ('Sales Channel', 'Offline'), ('Order Priority', 'M'), ('Order Date', '7/30/2015'), ('Order ID', '559427106'), ('Ship Date', '8/8/2015'), ('Units Sold', '5767'), ('Unit Price', '81.73'), ('Unit Cost', '56.67'), ('Total Revenue', '471336.91'), ('Total Cost', '326815.89'), ('Total Profit', '144521.02')])\n",
      "OrderedDict([('Region', 'Sub-Saharan Africa'), ('Country', 'Mozambique'), ('Item Type', 'Household'), ('Sales Channel', 'Offline'), ('Order Priority', 'L'), ('Order Date', '2/10/2012'), ('Order ID', '665095412'), ('Ship Date', '2/15/2012'), ('Units Sold', '5367'), ('Unit Price', '668.27'), ('Unit Cost', '502.54'), ('Total Revenue', '3586605.09'), ('Total Cost', '2697132.18'), ('Total Profit', '889472.91')])\n"
     ]
    }
   ],
   "source": [
    "with open('100 Sales Records.csv', 'r') as f:\n",
    "    csv_reader = csv.DictReader(f)\n",
    "    for line in csv_reader:\n",
    "        print(line)"
   ]
  },
  {
   "cell_type": "markdown",
   "metadata": {},
   "source": [
    "If there is no header rows in the csv file, the DictReader() would use the first row as dictionary keys. To avoid this, we can pass a list of headers to the DictReader() method."
   ]
  },
  {
   "cell_type": "markdown",
   "metadata": {},
   "source": [
    "## WRITING TO CSV FILES\n",
    "To write data to a csv file, we use the writer() method of the csv module. This method also takes a file object as a parameter. The delimiter parameter is optional.\n"
   ]
  },
  {
   "cell_type": "code",
   "execution_count": null,
   "metadata": {},
   "outputs": [],
   "source": [
    "f = open('100SalesRecords_copy.csv', 'w')\n",
    "writer_obj = csv.writer(f)"
   ]
  },
  {
   "cell_type": "markdown",
   "metadata": {},
   "source": [
    "The writer() method returns a writer object. This object has a writerow() method that takes a list of values as parameter. In the code below, we try to write some values in an existing csv file to a new csv file. "
   ]
  },
  {
   "cell_type": "code",
   "execution_count": null,
   "metadata": {},
   "outputs": [],
   "source": [
    "with open('100 Sales Records.csv', 'r') as file_reader:\n",
    "    csv_reader = csv.DictReader(file_reader)\n",
    "    with open('new_sales_records.csv', 'w') as file_writer:\n",
    "        csv_writer = csv.writer(file_writer, delimiter = '\\t')\n",
    "        csv_writer.writerow(['Item Type', 'Units Sold', 'Unit Price'])\n",
    "        for line in csv_reader:\n",
    "            item_type = line['Item Type']\n",
    "            units_sold = line['Units Sold']\n",
    "            units_price = line['Unit Price']\n",
    "            csv_writer.writerow([item_type, units_sold, units_price])\n",
    "            "
   ]
  },
  {
   "cell_type": "markdown",
   "metadata": {},
   "source": [
    "## THE DICTWRITER() METHOD\n",
    "The DictWriter() method is used to write dictionary objects to a csv file. Asides taking a file object as argument, this method also takes a delimiter and a list of headers (fieldnames) as parameters."
   ]
  },
  {
   "cell_type": "markdown",
   "metadata": {},
   "source": [
    "To write the headers to the csv file, we use the writeheader() method of the writer object.  The writerow() method of the dict writer object takes a dictionary object as parameter. The keys of the dictionary are headers of the csv."
   ]
  },
  {
   "cell_type": "code",
   "execution_count": null,
   "metadata": {},
   "outputs": [],
   "source": [
    "fields = ['Name', 'Gender', 'Age']\n",
    "dict_list = [{'Name':'Angela', 'Gender':'Female', 'Age':20}, \n",
    "             {'Name':'Betty', 'Gender':'Female', 'Age':18},\n",
    "            {'Name':'Charles', 'Gender':'Male', 'Age':19},\n",
    "            {'Name':'Desmond', 'Gender':'Male', 'Age':22},\n",
    "            {'Name':'Esther', 'Gender':'Female', 'Age':20}]"
   ]
  },
  {
   "cell_type": "code",
   "execution_count": null,
   "metadata": {},
   "outputs": [],
   "source": [
    "with open('Students_list.csv', 'w') as f:\n",
    "    csv_writer = csv.DictWriter(f, fieldnames =fields, delimiter = '\\t')\n",
    "    csv_writer.writeheader()\n",
    "    for dict_item in dict_list:\n",
    "        csv_writer.writerow(dict_item)"
   ]
  },
  {
   "attachments": {
    "image.png": {
     "image/png": "[encoded data removed]"
    }
   },
   "cell_type": "markdown",
   "metadata": {},
   "source": [
    "## JSON AND API\n",
    "JSON stands for JavaScript Object Notation. It is a popular way to format data as a single human readable string. Many websites provide their content as json data for programs to interact with. This is known as API (Application Programming Interface). Accessing an API is similar to accesing a web page via a URL. To make an API call, you need to check the API documentation to know the URLs your program needs to request in order to get the data you want, as well as the general format of the JSON data structures that are returned.\n",
    "![image.png](attachment:image.png)"
   ]
  },
  {
   "cell_type": "markdown",
   "metadata": {},
   "source": [
    "The above picture is an example of a json data. Json data supports primitive types; strings, numbers, nested data structures."
   ]
  },
  {
   "cell_type": "markdown",
   "metadata": {},
   "source": [
    "## THE JSON MODULE\n",
    "The json module allows us to translate json data to python objects and vice versa. You can convert any python object to json. Below is the conversion chart for encoding/serialising python objects."
   ]
  },
  {
   "attachments": {
    "image.png": {
     "image/png": "[encoded data removed]"
    }
   },
   "cell_type": "markdown",
   "metadata": {},
   "source": [
    "![image.png](attachment:image.png)"
   ]
  },
  {
   "cell_type": "markdown",
   "metadata": {},
   "source": [
    "Below is the conversion chart for decoding/deserialising json data."
   ]
  },
  {
   "attachments": {
    "image.png": {
     "image/png": "[encoded data removed]"
    }
   },
   "cell_type": "markdown",
   "metadata": {},
   "source": [
    " ![image.png](attachment:image.png)"
   ]
  },
  {
   "cell_type": "markdown",
   "metadata": {},
   "source": [
    "The json module has various methods to parse json data. The loads() and dumps() methods allow us to parse a string of json data. The loads() function which stands for `load string` allows us to translate/decode/deserialize a string of json data to a python object."
   ]
  },
  {
   "cell_type": "code",
   "execution_count": 9,
   "metadata": {},
   "outputs": [
    {
     "data": {
      "text/plain": [
       "{'name': 'Amanda', 'age': 20, 'can_drive': True, 'IQ': None}"
      ]
     },
     "execution_count": 9,
     "metadata": {},
     "output_type": "execute_result"
    }
   ],
   "source": [
    "import json\n",
    "json_str = '{\"name\": \"Amanda\", \"age\": 20, \"can_drive\": true, \"IQ\": null}'\n",
    "data = json.loads(json_str)\n",
    "data"
   ]
  },
  {
   "cell_type": "markdown",
   "metadata": {},
   "source": [
    "The dumps() function which stands for `dump string` is used to translate/encode/serialise python objects to a string of json data."
   ]
  },
  {
   "cell_type": "code",
   "execution_count": 10,
   "metadata": {},
   "outputs": [
    {
     "data": {
      "text/plain": [
       "'{\"name\": \"Amanda\", \"age\": 20, \"can_drive\": true, \"IQ\": null}'"
      ]
     },
     "execution_count": 10,
     "metadata": {},
     "output_type": "execute_result"
    }
   ],
   "source": [
    "data = {'name': 'Amanda', 'age': 20, 'can_drive': True, 'IQ': None}\n",
    "json_str = json.dumps(data)\n",
    "json_str"
   ]
  },
  {
   "cell_type": "markdown",
   "metadata": {},
   "source": [
    "The load() and dump() methods allow us to parse a file containing json data. Below is an example of how we can use the load() method to deserialise a json data from a URL."
   ]
  },
  {
   "cell_type": "code",
   "execution_count": 11,
   "metadata": {},
   "outputs": [],
   "source": [
    "with open('example_2.json', 'r') as f:\n",
    "    data = json.load(f)"
   ]
  },
  {
   "cell_type": "code",
   "execution_count": 12,
   "metadata": {},
   "outputs": [
    {
     "name": "stdout",
     "output_type": "stream",
     "text": [
      "{'quiz': {'sport': {'q1': {'question': 'Which one is correct team name in NBA?', 'options': ['New York Bulls', 'Los Angeles Kings', 'Golden State Warriros', 'Huston Rocket'], 'answer': 'Huston Rocket'}}, 'maths': {'q1': {'question': '5 + 7 = ?', 'options': ['10', '11', '12', '13'], 'answer': '12'}, 'q2': {'question': '12 - 8 = ?', 'options': ['1', '2', '3', '4'], 'answer': '4'}}}}\n"
     ]
    }
   ],
   "source": [
    "print(data)"
   ]
  },
  {
   "cell_type": "code",
   "execution_count": 13,
   "metadata": {},
   "outputs": [
    {
     "data": {
      "text/plain": [
       "{'q1': {'question': 'Which one is correct team name in NBA?',\n",
       "  'options': ['New York Bulls',\n",
       "   'Los Angeles Kings',\n",
       "   'Golden State Warriros',\n",
       "   'Huston Rocket'],\n",
       "  'answer': 'Huston Rocket'}}"
      ]
     },
     "execution_count": 13,
     "metadata": {},
     "output_type": "execute_result"
    }
   ],
   "source": [
    "data['quiz']['sport']"
   ]
  },
  {
   "cell_type": "markdown",
   "metadata": {},
   "source": [
    "Below is an example of how to serialise a python object to json using the dump method. The dump method takes two required parameters, the python object to be serialised and the file object to which the json data would be written."
   ]
  },
  {
   "cell_type": "code",
   "execution_count": 14,
   "metadata": {},
   "outputs": [],
   "source": [
    "data = {\n",
    "  \"colors\": [\n",
    "    {\n",
    "      \"color\": \"black\",\n",
    "      \"category\": \"hue\",\n",
    "      \"type\": \"primary\",\n",
    "      \"code\": {\n",
    "        \"rgba\": [255,255,255,1],\n",
    "        \"hex\": \"#000\"\n",
    "      }\n",
    "    },\n",
    "    {\n",
    "      \"color\": \"white\",\n",
    "      \"category\": \"value\",\n",
    "      \"code\": {\n",
    "        \"rgba\": [0,0,0,1],\n",
    "        \"hex\": \"#FFF\"\n",
    "      }\n",
    "    },\n",
    "    {\n",
    "      \"color\": \"red\",\n",
    "      \"category\": \"hue\",\n",
    "      \"type\": \"primary\",\n",
    "      \"code\": {\n",
    "        \"rgba\": [255,0,0,1],\n",
    "        \"hex\": \"#FF0\"\n",
    "      }\n",
    "    },\n",
    "    {\n",
    "      \"color\": \"blue\",\n",
    "      \"category\": \"hue\",\n",
    "      \"type\": \"primary\",\n",
    "      \"code\": {\n",
    "        \"rgba\": [0,0,255,1],\n",
    "        \"hex\": \"#00F\"\n",
    "      }\n",
    "    }\n",
    "  ]\n",
    "}"
   ]
  },
  {
   "cell_type": "code",
   "execution_count": 15,
   "metadata": {},
   "outputs": [],
   "source": [
    "with open('colors.json', 'w') as f:\n",
    "    json.dump(data, f)"
   ]
  },
  {
   "cell_type": "markdown",
   "metadata": {},
   "source": [
    "## EXERCISE\n",
    "Load the todo json data from the url https://jsonplaceholder.typicode.com/todos and write to a new csv file all todos that have been completed."
   ]
  },
  {
   "cell_type": "code",
   "execution_count": 1,
   "metadata": {},
   "outputs": [],
   "source": [
    "import requests\n",
    "from bs4 import BeautifulSoup\n",
    "import json\n",
    "import csv"
   ]
  },
  {
   "cell_type": "code",
   "execution_count": 5,
   "metadata": {},
   "outputs": [],
   "source": [
    "data = requests.get('https://jsonplaceholder.typicode.com/todos')\n",
    "json_data = json.loads(data.text)\n"
   ]
  },
  {
   "cell_type": "code",
   "execution_count": null,
   "metadata": {},
   "outputs": [],
   "source": []
  },
  {
   "cell_type": "code",
   "execution_count": null,
   "metadata": {},
   "outputs": [],
   "source": []
  },
  {
   "cell_type": "code",
   "execution_count": 79,
   "metadata": {},
   "outputs": [],
   "source": [
    "j = open('newcompleted.csv', 'w')\n",
    "csv_writer = csv.writer(j)\n",
    "csv_writer.writerow(['userId', 'id', 'title', 'completed'])\n",
    "for el in json_data:\n",
    "    if el['completed'] == True:\n",
    "        csv_writer.writerow([el['userId'], el['id'], el['title'], el['completed']])\n",
    "        \n",
    "        \n",
    "j.close()     "
   ]
  },
  {
   "cell_type": "code",
   "execution_count": null,
   "metadata": {},
   "outputs": [],
   "source": []
  }
 ],
 "metadata": {
  "kernelspec": {
   "display_name": "Python 3",
   "language": "python",
   "name": "python3"
  },
  "language_info": {
   "codemirror_mode": {
    "name": "ipython",
    "version": 3
   },
   "file_extension": ".py",
   "mimetype": "text/x-python",
   "name": "python",
   "nbconvert_exporter": "python",
   "pygments_lexer": "ipython3",
   "version": "3.7.6"
  }
 },
 "nbformat": 4,
 "nbformat_minor": 4
}
