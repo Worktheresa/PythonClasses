{
 "cells": [
  {
   "cell_type": "code",
   "execution_count": 3,
   "id": "8222dcf0-45c0-4f03-90f8-130dfa594c76",
   "metadata": {},
   "outputs": [
    {
     "name": "stdout",
     "output_type": "stream",
     "text": [
      "Welcome to the Number Guessing Game!\n",
      "You start with a balance of ₦2000.\n",
      "\n",
      "Current balance: ₦2000\n"
     ]
    },
    {
     "name": "stdin",
     "output_type": "stream",
     "text": [
      "How much do you want to stake?  500\n",
      "Guess a number between 1 and 10:  5\n"
     ]
    },
    {
     "name": "stdout",
     "output_type": "stream",
     "text": [
      "Sorry, the correct number was 6.\n"
     ]
    },
    {
     "name": "stdin",
     "output_type": "stream",
     "text": [
      "Do you want to continue playing? (yes/no):  No\n"
     ]
    },
    {
     "name": "stdout",
     "output_type": "stream",
     "text": [
      "Thanks for playing! \n",
      " Your final balance is ₦1500 Goodbye!\n"
     ]
    }
   ],
   "source": [
    "import random\n",
    "\n",
    "def main():\n",
    "    balance = 2000\n",
    "    \n",
    "    print(\"Welcome to the Number Guessing Game!\")\n",
    "    print(\"You start with a balance of ₦2000.\")\n",
    "    \n",
    "    while balance > 0:\n",
    "        print(f\"\\nCurrent balance: ₦{balance}\")\n",
    "        stake_amount = int(input(\"How much do you want to stake? \"))\n",
    "        \n",
    "        if stake_amount > balance:\n",
    "            print(\"You cannot stake more than your current balance.\")\n",
    "            continue\n",
    "        \n",
    "        random_no = random.randint(1, 10)\n",
    "        guess = int(input(\"Guess a number between 1 and 10: \"))\n",
    "        \n",
    "        if guess == random_no:\n",
    "            print(\"Congratulations! You guessed the correct number.\")\n",
    "            balance += stake_amount * 2\n",
    "        else:\n",
    "            print(f\"Sorry, the correct number was {random_no}.\")\n",
    "            balance -= stake_amount\n",
    "        \n",
    "        if balance <= 0:\n",
    "            print(\"You have run out of money. Game over!\")\n",
    "            break\n",
    "        \n",
    "        play_again = input(\"Do you want to continue playing? (yes/no): \").lower()\n",
    "        if play_again != \"yes\":\n",
    "            print(\"Thanks for playing!\",f\"\\n Your final balance is ₦{balance}\",\"Goodbye!\")\n",
    "            break\n",
    "\n",
    "if __name__ == \"__main__\":\n",
    "    main()"
   ]
  },
  {
   "cell_type": "code",
   "execution_count": null,
   "id": "82016178-9d50-4a92-91ab-5208403b70bc",
   "metadata": {},
   "outputs": [],
   "source": []
  }
 ],
 "metadata": {
  "kernelspec": {
   "display_name": "Python 3 (ipykernel)",
   "language": "python",
   "name": "python3"
  },
  "language_info": {
   "codemirror_mode": {
    "name": "ipython",
    "version": 3
   },
   "file_extension": ".py",
   "mimetype": "text/x-python",
   "name": "python",
   "nbconvert_exporter": "python",
   "pygments_lexer": "ipython3",
   "version": "3.12.4"
  }
 },
 "nbformat": 4,
 "nbformat_minor": 5
}
