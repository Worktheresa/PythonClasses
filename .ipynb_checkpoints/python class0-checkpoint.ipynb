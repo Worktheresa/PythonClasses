{
 "cells": [
  {
   "cell_type": "code",
   "execution_count": 5,
   "id": "ac767640-c1e1-44fc-b96f-c9d59cc9686f",
   "metadata": {},
   "outputs": [
    {
     "name": "stdout",
     "output_type": "stream",
     "text": [
      "['False', 'None', 'True', 'and', 'as', 'assert', 'async', 'await', 'break', 'class', 'continue', 'def', 'del', 'elif', 'else', 'except', 'finally', 'for', 'from', 'global', 'if', 'import', 'in', 'is', 'lambda', 'nonlocal', 'not', 'or', 'pass', 'raise', 'return', 'try', 'while', 'with', 'yield']\n"
     ]
    }
   ],
   "source": [
    "import keyword\n",
    "print(keyword.kwlist)"
   ]
  },
  {
   "cell_type": "code",
   "execution_count": 51,
   "id": "de93a34d-e41a-4335-9dbd-167febe2cdee",
   "metadata": {},
   "outputs": [
    {
     "name": "stdout",
     "output_type": "stream",
     "text": [
      "neither\n"
     ]
    }
   ],
   "source": [
    "x = 30\n",
    "y = 30\n",
    "\n",
    "if x < y: \n",
    "    print(\"true\"),\n",
    "elif y < x: \n",
    "    print(\"false\"),\n",
    "else:\n",
    "    print(\"neither\")"
   ]
  },
  {
   "cell_type": "code",
   "execution_count": 79,
   "id": "e351e3e7-8be4-42e2-b6ba-e046637a9b5a",
   "metadata": {},
   "outputs": [
    {
     "name": "stdin",
     "output_type": "stream",
     "text": [
      "what is your age 19\n",
      "where are you located Agric\n"
     ]
    }
   ],
   "source": [
    "user_age = input('what is your age')\n",
    "user_location = input('where are you located')"
   ]
  },
  {
   "cell_type": "code",
   "execution_count": 55,
   "id": "765683f5-0d57-45a3-a76b-fb4da86d942b",
   "metadata": {},
   "outputs": [
    {
     "name": "stdout",
     "output_type": "stream",
     "text": [
      "19\n"
     ]
    }
   ],
   "source": [
    "print(user_age)"
   ]
  },
  {
   "cell_type": "code",
   "execution_count": 81,
   "id": "588421a4-bbfc-44e9-ab0c-fa4ac1dec787",
   "metadata": {},
   "outputs": [],
   "source": [
    "age = 18\n",
    "location = 'Agric'"
   ]
  },
  {
   "cell_type": "code",
   "execution_count": 85,
   "id": "4afab744-cfe6-4732-89a9-43b63c4652bf",
   "metadata": {},
   "outputs": [
    {
     "name": "stdout",
     "output_type": "stream",
     "text": [
      "you are eligible to vote\n"
     ]
    }
   ],
   "source": [
    "if (int(user_age) >= age) and (user_location == location):\n",
    "    print('you are eligible to vote')\n",
    "else:\n",
    "    print('you are ineligible to vote')"
   ]
  },
  {
   "cell_type": "code",
   "execution_count": 99,
   "id": "d7e4c03d-c52c-455d-a878-5284cb35be39",
   "metadata": {},
   "outputs": [
    {
     "name": "stdin",
     "output_type": "stream",
     "text": [
      "What is your age 19\n",
      "what is your location Agric\n"
     ]
    },
    {
     "name": "stdout",
     "output_type": "stream",
     "text": [
      "you are eligible to vote\n"
     ]
    }
   ],
   "source": [
    "age = 18\n",
    "location = 'Agric'\n",
    "\n",
    "user_age = input('What is your age')\n",
    "\n",
    "if (int(user_age) >= age):\n",
    "    user_location = input('what is your location')\n",
    "    if (user_location == location):\n",
    "        print('you are eligible to vote')\n",
    "    else:\n",
    "        print('your not in the specified location')\n",
    "else:\n",
    "    print('you are undraged')"
   ]
  },
  {
   "cell_type": "code",
   "execution_count": 11,
   "id": "6d50e42a-1147-4ec2-aff9-8900d33d51cc",
   "metadata": {},
   "outputs": [
    {
     "name": "stdin",
     "output_type": "stream",
     "text": [
      "What is your age 19\n",
      "what is your location Ogijo\n"
     ]
    },
    {
     "name": "stdout",
     "output_type": "stream",
     "text": [
      "your not in the specified location\n"
     ]
    }
   ],
   "source": [
    "age = 18\n",
    "location = 'Agric'\n",
    "\n",
    "user_age = input('What is your age')\n",
    "\n",
    "if (int(user_age) >= age):\n",
    "    user_location = input('what is your location')\n",
    "    if (user_location == location):\n",
    "        print('you are eligible to vote')\n",
    "    else:\n",
    "        print('your not in the specified location')\n",
    "else:\n",
    "    print('you are undraged')"
   ]
  },
  {
   "cell_type": "code",
   "execution_count": 17,
   "id": "370a783a-6e91-4ac8-b1b6-f24b698517bc",
   "metadata": {},
   "outputs": [
    {
     "name": "stdin",
     "output_type": "stream",
     "text": [
      "What is your age 19\n",
      "what is your location Agric\n"
     ]
    },
    {
     "name": "stdout",
     "output_type": "stream",
     "text": [
      "you are eligible to vote\n",
      "you are of age\n"
     ]
    }
   ],
   "source": [
    "age = 18\n",
    "location = 'Agric'\n",
    "\n",
    "user_age = input('What is your age')\n",
    "\n",
    "if (int(user_age) >= age):\n",
    "    user_location = input('what is your location')\n",
    "    if (user_location == location):\n",
    "        print('you are eligible to vote')\n",
    "    else:\n",
    "        print('your not in the specified location')\n",
    "    print('you are of age')\n",
    "else:\n",
    "    print('you are undraged')"
   ]
  },
  {
   "cell_type": "raw",
   "id": "6c126bf6-8077-4199-bdc4-25b3fbc8c623",
   "metadata": {},
   "source": [
    "im a real estate proffesional i have plans selling to people whos salary is above 500k so that i am assured theyd build on the lnd on tim \n",
    "#write an if statement to help m knpw who to sell to"
   ]
  },
  {
   "cell_type": "code",
   "execution_count": null,
   "id": "b06eec41-9685-4dd9-bdb8-dd09585083b2",
   "metadata": {},
   "outputs": [],
   "source": [
    "salary = 500000\n",
    "\n",
    "user_salary = input('How much do you earn per month?')\n",
    "\n",
    "if (int(user_salary) >= salary):\n",
    "    print('You are eligible to purchase a land')\n",
    "else:\n",
    "    pint('You are not eligible to buy a land')"
   ]
  },
  {
   "cell_type": "code",
   "execution_count": 5,
   "id": "403cc0dd-4c4a-4d24-90f8-bc4af388edff",
   "metadata": {},
   "outputs": [
    {
     "name": "stdin",
     "output_type": "stream",
     "text": [
      "What is your name? ay\n",
      "How old are you? 19\n",
      "Whhat is your occupation student\n",
      "Preferred location to acquire land agric\n",
      "Purpose of aquiring land to build a school\n",
      "How much do you earn per month? 3500000\n"
     ]
    },
    {
     "name": "stdout",
     "output_type": "stream",
     "text": [
      "You are eligible to purchase a land\n"
     ]
    }
   ],
   "source": [
    "salary = 500000\n",
    "\n",
    "user_name = input('What is your name?')\n",
    "user_age = input('How old are you?')\n",
    "user_occupation = input('Whhat is your occupation')\n",
    "location = input('Preferred location to acquire land')\n",
    "purpose = input('Purpose of aquiring land')\n",
    "user_salary = input('How much do you earn per month?')\n",
    "\n",
    "if (int(user_salary) >= salary):\n",
    "    print('You are eligible to purchase a land')\n",
    "else:\n",
    "    pint('You are not eligible to buy a land')"
   ]
  },
  {
   "cell_type": "code",
   "execution_count": null,
   "id": "944b14bb-7cdc-445e-8ee1-e1fbf738c7a2",
   "metadata": {},
   "outputs": [],
   "source": []
  }
 ],
 "metadata": {
  "kernelspec": {
   "display_name": "Python 3 (ipykernel)",
   "language": "python",
   "name": "python3"
  },
  "language_info": {
   "codemirror_mode": {
    "name": "ipython",
    "version": 3
   },
   "file_extension": ".py",
   "mimetype": "text/x-python",
   "name": "python",
   "nbconvert_exporter": "python",
   "pygments_lexer": "ipython3",
   "version": "3.12.4"
  }
 },
 "nbformat": 4,
 "nbformat_minor": 5
}
