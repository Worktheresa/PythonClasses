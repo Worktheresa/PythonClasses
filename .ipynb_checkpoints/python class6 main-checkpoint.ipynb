{
 "cells": [
  {
   "cell_type": "markdown",
   "id": "67c4cce6",
   "metadata": {},
   "source": [
    "## Python enumerate() Function"
   ]
  },
  {
   "cell_type": "markdown",
   "id": "f01970f6",
   "metadata": {},
   "source": [
    "The enumerate() function takes a collection (e.g. a tuple) and returns it as an enumerate object.\n",
    "\n",
    "The enumerate() function adds a counter as the key of the enumerate object."
   ]
  },
  {
   "cell_type": "code",
   "execution_count": null,
   "id": "6357219e",
   "metadata": {},
   "outputs": [],
   "source": [
    "# Convert a tuple into an enumerate object\n",
    "x = ('apple', 'banana', 'cherry')\n",
    "y = enumerate(x)\n",
    "print(list(y))"
   ]
  },
  {
   "cell_type": "code",
   "execution_count": null,
   "id": "55cd08c7",
   "metadata": {},
   "outputs": [],
   "source": [
    "grocery = ['bread', 'milk', 'butter']\n",
    "\n",
    "# Loop Over an Enumerate Object\n",
    "for item in enumerate(grocery):\n",
    "  print(item)\n",
    "\n",
    "print()"
   ]
  },
  {
   "cell_type": "code",
   "execution_count": null,
   "id": "105b530f",
   "metadata": {},
   "outputs": [],
   "source": [
    "for count, item in enumerate(grocery):\n",
    "  print(count, item)"
   ]
  },
  {
   "cell_type": "code",
   "execution_count": null,
   "id": "1f7ab03e",
   "metadata": {},
   "outputs": [],
   "source": [
    "# change the default counter and loop \n",
    "for count, item in enumerate(grocery, 100):\n",
    "  print(count, item)"
   ]
  },
  {
   "cell_type": "markdown",
   "id": "9b4907bf",
   "metadata": {},
   "source": [
    "## Python List comprehension"
   ]
  },
  {
   "cell_type": "markdown",
   "id": "9f0da55d",
   "metadata": {},
   "source": [
    "List comprehension offers a shorter syntax when you want to create a new list based on the values of an existing list.\n",
    "\n",
    "Example:\n",
    "\n",
    "Based on a list of fruits, you want a new list, containing only the fruits with the letter \"a\" in the name.\n",
    "\n",
    "Without list comprehension you will have to write a for statement with a conditional test inside:"
   ]
  },
  {
   "cell_type": "code",
   "execution_count": null,
   "id": "b98595b2",
   "metadata": {},
   "outputs": [],
   "source": [
    "fruits = [\"apple\", \"banana\", \"cherry\", \"kiwi\", \"mango\"]\n",
    "newlist = []\n",
    "\n",
    "for x in fruits:\n",
    "  if \"a\" in x:\n",
    "    newlist.append(x)\n",
    "\n",
    "print(newlist)"
   ]
  },
  {
   "cell_type": "code",
   "execution_count": null,
   "id": "f29c7fdc",
   "metadata": {},
   "outputs": [],
   "source": [
    "# With list comprehension you can do all that with only one line of code\n",
    "\n",
    "fruits = [\"apple\", \"banana\", \"cherry\", \"kiwi\", \"mango\"]\n",
    "\n",
    "newlist = [x for x in fruits if \"a\" in x]\n",
    "\n",
    "print(newlist)"
   ]
  },
  {
   "cell_type": "code",
   "execution_count": null,
   "id": "c8315119",
   "metadata": {},
   "outputs": [],
   "source": [
    "# The condition is like a filter that only accepts the items that valuate to True.\n",
    "# Only accept items that are not \"apple\":\n",
    "newlist = [x for x in fruits if x != \"apple\"]"
   ]
  },
  {
   "cell_type": "code",
   "execution_count": null,
   "id": "de732096",
   "metadata": {},
   "outputs": [],
   "source": [
    "newlist = [x for x in fruits]"
   ]
  },
  {
   "cell_type": "code",
   "execution_count": null,
   "id": "fc39f787",
   "metadata": {},
   "outputs": [],
   "source": [
    "#  We can use the range() function to create an iterable:\n",
    "newlist = [x for x in range(10)]"
   ]
  },
  {
   "cell_type": "code",
   "execution_count": null,
   "id": "ee9c4ef1",
   "metadata": {},
   "outputs": [],
   "source": [
    "#accept number lower than 5\n",
    "newlist = [x for x in range(10) if x < 5]"
   ]
  },
  {
   "cell_type": "code",
   "execution_count": null,
   "id": "ecb74588",
   "metadata": {},
   "outputs": [],
   "source": [
    "# Set all values in the new list to 'hello':\n",
    "newlist = ['hello' for x in fruits]"
   ]
  },
  {
   "cell_type": "code",
   "execution_count": null,
   "id": "4fdad8c7",
   "metadata": {},
   "outputs": [],
   "source": [
    "# Return \"orange\" instead of \"banana\":\n",
    "newlist = [x if x != \"banana\" else \"orange\" for x in fruits]"
   ]
  },
  {
   "cell_type": "markdown",
   "id": "c90a76e1",
   "metadata": {},
   "source": [
    "## Python map() Function"
   ]
  },
  {
   "cell_type": "markdown",
   "id": "74c358a9",
   "metadata": {},
   "source": [
    "The map() function executes a specified function for each item in an iterable. The item is sent to the function as a parameter."
   ]
  },
  {
   "cell_type": "code",
   "execution_count": null,
   "id": "75d1c07e",
   "metadata": {},
   "outputs": [],
   "source": [
    "#Calculate the length of each word in the tuple ('timothy', 'joshua', 'larry')\n",
    "def myfunc(n):\n",
    "      return len(n)\n",
    "\n",
    "x = map(myfunc, ('timothy', 'joshua', 'larry'))"
   ]
  },
  {
   "cell_type": "code",
   "execution_count": null,
   "id": "0b0dfb30",
   "metadata": {},
   "outputs": [],
   "source": [
    "# Make new names by sending two iterable objects into the function\n",
    "\n",
    "def myfunc(a, b):\n",
    "      return a + b\n",
    "\n",
    "x = map(myfunc, ('timothy', 'joshua', 'larry')), ('olat', 'john', 'Hillary'))"
   ]
  },
  {
   "cell_type": "code",
   "execution_count": null,
   "id": "7910f2b6",
   "metadata": {},
   "outputs": [],
   "source": []
  },
  {
   "cell_type": "markdown",
   "id": "cf8b810c",
   "metadata": {},
   "source": [
    "### Global Scope"
   ]
  },
  {
   "cell_type": "raw",
   "id": "df8bbc72",
   "metadata": {},
   "source": [
    "A variable created in the main body of the Python code is a global variable and belongs to the global scope.\n",
    "Global variables are available from within any scope, global and local."
   ]
  },
  {
   "cell_type": "markdown",
   "id": "b1afd06c",
   "metadata": {},
   "source": [
    "### What is a Module?"
   ]
  },
  {
   "cell_type": "raw",
   "id": "53571715",
   "metadata": {},
   "source": [
    "Consider a module to be the same as a code library.\n",
    "A file containing a set of functions you want to include in your application."
   ]
  },
  {
   "cell_type": "code",
   "execution_count": 7,
   "id": "702aecd0",
   "metadata": {},
   "outputs": [],
   "source": [
    "#Save this code in a file named mymodule.py\n",
    "\n",
    "def greeting(name):\n",
    "    print(\"Hello, \" + name)"
   ]
  },
  {
   "cell_type": "code",
   "execution_count": 1,
   "id": "aa8fc4b4",
   "metadata": {},
   "outputs": [
    {
     "name": "stdout",
     "output_type": "stream",
     "text": [
      "Hello, Jonathan\n"
     ]
    }
   ],
   "source": [
    "#Import the module named mymodule, and call the greeting function:\n",
    "import mymodule\n",
    "mymodule.greeting(\"Jonathan\")"
   ]
  },
  {
   "cell_type": "raw",
   "id": "4e211864",
   "metadata": {},
   "source": [
    "Variables in Module:\n",
    "\n",
    "The module can contain functions, as already described, \n",
    "but also variables of all types (arrays, dictionaries, objects etc):"
   ]
  },
  {
   "cell_type": "code",
   "execution_count": null,
   "id": "4ce4c1c7",
   "metadata": {},
   "outputs": [],
   "source": [
    "#Save this code in the file mymodule.py\n",
    "person1 = {\n",
    "  \"name\": \"John\",\n",
    "  \"age\": 36,\n",
    "  \"country\": \"Norway\"\n",
    "}"
   ]
  },
  {
   "cell_type": "code",
   "execution_count": 2,
   "id": "ca815361",
   "metadata": {},
   "outputs": [
    {
     "name": "stdout",
     "output_type": "stream",
     "text": [
      "36\n"
     ]
    }
   ],
   "source": [
    "#Import the module named mymodule, and access the person1 dictionary:\n",
    "import mymodule as mm\n",
    "a = mm.person1['age']\n",
    "print(a)"
   ]
  },
  {
   "cell_type": "code",
   "execution_count": null,
   "id": "ecd06846",
   "metadata": {},
   "outputs": [],
   "source": []
  },
  {
   "cell_type": "markdown",
   "id": "245e29c3",
   "metadata": {},
   "source": [
    "### Naming a Module\n",
    "\n",
    "You can name the module file whatever you like, but it must have the file extension .py\n",
    "\n",
    "### Re-naming a Module\n",
    "\n",
    "You can create an alias when you import a module, by using the as keyword:"
   ]
  },
  {
   "cell_type": "code",
   "execution_count": null,
   "id": "6ac52e84",
   "metadata": {},
   "outputs": [],
   "source": [
    "#Create an alias for mymodule called mx:\n",
    "import mymodule as mx\n",
    "\n",
    "a = mx.person1[\"age\"]\n",
    "print(a)"
   ]
  },
  {
   "cell_type": "raw",
   "id": "34106902",
   "metadata": {},
   "source": [
    "Using the dir() Function\n",
    "There is a built-in function to list all the function names (or variable names) in a module. \n",
    "The dir() function:"
   ]
  },
  {
   "cell_type": "code",
   "execution_count": null,
   "id": "f9203d04",
   "metadata": {},
   "outputs": [],
   "source": [
    "#List all the defined names belonging to the platform module:\n",
    "import platform\n",
    "\n",
    "x = dir(platform)\n",
    "print(x)"
   ]
  },
  {
   "cell_type": "code",
   "execution_count": null,
   "id": "a655d878",
   "metadata": {},
   "outputs": [],
   "source": [
    "#The module named mymodule has one function and one dictionary:\n",
    "def greeting(name):\n",
    "    print(\"Hello, \" + name)\n",
    "\n",
    "person1 = {\n",
    "  \"name\": \"John\",\n",
    "  \"age\": 36,\n",
    "  \"country\": \"Norway\"\n",
    "}"
   ]
  },
  {
   "cell_type": "code",
   "execution_count": null,
   "id": "b5586782",
   "metadata": {},
   "outputs": [],
   "source": [
    "from mymodule import person1\n",
    "\n",
    "print (person1[\"age\"])"
   ]
  },
  {
   "cell_type": "markdown",
   "id": "b8467ff0",
   "metadata": {},
   "source": [
    "## Python Dates"
   ]
  },
  {
   "cell_type": "raw",
   "id": "de0aea1f",
   "metadata": {},
   "source": [
    "A date in Python is not a data type of its own,\n",
    "but we can import a module named datetime to work with dates as date objects."
   ]
  },
  {
   "cell_type": "code",
   "execution_count": 1,
   "id": "5c1740e0",
   "metadata": {},
   "outputs": [
    {
     "name": "stdout",
     "output_type": "stream",
     "text": [
      "2023-09-06 07:27:27.137619\n"
     ]
    }
   ],
   "source": [
    "#Import the datetime module and display the current date:\n",
    "import datetime\n",
    "\n",
    "x = datetime.datetime.now()\n",
    "print(x)"
   ]
  },
  {
   "cell_type": "markdown",
   "id": "ea22d0c2",
   "metadata": {},
   "source": [
    "## Date Output"
   ]
  },
  {
   "cell_type": "raw",
   "id": "182572f4",
   "metadata": {},
   "source": [
    "When we execute the code from the example above the result will be:\n",
    "\n",
    "2022-02-07 15:37:33.964149\n",
    "The date contains year, month, day, hour, minute, second, and microsecond.\n",
    "\n",
    "The datetime module has many methods to return information about the date object.\n",
    "\n",
    "Here are a few examples, you will learn more about them later in this chapter:"
   ]
  },
  {
   "cell_type": "code",
   "execution_count": 7,
   "id": "e28b6100",
   "metadata": {},
   "outputs": [
    {
     "name": "stdout",
     "output_type": "stream",
     "text": [
      "2023\n",
      "09/06/23\n"
     ]
    }
   ],
   "source": [
    "#Return the year and name of weekday:\n",
    "import datetime\n",
    "\n",
    "x = datetime.datetime.now()\n",
    "\n",
    "print(x.year)\n",
    "print(x.strftime(\"%D\")) #from A to D"
   ]
  },
  {
   "cell_type": "raw",
   "id": "167cabe7",
   "metadata": {},
   "source": [
    "Creating Date Objects\n",
    "To create a date, we can use the datetime() class (constructor) of the datetime module.\n",
    "\n",
    "The datetime() class requires three parameters to create a date: year, month, day."
   ]
  },
  {
   "cell_type": "code",
   "execution_count": null,
   "id": "792330c2",
   "metadata": {},
   "outputs": [],
   "source": []
  },
  {
   "cell_type": "code",
   "execution_count": null,
   "id": "68dd16be",
   "metadata": {},
   "outputs": [],
   "source": []
  },
  {
   "cell_type": "code",
   "execution_count": 8,
   "id": "04c1902e",
   "metadata": {},
   "outputs": [
    {
     "name": "stdout",
     "output_type": "stream",
     "text": [
      "2020-05-17 00:00:00\n"
     ]
    }
   ],
   "source": [
    "#Create a date object:\n",
    "import datetime\n",
    "\n",
    "x = datetime.datetime(2020, 5, 17)\n",
    "\n",
    "print(x)"
   ]
  },
  {
   "cell_type": "raw",
   "id": "158c94c2",
   "metadata": {},
   "source": [
    "The strftime() Method\n",
    "The datetime object has a method for formatting date objects into readable strings.\n",
    "The method is called strftime(), and takes one parameter, format, \n",
    "to specify the format of the returned string"
   ]
  },
  {
   "cell_type": "code",
   "execution_count": 9,
   "id": "151ee037",
   "metadata": {},
   "outputs": [
    {
     "name": "stdout",
     "output_type": "stream",
     "text": [
      "June\n"
     ]
    }
   ],
   "source": [
    "#Display the name of the month:\n",
    "import datetime\n",
    "x = datetime.datetime(2018, 6, 1)\n",
    "\n",
    "print(x.strftime(\"%B\"))"
   ]
  },
  {
   "cell_type": "markdown",
   "id": "24dba41d",
   "metadata": {},
   "source": [
    "### Built-in Math Functions"
   ]
  },
  {
   "cell_type": "raw",
   "id": "cc13394d",
   "metadata": {},
   "source": [
    "The min() and max() functions can be used to find the lowest or highest value in an iterable"
   ]
  },
  {
   "cell_type": "code",
   "execution_count": null,
   "id": "c424eec1",
   "metadata": {},
   "outputs": [],
   "source": [
    "x = min(5, 10, 25)\n",
    "y = max(5, 10, 25)\n",
    "\n",
    "print(x)\n",
    "print(y)"
   ]
  },
  {
   "cell_type": "raw",
   "id": "5d9b0d7b",
   "metadata": {},
   "source": [
    "The abs() function returns the absolute (positive) value of the specified number:"
   ]
  },
  {
   "cell_type": "code",
   "execution_count": 3,
   "id": "bc6f24e2",
   "metadata": {},
   "outputs": [
    {
     "name": "stdout",
     "output_type": "stream",
     "text": [
      "7.25\n"
     ]
    }
   ],
   "source": [
    "x = abs(-7.25)\n",
    "\n",
    "print(x)"
   ]
  },
  {
   "cell_type": "code",
   "execution_count": null,
   "id": "ea5922a7",
   "metadata": {},
   "outputs": [],
   "source": [
    "import math"
   ]
  },
  {
   "cell_type": "markdown",
   "id": "3c2a1d31",
   "metadata": {},
   "source": [
    "When you have imported the math module, you can start using methods and constants of the module.\n",
    "\n",
    "The math.sqrt() method for example, returns the square root of a number:"
   ]
  },
  {
   "cell_type": "code",
   "execution_count": null,
   "id": "0e07b9c1",
   "metadata": {},
   "outputs": [],
   "source": [
    "import math\n",
    "\n",
    "x = math.sqrt(64)\n",
    "print(x)"
   ]
  },
  {
   "cell_type": "code",
   "execution_count": null,
   "id": "fcecfb8e",
   "metadata": {},
   "outputs": [],
   "source": []
  },
  {
   "cell_type": "markdown",
   "id": "ffdca706",
   "metadata": {},
   "source": [
    "The math.ceil() method rounds a number upwards to its nearest integer, \n",
    "and the math.floor() method rounds a number downwards to its nearest integer, and returns the result:"
   ]
  },
  {
   "cell_type": "code",
   "execution_count": null,
   "id": "5b3054b1",
   "metadata": {},
   "outputs": [],
   "source": [
    "import math\n",
    "\n",
    "x = math.ceil(1.4)\n",
    "y = math.floor(1.4)\n",
    "\n",
    "print(x) # returns 2\n",
    "print(y) # returns 1"
   ]
  },
  {
   "cell_type": "code",
   "execution_count": null,
   "id": "7f3093e5",
   "metadata": {},
   "outputs": [],
   "source": [
    "#The math.pi constant, returns the value of PI (3.14...):"
   ]
  },
  {
   "cell_type": "code",
   "execution_count": 4,
   "id": "545263c3",
   "metadata": {},
   "outputs": [
    {
     "name": "stdout",
     "output_type": "stream",
     "text": [
      "3.141592653589793\n"
     ]
    }
   ],
   "source": [
    "import math\n",
    "\n",
    "x = math.pi\n",
    "\n",
    "print(x)"
   ]
  },
  {
   "cell_type": "markdown",
   "id": "98835d01",
   "metadata": {},
   "source": [
    "## JSON in Python"
   ]
  },
  {
   "cell_type": "code",
   "execution_count": null,
   "id": "0d5f9130",
   "metadata": {},
   "outputs": [],
   "source": [
    "#Import the json module:\n",
    "\n",
    "#import json"
   ]
  },
  {
   "cell_type": "code",
   "execution_count": null,
   "id": "5818ed0e",
   "metadata": {},
   "outputs": [],
   "source": [
    "#Convert from JSON to Python:\n",
    "\n",
    "import json\n",
    "\n",
    "# some JSON:\n",
    "x =  '{ \"name\":\"John\", \"age\":30, \"city\":\"New York\"}'\n",
    "\n",
    "# parse x:\n",
    "y = json.loads(x)\n",
    "\n",
    "# the result is a Python dictionary:\n",
    "print(y[\"age\"])"
   ]
  },
  {
   "cell_type": "code",
   "execution_count": null,
   "id": "e07d1387",
   "metadata": {},
   "outputs": [],
   "source": [
    "#Convert from Python to JSON:\n",
    "import json\n",
    "\n",
    "# a Python object (dict):\n",
    "x = {\n",
    "  \"name\": \"John\",\n",
    "  \"age\": 30,\n",
    "  \"city\": \"New York\"\n",
    "}\n",
    "\n",
    "# convert into JSON:\n",
    "y = json.dumps(x)\n",
    "\n",
    "# the result is a JSON string:\n",
    "print(y)"
   ]
  },
  {
   "cell_type": "markdown",
   "id": "9878913f",
   "metadata": {},
   "source": [
    "### RegEx Module"
   ]
  },
  {
   "cell_type": "raw",
   "id": "d66b02c9",
   "metadata": {},
   "source": [
    "Python has a built-in package called re, which can be used to work with Regular Expressions."
   ]
  },
  {
   "cell_type": "code",
   "execution_count": 6,
   "id": "6563128a",
   "metadata": {},
   "outputs": [
    {
     "data": {
      "text/plain": [
       "<re.Match object; span=(0, 17), match='The rain in Spain'>"
      ]
     },
     "execution_count": 6,
     "metadata": {},
     "output_type": "execute_result"
    }
   ],
   "source": [
    "#Search the string to see if it starts with \"The\" and ends with \"Spain\":\n",
    "\n",
    "import re\n",
    "\n",
    "txt = \"The rain in Spain\"\n",
    "x = re.search(\"^The.*Spain$\", txt)\n",
    "x"
   ]
  },
  {
   "cell_type": "code",
   "execution_count": null,
   "id": "e2023bb6",
   "metadata": {},
   "outputs": [],
   "source": [
    "#The findall() function returns a list containing all matches.\n",
    "import re\n",
    "\n",
    "txt = \"The rain in Spain\"\n",
    "x = re.findall(\"ai\", txt)\n",
    "print(x)"
   ]
  },
  {
   "cell_type": "code",
   "execution_count": null,
   "id": "ec38396a",
   "metadata": {},
   "outputs": [],
   "source": [
    "import re\n",
    "\n",
    "txt = \"The rain in Spain\"\n",
    "x = re.findall(\"Portugal\", txt)\n",
    "print(x)"
   ]
  },
  {
   "cell_type": "code",
   "execution_count": null,
   "id": "eb39904f",
   "metadata": {},
   "outputs": [],
   "source": [
    "#The search() Function\n",
    "#The search() function searches the string for a match, and returns a Match object if there is a match.\n",
    "\n",
    "#If there is more than one match, only the first occurrence of the match will be returned:"
   ]
  },
  {
   "cell_type": "code",
   "execution_count": null,
   "id": "5561b983",
   "metadata": {},
   "outputs": [],
   "source": [
    "#Search for the first white-space character in the string:\n",
    "import re\n",
    "\n",
    "txt = \"The rain in Spain\"\n",
    "x = re.search(\"\\s\", txt)\n",
    "\n",
    "print(\"The first white-space character is located in position:\", x.start())"
   ]
  },
  {
   "cell_type": "code",
   "execution_count": null,
   "id": "62801f1c",
   "metadata": {},
   "outputs": [],
   "source": [
    "import re\n",
    "\n",
    "txt = \"The rain in Spain\"\n",
    "x = re.search(\"Portugal\", txt)\n",
    "print(x)"
   ]
  },
  {
   "cell_type": "code",
   "execution_count": null,
   "id": "d1dae9c6",
   "metadata": {},
   "outputs": [],
   "source": [
    "#The split() function returns a list where the string has been split at each match:\n",
    "import re\n",
    "\n",
    "txt = \"The rain in Spain\"\n",
    "x = re.split(\"\\s\", txt)\n",
    "print(x)"
   ]
  },
  {
   "cell_type": "code",
   "execution_count": null,
   "id": "d9b98f6f",
   "metadata": {},
   "outputs": [],
   "source": [
    "#Split the string only at the first occurrence:\n",
    "\n",
    "import re\n",
    "\n",
    "txt = \"The rain in Spain\"\n",
    "x = re.split(\"\\s\", txt, 1)\n",
    "print(x)"
   ]
  },
  {
   "cell_type": "code",
   "execution_count": 7,
   "id": "228c9611",
   "metadata": {},
   "outputs": [
    {
     "name": "stdout",
     "output_type": "stream",
     "text": [
      "The9rain9in9Spain\n"
     ]
    }
   ],
   "source": [
    "#Replace every white-space character with the number 9:\n",
    "\n",
    "import re\n",
    "\n",
    "txt = \"The rain in Spain\"\n",
    "x = re.sub(\"\\s\", \"9\", txt)\n",
    "print(x)"
   ]
  },
  {
   "cell_type": "code",
   "execution_count": null,
   "id": "ed6c03cd",
   "metadata": {},
   "outputs": [],
   "source": [
    "#Replace the first 2 occurrences:\n",
    "import re\n",
    "\n",
    "txt = \"The rain in Spain\"\n",
    "x = re.sub(\"\\s\", \"9\", txt, 2)\n",
    "print(x)"
   ]
  },
  {
   "cell_type": "code",
   "execution_count": null,
   "id": "b6577e1f",
   "metadata": {},
   "outputs": [],
   "source": [
    "#Do a search that will return a Match Object:\n",
    "\n",
    "import re\n",
    "\n",
    "txt = \"The rain in Spain\"\n",
    "x = re.search(\"ai\", txt)\n",
    "print(x) #this will print an object"
   ]
  },
  {
   "cell_type": "code",
   "execution_count": null,
   "id": "9b755c61",
   "metadata": {},
   "outputs": [],
   "source": [
    "#Print the position (start- and end-position) of the first match occurrence.\n",
    "\n",
    "#The regular expression looks for any words that starts with an upper case \"S\":\n",
    "\n",
    "import re\n",
    "\n",
    "txt = \"The rain in Spain\"\n",
    "x = re.search(r\"\\bS\\w+\", txt)\n",
    "print(x.span())"
   ]
  },
  {
   "cell_type": "code",
   "execution_count": null,
   "id": "9021e863",
   "metadata": {},
   "outputs": [],
   "source": [
    "import re\n",
    "\n",
    "txt = \"The rain in Spain\"\n",
    "x = re.search(r\"\\bS\\w+\", txt)\n",
    "print(x.string)"
   ]
  },
  {
   "cell_type": "code",
   "execution_count": null,
   "id": "bdcfb212",
   "metadata": {},
   "outputs": [],
   "source": [
    "#Print the part of the string where there was a match.\n",
    "\n",
    "#The regular expression looks for any words that starts with an upper case \"S\":\n",
    "\n",
    "import re\n",
    "\n",
    "txt = \"The rain in Spain\"\n",
    "x = re.search(r\"\\bS\\w+\", txt)\n",
    "print(x.group())"
   ]
  },
  {
   "cell_type": "markdown",
   "id": "6cf8e022",
   "metadata": {},
   "source": [
    "## Python Try Except"
   ]
  },
  {
   "cell_type": "raw",
   "id": "7c3f0d05",
   "metadata": {},
   "source": [
    "The try block lets you test a block of code for errors.\n",
    "\n",
    "The except block lets you handle the error.\n",
    "\n",
    "The else block lets you execute code when there is no error.\n",
    "\n",
    "The finally block lets you execute code, regardless of the result of the try- and except blocks."
   ]
  },
  {
   "cell_type": "markdown",
   "id": "2095ac98",
   "metadata": {},
   "source": [
    "## Exception Handling"
   ]
  },
  {
   "cell_type": "raw",
   "id": "deba5cfe",
   "metadata": {},
   "source": [
    "When an error occurs, or exception as we call it, Python will normally stop and generate an error message.\n",
    "\n",
    "These exceptions can be handled using the try statement:"
   ]
  },
  {
   "cell_type": "code",
   "execution_count": null,
   "id": "7fe04e97",
   "metadata": {},
   "outputs": [],
   "source": [
    "#The try block will generate an exception, because x is not defined:\n",
    "\n",
    "try:\n",
    "  print(x)\n",
    "except:\n",
    "  print(\"An exception occurred\")"
   ]
  },
  {
   "cell_type": "code",
   "execution_count": null,
   "id": "f03a4a73",
   "metadata": {},
   "outputs": [],
   "source": [
    "#Raise an error and stop the program if x is lower than 0:\n",
    "\n",
    "x = -1\n",
    "\n",
    "if x < 0:\n",
    "    raise Exception(\"Sorry, no numbers below zero\")"
   ]
  },
  {
   "cell_type": "code",
   "execution_count": null,
   "id": "98262b58",
   "metadata": {},
   "outputs": [],
   "source": [
    "#Raise a TypeError if x is not an integer:\n",
    "\n",
    "x = \"hello\"\n",
    "\n",
    "if not type(x) is int:\n",
    "    raise TypeError(\"Only integers are allowed\")"
   ]
  },
  {
   "cell_type": "code",
   "execution_count": null,
   "id": "e4d839b5",
   "metadata": {},
   "outputs": [],
   "source": []
  },
  {
   "cell_type": "code",
   "execution_count": null,
   "id": "e1a15a09",
   "metadata": {},
   "outputs": [],
   "source": []
  },
  {
   "cell_type": "code",
   "execution_count": null,
   "id": "c542c550",
   "metadata": {},
   "outputs": [],
   "source": []
  },
  {
   "cell_type": "code",
   "execution_count": null,
   "id": "cbba0b82",
   "metadata": {},
   "outputs": [],
   "source": []
  }
 ],
 "metadata": {
  "kernelspec": {
   "display_name": "Python 3 (ipykernel)",
   "language": "python",
   "name": "python3"
  },
  "language_info": {
   "codemirror_mode": {
    "name": "ipython",
    "version": 3
   },
   "file_extension": ".py",
   "mimetype": "text/x-python",
   "name": "python",
   "nbconvert_exporter": "python",
   "pygments_lexer": "ipython3",
   "version": "3.9.7"
  }
 },
 "nbformat": 4,
 "nbformat_minor": 5
}
