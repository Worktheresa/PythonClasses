{
 "cells": [
  {
   "cell_type": "code",
   "execution_count": 1,
   "id": "36b17727-a572-49b9-82f5-a74231a708c0",
   "metadata": {},
   "outputs": [
    {
     "name": "stdout",
     "output_type": "stream",
     "text": [
      "Customer Details: Temitope Smith 22100881915 Savings ₦200000\n"
     ]
    }
   ],
   "source": [
    "class Bank:\n",
    "    def __init__(self, customer_fname, customer_lname, account_number, account_type, account_balance):\n",
    "        self.customer_fname = customer_fname\n",
    "        self.customer_lname = customer_lname\n",
    "        self.account_number = account_number\n",
    "        self.account_type = account_type\n",
    "        self.account_balance = account_balance\n",
    "\n",
    "    def customerDetails(self):\n",
    "        print('Customer Details:', self.customer_fname, self.customer_lname, self.account_number, self.account_type, f\"₦{self.account_balance}\")\n",
    "\n",
    "bnk = Bank('Temitope', 'Smith', 22100881915, 'Savings', 200000)\n",
    "bnk.customerDetails()"
   ]
  },
  {
   "cell_type": "code",
   "execution_count": 3,
   "id": "c96ced97-5bc5-403d-8961-3ac93ac97e99",
   "metadata": {},
   "outputs": [
    {
     "name": "stdout",
     "output_type": "stream",
     "text": [
      "\n",
      "Current Balance: ₦200000\n"
     ]
    },
    {
     "name": "stdin",
     "output_type": "stream",
     "text": [
      "Enter Withdrawal Amount: 30000\n"
     ]
    },
    {
     "name": "stdout",
     "output_type": "stream",
     "text": [
      "Withdrawal Successful\n",
      "\n",
      "New Balance: ₦170000\n"
     ]
    },
    {
     "name": "stdin",
     "output_type": "stream",
     "text": [
      "Enter Deposit Amount: 50000\n"
     ]
    },
    {
     "name": "stdout",
     "output_type": "stream",
     "text": [
      "Deposit Successful\n",
      "\n",
      "New Balance: ₦220000\n",
      "\n",
      "Current Balance: ₦220000\n"
     ]
    }
   ],
   "source": [
    "class Account(Bank):\n",
    "        \n",
    "    def withdrawal(self):\n",
    "\n",
    "        print(f'\\nCurrent Balance: ₦{self.account_balance}')\n",
    "        withdrawal_amount = int(input('Enter Withdrawal Amount:'))\n",
    "\n",
    "        if withdrawal_amount > self.account_balance:\n",
    "            print('Insufficient Funds')\n",
    "\n",
    "        elif withdrawal_amount < 100:\n",
    "            print(\"You can't withdraw less than ₦100\")\n",
    "            \n",
    "        else: \n",
    "            self.account_balance -= withdrawal_amount\n",
    "            print('Withdrawal Successful')\n",
    "            print(f'\\nNew Balance: ₦{self.account_balance}')\n",
    "\n",
    "    \n",
    "                                    \n",
    "    def deposit(self):\n",
    "\n",
    "        deposit_amount = int(input('Enter Deposit Amount:'))\n",
    "\n",
    "        if deposit_amount > 1000000:\n",
    "            self.account_balance += deposit_amount\n",
    "            print('Deposite Successful')\n",
    "            print(f'\\nYour Account Has Been Frozen Visit The Nearest Bank Outlet To Rectify The Issue And Upgrade Your Account To a Current Account') \n",
    "            \n",
    "        else:\n",
    "            self.account_balance += deposit_amount\n",
    "            print('Deposit Successful')\n",
    "            print(f'\\nNew Balance: ₦{self.account_balance}')\n",
    "\n",
    "    \n",
    "            \n",
    "    def check_balance(self):\n",
    "        print(f'\\nCurrent Balance: ₦{self.account_balance}')\n",
    "\n",
    "acc = Account('Temitope', 'Smith', 22100881915, 'Savings', 200000)\n",
    "acc.withdrawal()\n",
    "acc.deposit()\n",
    "acc.check_balance()"
   ]
  },
  {
   "cell_type": "code",
   "execution_count": null,
   "id": "508b5a56-9d0c-46a9-9a8e-c0e8411741de",
   "metadata": {},
   "outputs": [],
   "source": [
    " def __init__(self, customer_fname, customer_lname, account_number, account_balance):\n",
    "        super().__init__(customer_fname, customer_lname, account_number, account_balance)"
   ]
  }
 ],
 "metadata": {
  "kernelspec": {
   "display_name": "Python 3 (ipykernel)",
   "language": "python",
   "name": "python3"
  },
  "language_info": {
   "codemirror_mode": {
    "name": "ipython",
    "version": 3
   },
   "file_extension": ".py",
   "mimetype": "text/x-python",
   "name": "python",
   "nbconvert_exporter": "python",
   "pygments_lexer": "ipython3",
   "version": "3.12.4"
  }
 },
 "nbformat": 4,
 "nbformat_minor": 5
}
