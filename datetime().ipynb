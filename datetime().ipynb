{
 "cells": [
  {
   "cell_type": "code",
   "execution_count": null,
   "id": "2fe891ba-0074-4b0d-8878-bf570fc10ee9",
   "metadata": {},
   "outputs": [],
   "source": [
    "import datetime \n",
    "\n",
    "task_name = input('Name of Task to be Carried Out:')\n",
    "date = input('Date Task Should be carried out:')\n",
    "time = input('Time Task Should be Executed:')\n",
    "\n",
    "\n",
    "date_format = \"%Y-%m-%d %H:%M:%S\"\n",
    "\n",
    "def task_reminder()"
   ]
  }
 ],
 "metadata": {
  "kernelspec": {
   "display_name": "Python 3 (ipykernel)",
   "language": "python",
   "name": "python3"
  },
  "language_info": {
   "codemirror_mode": {
    "name": "ipython",
    "version": 3
   },
   "file_extension": ".py",
   "mimetype": "text/x-python",
   "name": "python",
   "nbconvert_exporter": "python",
   "pygments_lexer": "ipython3",
   "version": "3.12.4"
  }
 },
 "nbformat": 4,
 "nbformat_minor": 5
}
