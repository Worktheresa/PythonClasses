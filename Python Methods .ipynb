{
 "cells": [
  {
   "cell_type": "markdown",
   "id": "f28e79ad-2b41-4181-ba41-c021f29035a9",
   "metadata": {},
   "source": [
    "Python Methods"
   ]
  },
  {
   "cell_type": "raw",
   "id": "0187cfe2-6924-4907-a7e9-5a57f1d8a96f",
   "metadata": {},
   "source": [
    "In Python, methods are functions that are defined within a class and are designed to work with the data contained in instances of that class. \n",
    "There are different types of methods in Python, including instance methods and static methods. Here’s an explanation of both"
   ]
  }
 ],
 "metadata": {
  "kernelspec": {
   "display_name": "Python 3 (ipykernel)",
   "language": "python",
   "name": "python3"
  },
  "language_info": {
   "codemirror_mode": {
    "name": "ipython",
    "version": 3
   },
   "file_extension": ".py",
   "mimetype": "text/x-python",
   "name": "python",
   "nbconvert_exporter": "python",
   "pygments_lexer": "ipython3",
   "version": "3.12.4"
  }
 },
 "nbformat": 4,
 "nbformat_minor": 5
}
